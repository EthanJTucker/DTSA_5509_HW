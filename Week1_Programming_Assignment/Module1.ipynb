{
 "cells": [
  {
   "cell_type": "markdown",
   "metadata": {
    "deletable": false,
    "editable": false,
    "nbgrader": {
     "cell_type": "markdown",
     "checksum": "9d80341db7baace5045a5826cd783d0f",
     "grade": false,
     "grade_id": "cell-0b5b35a96a71be61",
     "locked": true,
     "schema_version": 3,
     "solution": false,
     "task": false
    }
   },
   "source": [
    "### Grading\n",
    "The final score that you will receive for your programming assignment is generated in relation to the total points set in your programming assignment item—not the total point value in the nbgrader notebook.<br>\n",
    "When calculating the final score shown to learners, the programming assignment takes the percentage of earned points vs. the total points provided by nbgrader and returns a score matching the equivalent percentage of the point value for the programming assignment. <br>\n",
    "**DO NOT CHANGE VARIABLE OR METHOD SIGNATURES** The autograder will not work properly if your change the variable or method signatures. "
   ]
  },
  {
   "cell_type": "markdown",
   "metadata": {},
   "source": [
    "### Validate Button\n",
    "Please note that this assignment uses nbgrader to facilitate grading. You will see a **validate button** at the top of your Jupyter notebook. If you hit this button, it will run tests cases for the lab that aren't hidden. It is good to use the validate button before submitting the lab. Do know that the labs in the course contain hidden test cases. The validate button will not let you know whether these test cases pass. After submitting your lab, you can see more information about these hidden test cases in the Grader Output. <br>\n",
    "***Cells with longer execution times will cause the validate button to time out and freeze. Please know that if you run into Validate time-outs, it will not affect the final submission grading.*** <br>"
   ]
  },
  {
   "cell_type": "markdown",
   "metadata": {
    "deletable": false,
    "editable": false,
    "nbgrader": {
     "cell_type": "markdown",
     "checksum": "ce8df33450ff36ea8f60a0dc08b7c917",
     "grade": false,
     "grade_id": "cell-2269ea6b4acb7d83",
     "locked": true,
     "schema_version": 3,
     "solution": false,
     "task": false
    }
   },
   "source": [
    "# Part 1. Data cleaning and Exploratory Data Analysis (EDA)\n",
    "\n",
    "This part will practice data cleaning and Exploratory Data Analysis (EDA) using a house price dataset and mpg dataset.<br>\n",
    "The first dataset is from a Kaggle competition (https://www.kaggle.com/c/house-prices-advanced-regression-techniques/overview), where the task is to predict a house sale price given house features."
   ]
  },
  {
   "cell_type": "code",
   "execution_count": 90,
   "metadata": {
    "deletable": false,
    "editable": false,
    "nbgrader": {
     "cell_type": "code",
     "checksum": "aac7720d21bf941850510343471e6a1b",
     "grade": false,
     "grade_id": "cell-7bcce53519ddd6fc",
     "locked": true,
     "schema_version": 3,
     "solution": false,
     "task": false
    }
   },
   "outputs": [
    {
     "name": "stdout",
     "output_type": "stream",
     "text": [
      "data  Module1.ipynb\r\n"
     ]
    }
   ],
   "source": [
    "!ls"
   ]
  },
  {
   "cell_type": "code",
   "execution_count": 91,
   "metadata": {
    "deletable": false,
    "editable": false,
    "nbgrader": {
     "cell_type": "code",
     "checksum": "224c88fe3018f402a9d0fc9e1f6aa9f1",
     "grade": false,
     "grade_id": "cell-be296cfc3517ca28",
     "locked": true,
     "schema_version": 3,
     "solution": false,
     "task": false
    }
   },
   "outputs": [],
   "source": [
    "import pandas as pd\n",
    "import matplotlib.pyplot as plt\n",
    "import numpy as np\n",
    "import math"
   ]
  },
  {
   "cell_type": "markdown",
   "metadata": {
    "deletable": false,
    "editable": false,
    "nbgrader": {
     "cell_type": "markdown",
     "checksum": "b9d0cea4e9d8310e45416055f34ed591",
     "grade": false,
     "grade_id": "cell-7714e2bdf5952e3f",
     "locked": true,
     "schema_version": 3,
     "solution": false,
     "task": false
    }
   },
   "source": [
    "## 1. Import data and visually inspect the table [9 pts]\n",
    "### 1a) Data import and basic inspection. [5 pts]\n",
    "We can import the csv data using `pd.read_csv()` function. We can use `df.head()` and `df.tail()` to show the first and last 5 entries. `df.iloc[[3,5,7]]` shows the entries corresponding to the index 3,5,7. \n",
    "What is the maximum value of the feature `MSSubClass` among the last 10 entries? Update the value of `maxval` to the correct integer value."
   ]
  },
  {
   "cell_type": "code",
   "execution_count": 98,
   "metadata": {
    "deletable": false,
    "nbgrader": {
     "cell_type": "code",
     "checksum": "3a865611cb735d837742bea8d6b77e2e",
     "grade": false,
     "grade_id": "cell-cb3fee7b585bdbbe",
     "locked": false,
     "schema_version": 3,
     "solution": true,
     "task": false
    }
   },
   "outputs": [
    {
     "data": {
      "text/plain": [
       "180"
      ]
     },
     "execution_count": 98,
     "metadata": {},
     "output_type": "execute_result"
    }
   ],
   "source": [
    "df = pd.read_csv('data/house_data.csv') #it is the same data as the kaggle competition's train.csv.\n",
    "# your code here\n",
    "\n",
    "# uncomment maxval and update the correct integer value\n",
    "maxval = df.tail(10)[\"MSSubClass\"].max()\n",
    "\n",
    "maxval"
   ]
  },
  {
   "cell_type": "code",
   "execution_count": 99,
   "metadata": {
    "deletable": false,
    "editable": false,
    "nbgrader": {
     "cell_type": "code",
     "checksum": "9976c00475926306b5361b0524b23b6d",
     "grade": true,
     "grade_id": "cell-db1c05d10186bbee",
     "locked": true,
     "points": 5,
     "schema_version": 3,
     "solution": false,
     "task": false
    }
   },
   "outputs": [],
   "source": [
    "# this cell tests that you correctly updated maxval"
   ]
  },
  {
   "cell_type": "markdown",
   "metadata": {
    "deletable": false,
    "editable": false,
    "nbgrader": {
     "cell_type": "markdown",
     "checksum": "d6e178199083d40592178dc1e07f4876",
     "grade": false,
     "grade_id": "cell-cbb2410b4001a470",
     "locked": true,
     "schema_version": 3,
     "solution": false,
     "task": false
    }
   },
   "source": [
    "### 1b) df.info() gives the overview of the data frame. Inspect the data using df.info() and answer below questions. [4 pts]\n",
    "#### 1b-i) Which column is the target? \n",
    "#### 1b-ii) How many features are in the data? Exclude the target. (Id is not a useful feature, but let's still include)\n",
    "#### 1b-iii) How many observations (samples) are in the data? \n",
    "#### 1b-iv) How many features have null values based on the data overview?"
   ]
  },
  {
   "cell_type": "code",
   "execution_count": 100,
   "metadata": {},
   "outputs": [
    {
     "name": "stdout",
     "output_type": "stream",
     "text": [
      "<class 'pandas.core.frame.DataFrame'>\n",
      "RangeIndex: 1460 entries, 0 to 1459\n",
      "Data columns (total 81 columns):\n",
      " #   Column         Non-Null Count  Dtype  \n",
      "---  ------         --------------  -----  \n",
      " 0   Id             1460 non-null   int64  \n",
      " 1   MSSubClass     1460 non-null   int64  \n",
      " 2   MSZoning       1460 non-null   object \n",
      " 3   LotFrontage    1201 non-null   float64\n",
      " 4   LotArea        1460 non-null   int64  \n",
      " 5   Street         1460 non-null   object \n",
      " 6   Alley          91 non-null     object \n",
      " 7   LotShape       1460 non-null   object \n",
      " 8   LandContour    1460 non-null   object \n",
      " 9   Utilities      1460 non-null   object \n",
      " 10  LotConfig      1460 non-null   object \n",
      " 11  LandSlope      1460 non-null   object \n",
      " 12  Neighborhood   1460 non-null   object \n",
      " 13  Condition1     1460 non-null   object \n",
      " 14  Condition2     1460 non-null   object \n",
      " 15  BldgType       1460 non-null   object \n",
      " 16  HouseStyle     1460 non-null   object \n",
      " 17  OverallQual    1460 non-null   int64  \n",
      " 18  OverallCond    1460 non-null   int64  \n",
      " 19  YearBuilt      1460 non-null   int64  \n",
      " 20  YearRemodAdd   1460 non-null   int64  \n",
      " 21  RoofStyle      1460 non-null   object \n",
      " 22  RoofMatl       1460 non-null   object \n",
      " 23  Exterior1st    1460 non-null   object \n",
      " 24  Exterior2nd    1460 non-null   object \n",
      " 25  MasVnrType     1452 non-null   object \n",
      " 26  MasVnrArea     1452 non-null   float64\n",
      " 27  ExterQual      1460 non-null   object \n",
      " 28  ExterCond      1460 non-null   object \n",
      " 29  Foundation     1460 non-null   object \n",
      " 30  BsmtQual       1423 non-null   object \n",
      " 31  BsmtCond       1423 non-null   object \n",
      " 32  BsmtExposure   1422 non-null   object \n",
      " 33  BsmtFinType1   1423 non-null   object \n",
      " 34  BsmtFinSF1     1460 non-null   int64  \n",
      " 35  BsmtFinType2   1422 non-null   object \n",
      " 36  BsmtFinSF2     1460 non-null   int64  \n",
      " 37  BsmtUnfSF      1460 non-null   int64  \n",
      " 38  TotalBsmtSF    1460 non-null   int64  \n",
      " 39  Heating        1460 non-null   object \n",
      " 40  HeatingQC      1460 non-null   object \n",
      " 41  CentralAir     1460 non-null   object \n",
      " 42  Electrical     1459 non-null   object \n",
      " 43  1stFlrSF       1460 non-null   int64  \n",
      " 44  2ndFlrSF       1460 non-null   int64  \n",
      " 45  LowQualFinSF   1460 non-null   int64  \n",
      " 46  GrLivArea      1460 non-null   int64  \n",
      " 47  BsmtFullBath   1460 non-null   int64  \n",
      " 48  BsmtHalfBath   1460 non-null   int64  \n",
      " 49  FullBath       1460 non-null   int64  \n",
      " 50  HalfBath       1460 non-null   int64  \n",
      " 51  BedroomAbvGr   1460 non-null   int64  \n",
      " 52  KitchenAbvGr   1460 non-null   int64  \n",
      " 53  KitchenQual    1460 non-null   object \n",
      " 54  TotRmsAbvGrd   1460 non-null   int64  \n",
      " 55  Functional     1460 non-null   object \n",
      " 56  Fireplaces     1460 non-null   int64  \n",
      " 57  FireplaceQu    770 non-null    object \n",
      " 58  GarageType     1379 non-null   object \n",
      " 59  GarageYrBlt    1379 non-null   float64\n",
      " 60  GarageFinish   1379 non-null   object \n",
      " 61  GarageCars     1460 non-null   int64  \n",
      " 62  GarageArea     1460 non-null   int64  \n",
      " 63  GarageQual     1379 non-null   object \n",
      " 64  GarageCond     1379 non-null   object \n",
      " 65  PavedDrive     1460 non-null   object \n",
      " 66  WoodDeckSF     1460 non-null   int64  \n",
      " 67  OpenPorchSF    1460 non-null   int64  \n",
      " 68  EnclosedPorch  1460 non-null   int64  \n",
      " 69  3SsnPorch      1460 non-null   int64  \n",
      " 70  ScreenPorch    1460 non-null   int64  \n",
      " 71  PoolArea       1460 non-null   int64  \n",
      " 72  PoolQC         7 non-null      object \n",
      " 73  Fence          281 non-null    object \n",
      " 74  MiscFeature    54 non-null     object \n",
      " 75  MiscVal        1460 non-null   int64  \n",
      " 76  MoSold         1460 non-null   int64  \n",
      " 77  YrSold         1460 non-null   int64  \n",
      " 78  SaleType       1460 non-null   object \n",
      " 79  SaleCondition  1460 non-null   object \n",
      " 80  SalePrice      1460 non-null   int64  \n",
      "dtypes: float64(3), int64(35), object(43)\n",
      "memory usage: 924.0+ KB\n"
     ]
    }
   ],
   "source": [
    "df.info()"
   ]
  },
  {
   "cell_type": "code",
   "execution_count": 6,
   "metadata": {
    "deletable": false,
    "nbgrader": {
     "cell_type": "code",
     "checksum": "8c144b53d50664eaefbe6f0196317006",
     "grade": false,
     "grade_id": "cell-3522093cb3440da0",
     "locked": false,
     "schema_version": 3,
     "solution": true,
     "task": false
    }
   },
   "outputs": [],
   "source": [
    "# your code here\n",
    "\n",
    "\n",
    "# uncomment and update to the correct string value\n",
    "# copy directly from the uneditd df column name (e.g., 'LandContour')\n",
    "ANS_1b1 = 'SalePrice' \n",
    "# uncomment and update to the correct integer value\n",
    "ANS_1b2 = 80\n",
    "# uncomment and update to the correct integer value\n",
    "ANS_1b3 = 1460\n",
    "# uncomment and update to the correct integer value \n",
    "ANS_1b4 = 19"
   ]
  },
  {
   "cell_type": "code",
   "execution_count": 7,
   "metadata": {
    "deletable": false,
    "editable": false,
    "nbgrader": {
     "cell_type": "code",
     "checksum": "a87e88b6f3ad3d7377dc01dd9c41d81b",
     "grade": true,
     "grade_id": "cell-7ac0bd360d9fc2a7",
     "locked": true,
     "points": 4,
     "schema_version": 3,
     "solution": false,
     "task": false
    }
   },
   "outputs": [],
   "source": [
    "# this cell will test your solutions to the four questions above"
   ]
  },
  {
   "cell_type": "markdown",
   "metadata": {
    "deletable": false,
    "editable": false,
    "nbgrader": {
     "cell_type": "markdown",
     "checksum": "8c2b43a20aecebec94d793423f67d7a0",
     "grade": false,
     "grade_id": "cell-2c74538cd1d26fde",
     "locked": true,
     "schema_version": 3,
     "solution": false,
     "task": false
    }
   },
   "source": [
    "## 2. Inspect Null values [16 pts]\n",
    "The empty values in the data are called null values. Null values can take different forms.\n",
    "Have a look at below example. `np.nan` and `None` are native null values in python. They get displayed differently in the pandas dataframe (`pd.DataFrame`) though. But there are other data types such as empty list, empty dictionary, etc and string values that literally says \"null\" or that are empty spaces.\n",
    "Depending on how messy the data is, sometimes the table may have null values of one or more kinds, and those can be cleaned manually or automatically if you can write a code to include all possible cases which meanings are null values. "
   ]
  },
  {
   "cell_type": "code",
   "execution_count": 106,
   "metadata": {
    "deletable": false,
    "editable": false,
    "nbgrader": {
     "cell_type": "code",
     "checksum": "37a978e00423711d669cd22162d8945d",
     "grade": false,
     "grade_id": "cell-fd7633f1ff343c36",
     "locked": true,
     "schema_version": 3,
     "solution": false,
     "task": false
    }
   },
   "outputs": [
    {
     "data": {
      "text/html": [
       "<div>\n",
       "<style scoped>\n",
       "    .dataframe tbody tr th:only-of-type {\n",
       "        vertical-align: middle;\n",
       "    }\n",
       "\n",
       "    .dataframe tbody tr th {\n",
       "        vertical-align: top;\n",
       "    }\n",
       "\n",
       "    .dataframe thead th {\n",
       "        text-align: right;\n",
       "    }\n",
       "</style>\n",
       "<table border=\"1\" class=\"dataframe\">\n",
       "  <thead>\n",
       "    <tr style=\"text-align: right;\">\n",
       "      <th></th>\n",
       "      <th>0</th>\n",
       "    </tr>\n",
       "  </thead>\n",
       "  <tbody>\n",
       "    <tr>\n",
       "      <th>0</th>\n",
       "      <td>NaN</td>\n",
       "    </tr>\n",
       "    <tr>\n",
       "      <th>1</th>\n",
       "      <td>None</td>\n",
       "    </tr>\n",
       "    <tr>\n",
       "      <th>2</th>\n",
       "      <td>[]</td>\n",
       "    </tr>\n",
       "    <tr>\n",
       "      <th>3</th>\n",
       "      <td>{}</td>\n",
       "    </tr>\n",
       "    <tr>\n",
       "      <th>4</th>\n",
       "      <td>NaN</td>\n",
       "    </tr>\n",
       "    <tr>\n",
       "      <th>5</th>\n",
       "      <td>Null</td>\n",
       "    </tr>\n",
       "    <tr>\n",
       "      <th>6</th>\n",
       "      <td>NULL</td>\n",
       "    </tr>\n",
       "    <tr>\n",
       "      <th>7</th>\n",
       "      <td>None</td>\n",
       "    </tr>\n",
       "    <tr>\n",
       "      <th>8</th>\n",
       "      <td>NA</td>\n",
       "    </tr>\n",
       "    <tr>\n",
       "      <th>9</th>\n",
       "      <td>?</td>\n",
       "    </tr>\n",
       "    <tr>\n",
       "      <th>10</th>\n",
       "      <td>-</td>\n",
       "    </tr>\n",
       "    <tr>\n",
       "      <th>11</th>\n",
       "      <td>.</td>\n",
       "    </tr>\n",
       "    <tr>\n",
       "      <th>12</th>\n",
       "      <td></td>\n",
       "    </tr>\n",
       "    <tr>\n",
       "      <th>13</th>\n",
       "      <td></td>\n",
       "    </tr>\n",
       "    <tr>\n",
       "      <th>14</th>\n",
       "      <td></td>\n",
       "    </tr>\n",
       "  </tbody>\n",
       "</table>\n",
       "</div>"
      ],
      "text/plain": [
       "       0\n",
       "0    NaN\n",
       "1   None\n",
       "2     []\n",
       "3     {}\n",
       "4    NaN\n",
       "5   Null\n",
       "6   NULL\n",
       "7   None\n",
       "8     NA\n",
       "9      ?\n",
       "10     -\n",
       "11     .\n",
       "12      \n",
       "13      \n",
       "14      "
      ]
     },
     "execution_count": 106,
     "metadata": {},
     "output_type": "execute_result"
    }
   ],
   "source": [
    "a = [np.nan, None, [], {}, 'NaN', 'Null','NULL','None','NA','?','-', '.','', ' ', '   ']\n",
    "nulldemo = pd.DataFrame(a)\n",
    "nulldemo"
   ]
  },
  {
   "cell_type": "markdown",
   "metadata": {
    "deletable": false,
    "editable": false,
    "nbgrader": {
     "cell_type": "markdown",
     "checksum": "4e3fa8647e5bf3ac72ae4f5664a50955",
     "grade": false,
     "grade_id": "cell-4aaf5e4be60651bb",
     "locked": true,
     "schema_version": 3,
     "solution": false,
     "task": false
    }
   },
   "source": [
    "`.isnull()` method applied to pandas dataframe or series can detect null values. `.dropna()` method in pandas will detect null values and can be specified to drop either rows or columns that contain null values. Below shows that `.isnull()` only detects the python-native null values and cannot detect other forms (string value) of variables that meant null."
   ]
  },
  {
   "cell_type": "code",
   "execution_count": 107,
   "metadata": {
    "deletable": false,
    "editable": false,
    "nbgrader": {
     "cell_type": "code",
     "checksum": "500eaa2e262bba4c183501354ee38232",
     "grade": false,
     "grade_id": "cell-55ce28863f9058c7",
     "locked": true,
     "schema_version": 3,
     "solution": false,
     "task": false
    }
   },
   "outputs": [
    {
     "data": {
      "text/html": [
       "<div>\n",
       "<style scoped>\n",
       "    .dataframe tbody tr th:only-of-type {\n",
       "        vertical-align: middle;\n",
       "    }\n",
       "\n",
       "    .dataframe tbody tr th {\n",
       "        vertical-align: top;\n",
       "    }\n",
       "\n",
       "    .dataframe thead th {\n",
       "        text-align: right;\n",
       "    }\n",
       "</style>\n",
       "<table border=\"1\" class=\"dataframe\">\n",
       "  <thead>\n",
       "    <tr style=\"text-align: right;\">\n",
       "      <th></th>\n",
       "      <th>0</th>\n",
       "    </tr>\n",
       "  </thead>\n",
       "  <tbody>\n",
       "    <tr>\n",
       "      <th>0</th>\n",
       "      <td>True</td>\n",
       "    </tr>\n",
       "    <tr>\n",
       "      <th>1</th>\n",
       "      <td>True</td>\n",
       "    </tr>\n",
       "    <tr>\n",
       "      <th>2</th>\n",
       "      <td>False</td>\n",
       "    </tr>\n",
       "    <tr>\n",
       "      <th>3</th>\n",
       "      <td>False</td>\n",
       "    </tr>\n",
       "    <tr>\n",
       "      <th>4</th>\n",
       "      <td>False</td>\n",
       "    </tr>\n",
       "    <tr>\n",
       "      <th>5</th>\n",
       "      <td>False</td>\n",
       "    </tr>\n",
       "    <tr>\n",
       "      <th>6</th>\n",
       "      <td>False</td>\n",
       "    </tr>\n",
       "    <tr>\n",
       "      <th>7</th>\n",
       "      <td>False</td>\n",
       "    </tr>\n",
       "    <tr>\n",
       "      <th>8</th>\n",
       "      <td>False</td>\n",
       "    </tr>\n",
       "    <tr>\n",
       "      <th>9</th>\n",
       "      <td>False</td>\n",
       "    </tr>\n",
       "    <tr>\n",
       "      <th>10</th>\n",
       "      <td>False</td>\n",
       "    </tr>\n",
       "    <tr>\n",
       "      <th>11</th>\n",
       "      <td>False</td>\n",
       "    </tr>\n",
       "    <tr>\n",
       "      <th>12</th>\n",
       "      <td>False</td>\n",
       "    </tr>\n",
       "    <tr>\n",
       "      <th>13</th>\n",
       "      <td>False</td>\n",
       "    </tr>\n",
       "    <tr>\n",
       "      <th>14</th>\n",
       "      <td>False</td>\n",
       "    </tr>\n",
       "  </tbody>\n",
       "</table>\n",
       "</div>"
      ],
      "text/plain": [
       "        0\n",
       "0    True\n",
       "1    True\n",
       "2   False\n",
       "3   False\n",
       "4   False\n",
       "5   False\n",
       "6   False\n",
       "7   False\n",
       "8   False\n",
       "9   False\n",
       "10  False\n",
       "11  False\n",
       "12  False\n",
       "13  False\n",
       "14  False"
      ]
     },
     "execution_count": 107,
     "metadata": {},
     "output_type": "execute_result"
    }
   ],
   "source": [
    "nulldemo.isnull()"
   ]
  },
  {
   "cell_type": "markdown",
   "metadata": {
    "deletable": false,
    "editable": false,
    "nbgrader": {
     "cell_type": "markdown",
     "checksum": "d8208f611fd1787ad8966ef5c0f9fcaa",
     "grade": false,
     "grade_id": "cell-7b3e462ec41ac482",
     "locked": true,
     "schema_version": 3,
     "solution": false,
     "task": false
    }
   },
   "source": [
    "Also, sometimes the python-native null values can have an odd data type such as numpy float. "
   ]
  },
  {
   "cell_type": "code",
   "execution_count": 108,
   "metadata": {
    "deletable": false,
    "editable": false,
    "nbgrader": {
     "cell_type": "code",
     "checksum": "5d5b4a35a64c4ef0213c130ef2bff6a5",
     "grade": false,
     "grade_id": "cell-c2d9834dfe085a8a",
     "locked": true,
     "schema_version": 3,
     "solution": false,
     "task": false
    }
   },
   "outputs": [
    {
     "name": "stdout",
     "output_type": "stream",
     "text": [
      "nan float64 <class 'numpy.float64'>\n",
      "True\n",
      "True\n",
      "True\n",
      "False\n",
      "False\n"
     ]
    }
   ],
   "source": [
    "print(df['MasVnrArea'].iloc[234], df['MasVnrArea'].iloc[234].dtype, type(df['MasVnrArea'].iloc[234]))\n",
    "print(df['MasVnrArea'].isnull().iloc[234])\n",
    "print(np.isnan(df['MasVnrArea'].iloc[234])) \n",
    "print(math.isnan(df['MasVnrArea'].iloc[234]))\n",
    "print(df['MasVnrArea'].iloc[234]==np.nan)\n",
    "print(df['MasVnrArea'].iloc[234]==np.float64(np.nan))"
   ]
  },
  {
   "cell_type": "markdown",
   "metadata": {
    "deletable": false,
    "editable": false,
    "nbgrader": {
     "cell_type": "markdown",
     "checksum": "4551c525ba615d3ba7708b262efd8f84",
     "grade": false,
     "grade_id": "cell-8f2e347fb71d0786",
     "locked": true,
     "schema_version": 3,
     "solution": false,
     "task": false
    }
   },
   "source": [
    "np.isnan() and math.isnan() can detect the nan values with numpy float type, but they will cause errors with native `None` or a string value. Uncomment one of below (one at a time) and run. You'll see error messages."
   ]
  },
  {
   "cell_type": "code",
   "execution_count": 109,
   "metadata": {
    "deletable": false,
    "nbgrader": {
     "cell_type": "code",
     "checksum": "5de92f8d9e6de1f77655c03ab01fa212",
     "grade": false,
     "grade_id": "cell-f667da7b22e3108f",
     "locked": false,
     "schema_version": 3,
     "solution": true,
     "task": false
    }
   },
   "outputs": [],
   "source": [
    "# your code here\n",
    "\n",
    "\n",
    "#print(np.isnan(None))\n",
    "#print(np.isnan('None'))\n",
    "#print(math.isnan(None))\n",
    "#print(math.isnan('None'))"
   ]
  },
  {
   "cell_type": "markdown",
   "metadata": {
    "deletable": false,
    "editable": false,
    "nbgrader": {
     "cell_type": "markdown",
     "checksum": "18303930f8985b16e35d5dea35b09ed0",
     "grade": false,
     "grade_id": "cell-3ef55c38761403b9",
     "locked": true,
     "schema_version": 3,
     "solution": false,
     "task": false
    }
   },
   "source": [
    "### 2a) Check null values type [5 pts]\n",
    "Let's check if our data has clean null values (one kind) or messy null values (multiple different representations). Run the codes below and visually inspect the printed results. Which column has string-typed null/none values and how many elements are string-typed null/none values?"
   ]
  },
  {
   "cell_type": "code",
   "execution_count": 110,
   "metadata": {
    "deletable": false,
    "editable": false,
    "nbgrader": {
     "cell_type": "code",
     "checksum": "d0e3ae50ea98f5c4f99dece0bae5bd21",
     "grade": false,
     "grade_id": "cell-a40d26bd98654b9b",
     "locked": true,
     "schema_version": 3,
     "solution": false,
     "task": false
    }
   },
   "outputs": [
    {
     "name": "stdout",
     "output_type": "stream",
     "text": [
      "Id 0 0\n",
      "MSSubClass 0 0\n",
      "MSZoning 0 0\n",
      "LotFrontage 259 0\n",
      "LotArea 0 0\n",
      "Street 0 0\n",
      "Alley 1369 0\n",
      "LotShape 0 0\n",
      "LandContour 0 0\n",
      "Utilities 0 0\n",
      "LotConfig 0 0\n",
      "LandSlope 0 0\n",
      "Neighborhood 0 0\n",
      "Condition1 0 0\n",
      "Condition2 0 0\n",
      "BldgType 0 0\n",
      "HouseStyle 0 0\n",
      "OverallQual 0 0\n",
      "OverallCond 0 0\n",
      "YearBuilt 0 0\n",
      "YearRemodAdd 0 0\n",
      "RoofStyle 0 0\n",
      "RoofMatl 0 0\n",
      "Exterior1st 0 0\n",
      "Exterior2nd 0 0\n",
      "MasVnrType 8 864\n",
      "MasVnrArea 8 0\n",
      "ExterQual 0 0\n",
      "ExterCond 0 0\n",
      "Foundation 0 0\n",
      "BsmtQual 37 0\n",
      "BsmtCond 37 0\n",
      "BsmtExposure 38 0\n",
      "BsmtFinType1 37 0\n",
      "BsmtFinSF1 0 0\n",
      "BsmtFinType2 38 0\n",
      "BsmtFinSF2 0 0\n",
      "BsmtUnfSF 0 0\n",
      "TotalBsmtSF 0 0\n",
      "Heating 0 0\n",
      "HeatingQC 0 0\n",
      "CentralAir 0 0\n",
      "Electrical 1 0\n",
      "1stFlrSF 0 0\n",
      "2ndFlrSF 0 0\n",
      "LowQualFinSF 0 0\n",
      "GrLivArea 0 0\n",
      "BsmtFullBath 0 0\n",
      "BsmtHalfBath 0 0\n",
      "FullBath 0 0\n",
      "HalfBath 0 0\n",
      "BedroomAbvGr 0 0\n",
      "KitchenAbvGr 0 0\n",
      "KitchenQual 0 0\n",
      "TotRmsAbvGrd 0 0\n",
      "Functional 0 0\n",
      "Fireplaces 0 0\n",
      "FireplaceQu 690 0\n",
      "GarageType 81 0\n",
      "GarageYrBlt 81 0\n",
      "GarageFinish 81 0\n",
      "GarageCars 0 0\n",
      "GarageArea 0 0\n",
      "GarageQual 81 0\n",
      "GarageCond 81 0\n",
      "PavedDrive 0 0\n",
      "WoodDeckSF 0 0\n",
      "OpenPorchSF 0 0\n",
      "EnclosedPorch 0 0\n",
      "3SsnPorch 0 0\n",
      "ScreenPorch 0 0\n",
      "PoolArea 0 0\n",
      "PoolQC 1453 0\n",
      "Fence 1179 0\n",
      "MiscFeature 1406 0\n",
      "MiscVal 0 0\n",
      "MoSold 0 0\n",
      "YrSold 0 0\n",
      "SaleType 0 0\n",
      "SaleCondition 0 0\n",
      "SalePrice 0 0\n"
     ]
    }
   ],
   "source": [
    "# prints number of null values detected by .isnull() and string none\n",
    "for c in df.columns:\n",
    "    string_null = np.array([x in a[2:] for x in df[c]])\n",
    "    print(c, df[c].isnull().sum(), string_null.sum()) "
   ]
  },
  {
   "cell_type": "markdown",
   "metadata": {
    "deletable": false,
    "editable": false,
    "nbgrader": {
     "cell_type": "markdown",
     "checksum": "3e2d7f06320fd6252cea08b30c289104",
     "grade": false,
     "grade_id": "cell-d07930006ff0e3a8",
     "locked": true,
     "schema_version": 3,
     "solution": false,
     "task": false
    }
   },
   "source": [
    "Which column has string-typed null/none values? "
   ]
  },
  {
   "cell_type": "code",
   "execution_count": 111,
   "metadata": {
    "deletable": false,
    "nbgrader": {
     "cell_type": "code",
     "checksum": "0b5e24f7f6ddcada46ac3ddfa0eebdb1",
     "grade": false,
     "grade_id": "cell-584c0338abbd45f8",
     "locked": false,
     "schema_version": 3,
     "solution": true,
     "task": false
    }
   },
   "outputs": [],
   "source": [
    "# your code here\n",
    "\n",
    "# uncomment and update to the correct string value\n",
    "col = 'MasVnrType'"
   ]
  },
  {
   "cell_type": "markdown",
   "metadata": {
    "deletable": false,
    "editable": false,
    "nbgrader": {
     "cell_type": "markdown",
     "checksum": "97d0d0af16dbe7cf5fed18936f349965",
     "grade": false,
     "grade_id": "cell-fa00937941485363",
     "locked": true,
     "schema_version": 3,
     "solution": false,
     "task": false
    }
   },
   "source": [
    "How many elements are string-typed null/none values?"
   ]
  },
  {
   "cell_type": "code",
   "execution_count": 112,
   "metadata": {
    "deletable": false,
    "nbgrader": {
     "cell_type": "code",
     "checksum": "37741cd100f1c8831f078c1308d56b42",
     "grade": false,
     "grade_id": "cell-a53c8dc23ac393d6",
     "locked": false,
     "schema_version": 3,
     "solution": true,
     "task": false
    }
   },
   "outputs": [],
   "source": [
    "# your code here\n",
    "\n",
    "# uncomment and update to the correct string value\n",
    "string_null_count = 864"
   ]
  },
  {
   "cell_type": "code",
   "execution_count": 113,
   "metadata": {
    "deletable": false,
    "editable": false,
    "nbgrader": {
     "cell_type": "code",
     "checksum": "9866646b79d79c952b8dca25f05f2add",
     "grade": true,
     "grade_id": "cell-dce6d5bd3d2c3fa5",
     "locked": true,
     "points": 5,
     "schema_version": 3,
     "solution": false,
     "task": false
    }
   },
   "outputs": [],
   "source": [
    "# this cell will test your answer about the column with string-typed null/none values\n",
    "# and the number of string-typed null/none values"
   ]
  },
  {
   "cell_type": "markdown",
   "metadata": {
    "deletable": false,
    "editable": false,
    "nbgrader": {
     "cell_type": "markdown",
     "checksum": "5a2126c265abee059ef01af2e883bcff",
     "grade": false,
     "grade_id": "cell-42f5ae89bca3b8ed",
     "locked": true,
     "schema_version": 3,
     "solution": false,
     "task": false
    }
   },
   "source": [
    "### 2b) Inspect observations (rows) with null values. How many observations have at least one missing value? [5 pts]"
   ]
  },
  {
   "cell_type": "code",
   "execution_count": 114,
   "metadata": {
    "deletable": false,
    "nbgrader": {
     "cell_type": "code",
     "checksum": "0c929bf86ad7b3e2e6fd5b2a09565153",
     "grade": false,
     "grade_id": "cell-583168388460d97e",
     "locked": false,
     "schema_version": 3,
     "solution": true,
     "task": false
    }
   },
   "outputs": [],
   "source": [
    "# your code here\n",
    "\n",
    "# checkrowfornull takes three arguments: df a pandas dataframe, rownum a natural number in range(len(df)), and a nulllist\n",
    "def checkrowfornull(df, rownum, nulllist):\n",
    "    boolean = False\n",
    "    for n in nulllist:\n",
    "        if n in list(df.loc[rownum, :]):\n",
    "            boolean = True\n",
    "            break\n",
    "    \n",
    "    return(boolean)\n",
    "\n",
    "rowHasNull = []\n",
    "for i in range(len(df)):\n",
    "    rowHasNull.append(checkrowfornull(df, i, a))\n",
    "    \n",
    "# uncomment and update to the correct integer value\n",
    "rows_with_nulls = sum(rowHasNull)"
   ]
  },
  {
   "cell_type": "code",
   "execution_count": 115,
   "metadata": {
    "deletable": false,
    "editable": false,
    "nbgrader": {
     "cell_type": "code",
     "checksum": "5dfe677f9d2e75aaf2cfb395290c552c",
     "grade": true,
     "grade_id": "cell-5e23e1b0cca76fd6",
     "locked": true,
     "points": 5,
     "schema_version": 3,
     "solution": false,
     "task": false
    }
   },
   "outputs": [],
   "source": [
    "# this cell will test your answer about the number of rows with null values"
   ]
  },
  {
   "cell_type": "markdown",
   "metadata": {
    "deletable": false,
    "editable": false,
    "nbgrader": {
     "cell_type": "markdown",
     "checksum": "39b4df92255bf5a10b62c47dd97ba4c0",
     "grade": false,
     "grade_id": "cell-77d2e86ca5e292b2",
     "locked": true,
     "schema_version": 3,
     "solution": false,
     "task": false
    }
   },
   "source": [
    "### 2c) Make a histogram of null counts [6 pts]"
   ]
  },
  {
   "cell_type": "code",
   "execution_count": 125,
   "metadata": {
    "deletable": false,
    "nbgrader": {
     "cell_type": "code",
     "checksum": "da9b98da19594a468c1a69ae8a94d099",
     "grade": false,
     "grade_id": "cell-397bc70fa5b6e142",
     "locked": false,
     "schema_version": 3,
     "solution": true,
     "task": false
    }
   },
   "outputs": [
    {
     "data": {
      "image/png": "[encoded data removed]",
      "text/plain": [
       "<Figure size 432x288 with 1 Axes>"
      ]
     },
     "metadata": {
      "needs_background": "light"
     },
     "output_type": "display_data"
    }
   ],
   "source": [
    "# your code here\n",
    "\n",
    "# Please uncomment and update\n",
    "# do not change the names of the variables from null_counts and histogram\n",
    "\n",
    "null_counts = pd.Series(list(df.isnull().sum()))\n",
    "\n",
    "histogram = plt.hist(null_counts) # replace the histogram to be the plt.hist() object. \n",
    "\n",
    "# Hint: Use .isnull() and sum over True values on columns.\n",
    "# You can make it as short as 2-3 lines of code"
   ]
  },
  {
   "cell_type": "code",
   "execution_count": 20,
   "metadata": {
    "deletable": false,
    "editable": false,
    "nbgrader": {
     "cell_type": "code",
     "checksum": "d37296bfc5a5b719cde94bffb0700843",
     "grade": true,
     "grade_id": "cell-1227cde34a107169",
     "locked": true,
     "points": 3,
     "schema_version": 3,
     "solution": false,
     "task": false
    }
   },
   "outputs": [],
   "source": [
    "# hidden test 1; tests null_counts\n"
   ]
  },
  {
   "cell_type": "code",
   "execution_count": 21,
   "metadata": {
    "deletable": false,
    "editable": false,
    "nbgrader": {
     "cell_type": "code",
     "checksum": "a80f7b0a9192570523ae623a71382665",
     "grade": true,
     "grade_id": "cell-47db4d8d4a9b3d99",
     "locked": true,
     "points": 3,
     "schema_version": 3,
     "solution": false,
     "task": false
    }
   },
   "outputs": [],
   "source": [
    "# hidden test 2; tests histogram"
   ]
  },
  {
   "cell_type": "markdown",
   "metadata": {
    "deletable": false,
    "editable": false,
    "nbgrader": {
     "cell_type": "markdown",
     "checksum": "88f23f4ed8278234ef6be3b83373c6b8",
     "grade": false,
     "grade_id": "cell-f79e729452eb49a9",
     "locked": true,
     "schema_version": 3,
     "solution": false,
     "task": false
    }
   },
   "source": [
    "## 3. Imputing missing values [33 pts]\n",
    "\n",
    "In this part, we will decide methods to clean the data with missing values.    \n",
    "\n",
    "Complete case analysis (CCA) is to drop any observations (rows) that have null values. It is suitable if the number of observations with null values are very small (say, less than 5%) compared to the total number of observations.  \n",
    "\n",
    "If the data has a large number of features (columns) and the model(s) does not need that many features (some models work better with less number of features), we can consider dropping features that have many missing values. Before dropping features, it is generally a good idea checking whether the feature with missing values is important feature or not (which may need the analyst's judgement). If the feature is very important for the prediction task (for example, a house size when predicting house price) but has a large amount of missing values, we cannot simply drop the feature, or in a rare case, it could mean that the data is not suitable for the analysis. One will have to work with only the observations that has values on that feature given the number of observations is sufficient, or collect more data. If we know that those features are not very important and have a large number of missing values, we can drop the features. As a rule of thumb, features with missing values more than either 5% or 10% can be dropped."
   ]
  },
  {
   "cell_type": "markdown",
   "metadata": {
    "deletable": false,
    "editable": false,
    "nbgrader": {
     "cell_type": "markdown",
     "checksum": "83fb2629ca41edfbcaec688790d9374a",
     "grade": false,
     "grade_id": "cell-ff5b47f4fe830116",
     "locked": true,
     "schema_version": 3,
     "solution": false,
     "task": false
    }
   },
   "source": [
    "### 3a) Is the data suitable for complete case analysis or not? [5 pts]"
   ]
  },
  {
   "cell_type": "code",
   "execution_count": 22,
   "metadata": {
    "deletable": false,
    "nbgrader": {
     "cell_type": "code",
     "checksum": "61ad79cc50b7a8d8d76c2527812c07d0",
     "grade": false,
     "grade_id": "cell-9660a54734798c9f",
     "locked": false,
     "schema_version": 3,
     "solution": true,
     "task": false
    }
   },
   "outputs": [],
   "source": [
    "# your code here\n",
    "\n",
    "# uncomment and update to string 'no' or 'yes'\n",
    "suitable_cca = 'no'\n"
   ]
  },
  {
   "cell_type": "code",
   "execution_count": 23,
   "metadata": {
    "deletable": false,
    "editable": false,
    "nbgrader": {
     "cell_type": "code",
     "checksum": "b3fd7736e8eb717094af17a594f91477",
     "grade": true,
     "grade_id": "cell-596e41e829fd93c0",
     "locked": true,
     "points": 5,
     "schema_version": 3,
     "solution": false,
     "task": false
    }
   },
   "outputs": [],
   "source": [
    "# tests solution for whether data is suitable for CCA"
   ]
  },
  {
   "cell_type": "markdown",
   "metadata": {
    "deletable": false,
    "editable": false,
    "nbgrader": {
     "cell_type": "markdown",
     "checksum": "df09c67cf3ea5356c60f65b8884730b8",
     "grade": false,
     "grade_id": "cell-0e3d217af51ab25a",
     "locked": true,
     "schema_version": 3,
     "solution": false,
     "task": false
    }
   },
   "source": [
    "### 3b) Dropping feature columns [20 pts]\n",
    "Let's assume we want to keep columns that have null values 5% or less and discard any column that has null values more than 5%. Treat the string type \"None\" as a category and not null value.\n",
    "#### 3b-i) According to above condition, how many features can be kept and imputed? [5 pts]\n",
    "#### 3b-ii) Which columns have null values 5% or less of total, so we can impute? [5 pts] \n",
    "#### 3b-iii) Which columns have null vaues more than 5% of total, so we should throw? [5 pts]"
   ]
  },
  {
   "cell_type": "code",
   "execution_count": 24,
   "metadata": {
    "deletable": false,
    "nbgrader": {
     "cell_type": "code",
     "checksum": "3c110c72b8d95755f227c773c3266cb0",
     "grade": false,
     "grade_id": "cell-372f8f3eaee8295e",
     "locked": false,
     "schema_version": 3,
     "solution": true,
     "task": false
    }
   },
   "outputs": [
    {
     "name": "stdout",
     "output_type": "stream",
     "text": [
      "69 ['Id', 'MSSubClass', 'MSZoning', 'LotArea', 'Street', 'LotShape', 'LandContour', 'Utilities', 'LotConfig', 'LandSlope', 'Neighborhood', 'Condition1', 'Condition2', 'BldgType', 'HouseStyle', 'OverallQual', 'OverallCond', 'YearBuilt', 'YearRemodAdd', 'RoofStyle', 'RoofMatl', 'Exterior1st', 'Exterior2nd', 'MasVnrType', 'MasVnrArea', 'ExterQual', 'ExterCond', 'Foundation', 'BsmtQual', 'BsmtCond', 'BsmtExposure', 'BsmtFinType1', 'BsmtFinSF1', 'BsmtFinType2', 'BsmtFinSF2', 'BsmtUnfSF', 'TotalBsmtSF', 'Heating', 'HeatingQC', 'CentralAir', 'Electrical', '1stFlrSF', '2ndFlrSF', 'LowQualFinSF', 'GrLivArea', 'BsmtFullBath', 'BsmtHalfBath', 'FullBath', 'HalfBath', 'BedroomAbvGr', 'KitchenAbvGr', 'KitchenQual', 'TotRmsAbvGrd', 'Functional', 'Fireplaces', 'GarageCars', 'GarageArea', 'PavedDrive', 'WoodDeckSF', 'OpenPorchSF', 'EnclosedPorch', '3SsnPorch', 'ScreenPorch', 'PoolArea', 'MiscVal', 'MoSold', 'YrSold', 'SaleType', 'SaleCondition']\n",
      "11 ['LotFrontage', 'Alley', 'FireplaceQu', 'GarageType', 'GarageYrBlt', 'GarageFinish', 'GarageQual', 'GarageCond', 'PoolQC', 'Fence', 'MiscFeature']\n"
     ]
    }
   ],
   "source": [
    "# your code here\n",
    "featuresdf = df.drop(\"SalePrice\", axis = 1)\n",
    "\n",
    "imputationCondition = 0.05\n",
    "boolThrow = null_counts[0:-1]/len(featuresdf) > imputationCondition\n",
    "boolKeep = null_counts[0:-1]/len(featuresdf) <= imputationCondition\n",
    "\n",
    "\n",
    "\n",
    "# Complete the codes below by uncommenting and changing the values of features_to_impute and features_to_throw. \n",
    "# Each should be a list of feature names (e.g. ['LotFrontage','Alley',...]). Do not change the variable names. \n",
    "# There are hidden tests which will grade above three questions.\n",
    "\n",
    "features_to_impute = list(featuresdf.columns[boolKeep])\n",
    "features_to_throw = list(featuresdf.columns[boolThrow])\n",
    "\n",
    "print(len(features_to_impute), features_to_impute)\n",
    "print(len(features_to_throw), features_to_throw)"
   ]
  },
  {
   "cell_type": "code",
   "execution_count": 25,
   "metadata": {
    "deletable": false,
    "editable": false,
    "nbgrader": {
     "cell_type": "code",
     "checksum": "1f8462fb0a619a99fd81b8cec7d3f1d0",
     "grade": true,
     "grade_id": "cell-eebd5d9ed1f05b19",
     "locked": true,
     "points": 5,
     "schema_version": 3,
     "solution": false,
     "task": false
    }
   },
   "outputs": [],
   "source": [
    "# Hidden test for 3b-i"
   ]
  },
  {
   "cell_type": "code",
   "execution_count": 26,
   "metadata": {
    "deletable": false,
    "editable": false,
    "nbgrader": {
     "cell_type": "code",
     "checksum": "9c0fe0f40b40878be1f837edbbb780c3",
     "grade": true,
     "grade_id": "cell-5f5faeb0cae30c87",
     "locked": true,
     "points": 5,
     "schema_version": 3,
     "solution": false,
     "task": false
    }
   },
   "outputs": [],
   "source": [
    "# Hidden test for 3b-ii"
   ]
  },
  {
   "cell_type": "code",
   "execution_count": 27,
   "metadata": {
    "deletable": false,
    "editable": false,
    "nbgrader": {
     "cell_type": "code",
     "checksum": "18c4c925861d200220fa5a5a317ae705",
     "grade": true,
     "grade_id": "cell-ab80387b81834de8",
     "locked": true,
     "points": 5,
     "schema_version": 3,
     "solution": false,
     "task": false
    }
   },
   "outputs": [],
   "source": [
    "# Hidden test for 3b-iii"
   ]
  },
  {
   "cell_type": "markdown",
   "metadata": {
    "deletable": false,
    "editable": false,
    "nbgrader": {
     "cell_type": "markdown",
     "checksum": "b48a52c1e196737872077ecce6d9d6fb",
     "grade": false,
     "grade_id": "cell-711815474f799b5c",
     "locked": true,
     "schema_version": 3,
     "solution": false,
     "task": false
    }
   },
   "source": [
    "### 3b-iv) Remove the columns according to the above result. Replace the `df` with the new result. Also remove `Id` column as it's not a useful feature. [5 pts]"
   ]
  },
  {
   "cell_type": "code",
   "execution_count": 116,
   "metadata": {
    "deletable": false,
    "nbgrader": {
     "cell_type": "code",
     "checksum": "4151579b7d29b2a96a35370e384c6c04",
     "grade": false,
     "grade_id": "cell-5c687ea4a0ba9db5",
     "locked": false,
     "schema_version": 3,
     "solution": true,
     "task": false
    }
   },
   "outputs": [
    {
     "data": {
      "text/html": [
       "<div>\n",
       "<style scoped>\n",
       "    .dataframe tbody tr th:only-of-type {\n",
       "        vertical-align: middle;\n",
       "    }\n",
       "\n",
       "    .dataframe tbody tr th {\n",
       "        vertical-align: top;\n",
       "    }\n",
       "\n",
       "    .dataframe thead th {\n",
       "        text-align: right;\n",
       "    }\n",
       "</style>\n",
       "<table border=\"1\" class=\"dataframe\">\n",
       "  <thead>\n",
       "    <tr style=\"text-align: right;\">\n",
       "      <th></th>\n",
       "      <th>MSSubClass</th>\n",
       "      <th>MSZoning</th>\n",
       "      <th>LotArea</th>\n",
       "      <th>Street</th>\n",
       "      <th>LotShape</th>\n",
       "      <th>LandContour</th>\n",
       "      <th>Utilities</th>\n",
       "      <th>LotConfig</th>\n",
       "      <th>LandSlope</th>\n",
       "      <th>Neighborhood</th>\n",
       "      <th>...</th>\n",
       "      <th>EnclosedPorch</th>\n",
       "      <th>3SsnPorch</th>\n",
       "      <th>ScreenPorch</th>\n",
       "      <th>PoolArea</th>\n",
       "      <th>MiscVal</th>\n",
       "      <th>MoSold</th>\n",
       "      <th>YrSold</th>\n",
       "      <th>SaleType</th>\n",
       "      <th>SaleCondition</th>\n",
       "      <th>SalePrice</th>\n",
       "    </tr>\n",
       "  </thead>\n",
       "  <tbody>\n",
       "    <tr>\n",
       "      <th>0</th>\n",
       "      <td>60</td>\n",
       "      <td>RL</td>\n",
       "      <td>8450</td>\n",
       "      <td>Pave</td>\n",
       "      <td>Reg</td>\n",
       "      <td>Lvl</td>\n",
       "      <td>AllPub</td>\n",
       "      <td>Inside</td>\n",
       "      <td>Gtl</td>\n",
       "      <td>CollgCr</td>\n",
       "      <td>...</td>\n",
       "      <td>0</td>\n",
       "      <td>0</td>\n",
       "      <td>0</td>\n",
       "      <td>0</td>\n",
       "      <td>0</td>\n",
       "      <td>2</td>\n",
       "      <td>2008</td>\n",
       "      <td>WD</td>\n",
       "      <td>Normal</td>\n",
       "      <td>208500</td>\n",
       "    </tr>\n",
       "    <tr>\n",
       "      <th>1</th>\n",
       "      <td>20</td>\n",
       "      <td>RL</td>\n",
       "      <td>9600</td>\n",
       "      <td>Pave</td>\n",
       "      <td>Reg</td>\n",
       "      <td>Lvl</td>\n",
       "      <td>AllPub</td>\n",
       "      <td>FR2</td>\n",
       "      <td>Gtl</td>\n",
       "      <td>Veenker</td>\n",
       "      <td>...</td>\n",
       "      <td>0</td>\n",
       "      <td>0</td>\n",
       "      <td>0</td>\n",
       "      <td>0</td>\n",
       "      <td>0</td>\n",
       "      <td>5</td>\n",
       "      <td>2007</td>\n",
       "      <td>WD</td>\n",
       "      <td>Normal</td>\n",
       "      <td>181500</td>\n",
       "    </tr>\n",
       "    <tr>\n",
       "      <th>2</th>\n",
       "      <td>60</td>\n",
       "      <td>RL</td>\n",
       "      <td>11250</td>\n",
       "      <td>Pave</td>\n",
       "      <td>IR1</td>\n",
       "      <td>Lvl</td>\n",
       "      <td>AllPub</td>\n",
       "      <td>Inside</td>\n",
       "      <td>Gtl</td>\n",
       "      <td>CollgCr</td>\n",
       "      <td>...</td>\n",
       "      <td>0</td>\n",
       "      <td>0</td>\n",
       "      <td>0</td>\n",
       "      <td>0</td>\n",
       "      <td>0</td>\n",
       "      <td>9</td>\n",
       "      <td>2008</td>\n",
       "      <td>WD</td>\n",
       "      <td>Normal</td>\n",
       "      <td>223500</td>\n",
       "    </tr>\n",
       "    <tr>\n",
       "      <th>3</th>\n",
       "      <td>70</td>\n",
       "      <td>RL</td>\n",
       "      <td>9550</td>\n",
       "      <td>Pave</td>\n",
       "      <td>IR1</td>\n",
       "      <td>Lvl</td>\n",
       "      <td>AllPub</td>\n",
       "      <td>Corner</td>\n",
       "      <td>Gtl</td>\n",
       "      <td>Crawfor</td>\n",
       "      <td>...</td>\n",
       "      <td>272</td>\n",
       "      <td>0</td>\n",
       "      <td>0</td>\n",
       "      <td>0</td>\n",
       "      <td>0</td>\n",
       "      <td>2</td>\n",
       "      <td>2006</td>\n",
       "      <td>WD</td>\n",
       "      <td>Abnorml</td>\n",
       "      <td>140000</td>\n",
       "    </tr>\n",
       "    <tr>\n",
       "      <th>4</th>\n",
       "      <td>60</td>\n",
       "      <td>RL</td>\n",
       "      <td>14260</td>\n",
       "      <td>Pave</td>\n",
       "      <td>IR1</td>\n",
       "      <td>Lvl</td>\n",
       "      <td>AllPub</td>\n",
       "      <td>FR2</td>\n",
       "      <td>Gtl</td>\n",
       "      <td>NoRidge</td>\n",
       "      <td>...</td>\n",
       "      <td>0</td>\n",
       "      <td>0</td>\n",
       "      <td>0</td>\n",
       "      <td>0</td>\n",
       "      <td>0</td>\n",
       "      <td>12</td>\n",
       "      <td>2008</td>\n",
       "      <td>WD</td>\n",
       "      <td>Normal</td>\n",
       "      <td>250000</td>\n",
       "    </tr>\n",
       "    <tr>\n",
       "      <th>...</th>\n",
       "      <td>...</td>\n",
       "      <td>...</td>\n",
       "      <td>...</td>\n",
       "      <td>...</td>\n",
       "      <td>...</td>\n",
       "      <td>...</td>\n",
       "      <td>...</td>\n",
       "      <td>...</td>\n",
       "      <td>...</td>\n",
       "      <td>...</td>\n",
       "      <td>...</td>\n",
       "      <td>...</td>\n",
       "      <td>...</td>\n",
       "      <td>...</td>\n",
       "      <td>...</td>\n",
       "      <td>...</td>\n",
       "      <td>...</td>\n",
       "      <td>...</td>\n",
       "      <td>...</td>\n",
       "      <td>...</td>\n",
       "      <td>...</td>\n",
       "    </tr>\n",
       "    <tr>\n",
       "      <th>1455</th>\n",
       "      <td>60</td>\n",
       "      <td>RL</td>\n",
       "      <td>7917</td>\n",
       "      <td>Pave</td>\n",
       "      <td>Reg</td>\n",
       "      <td>Lvl</td>\n",
       "      <td>AllPub</td>\n",
       "      <td>Inside</td>\n",
       "      <td>Gtl</td>\n",
       "      <td>Gilbert</td>\n",
       "      <td>...</td>\n",
       "      <td>0</td>\n",
       "      <td>0</td>\n",
       "      <td>0</td>\n",
       "      <td>0</td>\n",
       "      <td>0</td>\n",
       "      <td>8</td>\n",
       "      <td>2007</td>\n",
       "      <td>WD</td>\n",
       "      <td>Normal</td>\n",
       "      <td>175000</td>\n",
       "    </tr>\n",
       "    <tr>\n",
       "      <th>1456</th>\n",
       "      <td>20</td>\n",
       "      <td>RL</td>\n",
       "      <td>13175</td>\n",
       "      <td>Pave</td>\n",
       "      <td>Reg</td>\n",
       "      <td>Lvl</td>\n",
       "      <td>AllPub</td>\n",
       "      <td>Inside</td>\n",
       "      <td>Gtl</td>\n",
       "      <td>NWAmes</td>\n",
       "      <td>...</td>\n",
       "      <td>0</td>\n",
       "      <td>0</td>\n",
       "      <td>0</td>\n",
       "      <td>0</td>\n",
       "      <td>0</td>\n",
       "      <td>2</td>\n",
       "      <td>2010</td>\n",
       "      <td>WD</td>\n",
       "      <td>Normal</td>\n",
       "      <td>210000</td>\n",
       "    </tr>\n",
       "    <tr>\n",
       "      <th>1457</th>\n",
       "      <td>70</td>\n",
       "      <td>RL</td>\n",
       "      <td>9042</td>\n",
       "      <td>Pave</td>\n",
       "      <td>Reg</td>\n",
       "      <td>Lvl</td>\n",
       "      <td>AllPub</td>\n",
       "      <td>Inside</td>\n",
       "      <td>Gtl</td>\n",
       "      <td>Crawfor</td>\n",
       "      <td>...</td>\n",
       "      <td>0</td>\n",
       "      <td>0</td>\n",
       "      <td>0</td>\n",
       "      <td>0</td>\n",
       "      <td>2500</td>\n",
       "      <td>5</td>\n",
       "      <td>2010</td>\n",
       "      <td>WD</td>\n",
       "      <td>Normal</td>\n",
       "      <td>266500</td>\n",
       "    </tr>\n",
       "    <tr>\n",
       "      <th>1458</th>\n",
       "      <td>20</td>\n",
       "      <td>RL</td>\n",
       "      <td>9717</td>\n",
       "      <td>Pave</td>\n",
       "      <td>Reg</td>\n",
       "      <td>Lvl</td>\n",
       "      <td>AllPub</td>\n",
       "      <td>Inside</td>\n",
       "      <td>Gtl</td>\n",
       "      <td>NAmes</td>\n",
       "      <td>...</td>\n",
       "      <td>112</td>\n",
       "      <td>0</td>\n",
       "      <td>0</td>\n",
       "      <td>0</td>\n",
       "      <td>0</td>\n",
       "      <td>4</td>\n",
       "      <td>2010</td>\n",
       "      <td>WD</td>\n",
       "      <td>Normal</td>\n",
       "      <td>142125</td>\n",
       "    </tr>\n",
       "    <tr>\n",
       "      <th>1459</th>\n",
       "      <td>20</td>\n",
       "      <td>RL</td>\n",
       "      <td>9937</td>\n",
       "      <td>Pave</td>\n",
       "      <td>Reg</td>\n",
       "      <td>Lvl</td>\n",
       "      <td>AllPub</td>\n",
       "      <td>Inside</td>\n",
       "      <td>Gtl</td>\n",
       "      <td>Edwards</td>\n",
       "      <td>...</td>\n",
       "      <td>0</td>\n",
       "      <td>0</td>\n",
       "      <td>0</td>\n",
       "      <td>0</td>\n",
       "      <td>0</td>\n",
       "      <td>6</td>\n",
       "      <td>2008</td>\n",
       "      <td>WD</td>\n",
       "      <td>Normal</td>\n",
       "      <td>147500</td>\n",
       "    </tr>\n",
       "  </tbody>\n",
       "</table>\n",
       "<p>1460 rows × 69 columns</p>\n",
       "</div>"
      ],
      "text/plain": [
       "      MSSubClass MSZoning  LotArea Street LotShape LandContour Utilities  \\\n",
       "0             60       RL     8450   Pave      Reg         Lvl    AllPub   \n",
       "1             20       RL     9600   Pave      Reg         Lvl    AllPub   \n",
       "2             60       RL    11250   Pave      IR1         Lvl    AllPub   \n",
       "3             70       RL     9550   Pave      IR1         Lvl    AllPub   \n",
       "4             60       RL    14260   Pave      IR1         Lvl    AllPub   \n",
       "...          ...      ...      ...    ...      ...         ...       ...   \n",
       "1455          60       RL     7917   Pave      Reg         Lvl    AllPub   \n",
       "1456          20       RL    13175   Pave      Reg         Lvl    AllPub   \n",
       "1457          70       RL     9042   Pave      Reg         Lvl    AllPub   \n",
       "1458          20       RL     9717   Pave      Reg         Lvl    AllPub   \n",
       "1459          20       RL     9937   Pave      Reg         Lvl    AllPub   \n",
       "\n",
       "     LotConfig LandSlope Neighborhood  ... EnclosedPorch 3SsnPorch  \\\n",
       "0       Inside       Gtl      CollgCr  ...             0         0   \n",
       "1          FR2       Gtl      Veenker  ...             0         0   \n",
       "2       Inside       Gtl      CollgCr  ...             0         0   \n",
       "3       Corner       Gtl      Crawfor  ...           272         0   \n",
       "4          FR2       Gtl      NoRidge  ...             0         0   \n",
       "...        ...       ...          ...  ...           ...       ...   \n",
       "1455    Inside       Gtl      Gilbert  ...             0         0   \n",
       "1456    Inside       Gtl       NWAmes  ...             0         0   \n",
       "1457    Inside       Gtl      Crawfor  ...             0         0   \n",
       "1458    Inside       Gtl        NAmes  ...           112         0   \n",
       "1459    Inside       Gtl      Edwards  ...             0         0   \n",
       "\n",
       "     ScreenPorch PoolArea  MiscVal  MoSold  YrSold  SaleType SaleCondition  \\\n",
       "0              0        0        0       2    2008        WD        Normal   \n",
       "1              0        0        0       5    2007        WD        Normal   \n",
       "2              0        0        0       9    2008        WD        Normal   \n",
       "3              0        0        0       2    2006        WD       Abnorml   \n",
       "4              0        0        0      12    2008        WD        Normal   \n",
       "...          ...      ...      ...     ...     ...       ...           ...   \n",
       "1455           0        0        0       8    2007        WD        Normal   \n",
       "1456           0        0        0       2    2010        WD        Normal   \n",
       "1457           0        0     2500       5    2010        WD        Normal   \n",
       "1458           0        0        0       4    2010        WD        Normal   \n",
       "1459           0        0        0       6    2008        WD        Normal   \n",
       "\n",
       "     SalePrice  \n",
       "0       208500  \n",
       "1       181500  \n",
       "2       223500  \n",
       "3       140000  \n",
       "4       250000  \n",
       "...        ...  \n",
       "1455    175000  \n",
       "1456    210000  \n",
       "1457    266500  \n",
       "1458    142125  \n",
       "1459    147500  \n",
       "\n",
       "[1460 rows x 69 columns]"
      ]
     },
     "execution_count": 116,
     "metadata": {},
     "output_type": "execute_result"
    }
   ],
   "source": [
    "# your code here\n",
    "df = df.drop([\"Id\"], axis = 1)\n",
    "df = df.drop(features_to_throw, axis = 1)\n",
    "# remove the columns according to the above result, replace df with the new results\n",
    "# also remove ID column as it's not a useful feature\n",
    "df"
   ]
  },
  {
   "cell_type": "code",
   "execution_count": 29,
   "metadata": {
    "deletable": false,
    "editable": false,
    "nbgrader": {
     "cell_type": "code",
     "checksum": "e88a950221bbf615924d9d352795635d",
     "grade": true,
     "grade_id": "cell-f6c0fb38ec21da14",
     "locked": true,
     "points": 5,
     "schema_version": 3,
     "solution": false,
     "task": false
    }
   },
   "outputs": [],
   "source": [
    "# tests that you properly updated df "
   ]
  },
  {
   "cell_type": "markdown",
   "metadata": {
    "deletable": false,
    "editable": false,
    "nbgrader": {
     "cell_type": "markdown",
     "checksum": "51676bcf1ccf98b495f97acf8b653866",
     "grade": false,
     "grade_id": "cell-d4cebd6f858b3f50",
     "locked": true,
     "schema_version": 3,
     "solution": false,
     "task": false
    }
   },
   "source": [
    "### 3c) Impute missing data [8 pts]\n",
    "Before imputing columns, we need to think about what methods to use to impute columns.\n",
    "The imputation strategy can be different depending on the variable types and variable value distribution. There are many imputation techniques, but let's use a few simple ones.    \n",
    "\n",
    "For a numerical variable imputation, we impute mean value if the distribution is symmetric while we use median value to impute when the distribution is skewed. Another method is to assign an arbitrary value that's outside the normal range. Though it can be useful to capture missingness, but it can create outliers. Both mean/median and arbitrary imputation methods are simple to use and suitable when missing values are 5% (no more than 10%) as a rule of thumb. Both methods can distort the original distribution.\n",
    "\n",
    "For a categorical variable imputation, we can impute with the most frequent categorical value. It is a simple method but it can distort the original distribution. \n",
    "It is also possible to create a \"missing\" category to capture missingness. The advantage of using missing category is that it captures missingness but its disadvantage is that it creates another rare category. "
   ]
  },
  {
   "cell_type": "markdown",
   "metadata": {
    "deletable": false,
    "editable": false,
    "nbgrader": {
     "cell_type": "markdown",
     "checksum": "860532c99a2364873a696d00826062a0",
     "grade": false,
     "grade_id": "cell-1682d3325bf66ea1",
     "locked": true,
     "schema_version": 3,
     "solution": false,
     "task": false
    }
   },
   "source": [
    "Below code shows histograms of feature columns that we can impute."
   ]
  },
  {
   "cell_type": "code",
   "execution_count": 30,
   "metadata": {
    "deletable": false,
    "editable": false,
    "nbgrader": {
     "cell_type": "code",
     "checksum": "c56df78836335b4d8586514930f46da2",
     "grade": false,
     "grade_id": "cell-09e44205ad080ceb",
     "locked": true,
     "schema_version": 3,
     "solution": false,
     "task": false
    }
   },
   "outputs": [
    {
     "ename": "KeyError",
     "evalue": "'Id'",
     "output_type": "error",
     "traceback": [
      "\u001b[0;31m---------------------------------------------------------------------------\u001b[0m",
      "\u001b[0;31mKeyError\u001b[0m                                  Traceback (most recent call last)",
      "\u001b[0;32m/opt/conda/lib/python3.7/site-packages/pandas/core/indexes/base.py\u001b[0m in \u001b[0;36mget_loc\u001b[0;34m(self, key, method, tolerance)\u001b[0m\n\u001b[1;32m   2645\u001b[0m             \u001b[0;32mtry\u001b[0m\u001b[0;34m:\u001b[0m\u001b[0;34m\u001b[0m\u001b[0;34m\u001b[0m\u001b[0m\n\u001b[0;32m-> 2646\u001b[0;31m                 \u001b[0;32mreturn\u001b[0m \u001b[0mself\u001b[0m\u001b[0;34m.\u001b[0m\u001b[0m_engine\u001b[0m\u001b[0;34m.\u001b[0m\u001b[0mget_loc\u001b[0m\u001b[0;34m(\u001b[0m\u001b[0mkey\u001b[0m\u001b[0;34m)\u001b[0m\u001b[0;34m\u001b[0m\u001b[0;34m\u001b[0m\u001b[0m\n\u001b[0m\u001b[1;32m   2647\u001b[0m             \u001b[0;32mexcept\u001b[0m \u001b[0mKeyError\u001b[0m\u001b[0;34m:\u001b[0m\u001b[0;34m\u001b[0m\u001b[0;34m\u001b[0m\u001b[0m\n",
      "\u001b[0;32mpandas/_libs/index.pyx\u001b[0m in \u001b[0;36mpandas._libs.index.IndexEngine.get_loc\u001b[0;34m()\u001b[0m\n",
      "\u001b[0;32mpandas/_libs/index.pyx\u001b[0m in \u001b[0;36mpandas._libs.index.IndexEngine.get_loc\u001b[0;34m()\u001b[0m\n",
      "\u001b[0;32mpandas/_libs/hashtable_class_helper.pxi\u001b[0m in \u001b[0;36mpandas._libs.hashtable.PyObjectHashTable.get_item\u001b[0;34m()\u001b[0m\n",
      "\u001b[0;32mpandas/_libs/hashtable_class_helper.pxi\u001b[0m in \u001b[0;36mpandas._libs.hashtable.PyObjectHashTable.get_item\u001b[0;34m()\u001b[0m\n",
      "\u001b[0;31mKeyError\u001b[0m: 'Id'",
      "\nDuring handling of the above exception, another exception occurred:\n",
      "\u001b[0;31mKeyError\u001b[0m                                  Traceback (most recent call last)",
      "\u001b[0;32m<ipython-input-30-101eac87f09c>\u001b[0m in \u001b[0;36m<module>\u001b[0;34m\u001b[0m\n\u001b[1;32m      1\u001b[0m \u001b[0;32mfor\u001b[0m \u001b[0mc\u001b[0m \u001b[0;32min\u001b[0m \u001b[0mfeatures_to_impute\u001b[0m\u001b[0;34m:\u001b[0m\u001b[0;34m\u001b[0m\u001b[0;34m\u001b[0m\u001b[0m\n\u001b[0;32m----> 2\u001b[0;31m     \u001b[0mdf\u001b[0m\u001b[0;34m[\u001b[0m\u001b[0mc\u001b[0m\u001b[0;34m]\u001b[0m\u001b[0;34m.\u001b[0m\u001b[0mhist\u001b[0m\u001b[0;34m(\u001b[0m\u001b[0;34m)\u001b[0m\u001b[0;34m\u001b[0m\u001b[0;34m\u001b[0m\u001b[0m\n\u001b[0m\u001b[1;32m      3\u001b[0m     \u001b[0mplt\u001b[0m\u001b[0;34m.\u001b[0m\u001b[0mtitle\u001b[0m\u001b[0;34m(\u001b[0m\u001b[0mc\u001b[0m\u001b[0;34m)\u001b[0m\u001b[0;34m\u001b[0m\u001b[0;34m\u001b[0m\u001b[0m\n\u001b[1;32m      4\u001b[0m     \u001b[0mplt\u001b[0m\u001b[0;34m.\u001b[0m\u001b[0mshow\u001b[0m\u001b[0;34m(\u001b[0m\u001b[0;34m)\u001b[0m\u001b[0;34m\u001b[0m\u001b[0;34m\u001b[0m\u001b[0m\n",
      "\u001b[0;32m/opt/conda/lib/python3.7/site-packages/pandas/core/frame.py\u001b[0m in \u001b[0;36m__getitem__\u001b[0;34m(self, key)\u001b[0m\n\u001b[1;32m   2798\u001b[0m             \u001b[0;32mif\u001b[0m \u001b[0mself\u001b[0m\u001b[0;34m.\u001b[0m\u001b[0mcolumns\u001b[0m\u001b[0;34m.\u001b[0m\u001b[0mnlevels\u001b[0m \u001b[0;34m>\u001b[0m \u001b[0;36m1\u001b[0m\u001b[0;34m:\u001b[0m\u001b[0;34m\u001b[0m\u001b[0;34m\u001b[0m\u001b[0m\n\u001b[1;32m   2799\u001b[0m                 \u001b[0;32mreturn\u001b[0m \u001b[0mself\u001b[0m\u001b[0;34m.\u001b[0m\u001b[0m_getitem_multilevel\u001b[0m\u001b[0;34m(\u001b[0m\u001b[0mkey\u001b[0m\u001b[0;34m)\u001b[0m\u001b[0;34m\u001b[0m\u001b[0;34m\u001b[0m\u001b[0m\n\u001b[0;32m-> 2800\u001b[0;31m             \u001b[0mindexer\u001b[0m \u001b[0;34m=\u001b[0m \u001b[0mself\u001b[0m\u001b[0;34m.\u001b[0m\u001b[0mcolumns\u001b[0m\u001b[0;34m.\u001b[0m\u001b[0mget_loc\u001b[0m\u001b[0;34m(\u001b[0m\u001b[0mkey\u001b[0m\u001b[0;34m)\u001b[0m\u001b[0;34m\u001b[0m\u001b[0;34m\u001b[0m\u001b[0m\n\u001b[0m\u001b[1;32m   2801\u001b[0m             \u001b[0;32mif\u001b[0m \u001b[0mis_integer\u001b[0m\u001b[0;34m(\u001b[0m\u001b[0mindexer\u001b[0m\u001b[0;34m)\u001b[0m\u001b[0;34m:\u001b[0m\u001b[0;34m\u001b[0m\u001b[0;34m\u001b[0m\u001b[0m\n\u001b[1;32m   2802\u001b[0m                 \u001b[0mindexer\u001b[0m \u001b[0;34m=\u001b[0m \u001b[0;34m[\u001b[0m\u001b[0mindexer\u001b[0m\u001b[0;34m]\u001b[0m\u001b[0;34m\u001b[0m\u001b[0;34m\u001b[0m\u001b[0m\n",
      "\u001b[0;32m/opt/conda/lib/python3.7/site-packages/pandas/core/indexes/base.py\u001b[0m in \u001b[0;36mget_loc\u001b[0;34m(self, key, method, tolerance)\u001b[0m\n\u001b[1;32m   2646\u001b[0m                 \u001b[0;32mreturn\u001b[0m \u001b[0mself\u001b[0m\u001b[0;34m.\u001b[0m\u001b[0m_engine\u001b[0m\u001b[0;34m.\u001b[0m\u001b[0mget_loc\u001b[0m\u001b[0;34m(\u001b[0m\u001b[0mkey\u001b[0m\u001b[0;34m)\u001b[0m\u001b[0;34m\u001b[0m\u001b[0;34m\u001b[0m\u001b[0m\n\u001b[1;32m   2647\u001b[0m             \u001b[0;32mexcept\u001b[0m \u001b[0mKeyError\u001b[0m\u001b[0;34m:\u001b[0m\u001b[0;34m\u001b[0m\u001b[0;34m\u001b[0m\u001b[0m\n\u001b[0;32m-> 2648\u001b[0;31m                 \u001b[0;32mreturn\u001b[0m \u001b[0mself\u001b[0m\u001b[0;34m.\u001b[0m\u001b[0m_engine\u001b[0m\u001b[0;34m.\u001b[0m\u001b[0mget_loc\u001b[0m\u001b[0;34m(\u001b[0m\u001b[0mself\u001b[0m\u001b[0;34m.\u001b[0m\u001b[0m_maybe_cast_indexer\u001b[0m\u001b[0;34m(\u001b[0m\u001b[0mkey\u001b[0m\u001b[0;34m)\u001b[0m\u001b[0;34m)\u001b[0m\u001b[0;34m\u001b[0m\u001b[0;34m\u001b[0m\u001b[0m\n\u001b[0m\u001b[1;32m   2649\u001b[0m         \u001b[0mindexer\u001b[0m \u001b[0;34m=\u001b[0m \u001b[0mself\u001b[0m\u001b[0;34m.\u001b[0m\u001b[0mget_indexer\u001b[0m\u001b[0;34m(\u001b[0m\u001b[0;34m[\u001b[0m\u001b[0mkey\u001b[0m\u001b[0;34m]\u001b[0m\u001b[0;34m,\u001b[0m \u001b[0mmethod\u001b[0m\u001b[0;34m=\u001b[0m\u001b[0mmethod\u001b[0m\u001b[0;34m,\u001b[0m \u001b[0mtolerance\u001b[0m\u001b[0;34m=\u001b[0m\u001b[0mtolerance\u001b[0m\u001b[0;34m)\u001b[0m\u001b[0;34m\u001b[0m\u001b[0;34m\u001b[0m\u001b[0m\n\u001b[1;32m   2650\u001b[0m         \u001b[0;32mif\u001b[0m \u001b[0mindexer\u001b[0m\u001b[0;34m.\u001b[0m\u001b[0mndim\u001b[0m \u001b[0;34m>\u001b[0m \u001b[0;36m1\u001b[0m \u001b[0;32mor\u001b[0m \u001b[0mindexer\u001b[0m\u001b[0;34m.\u001b[0m\u001b[0msize\u001b[0m \u001b[0;34m>\u001b[0m \u001b[0;36m1\u001b[0m\u001b[0;34m:\u001b[0m\u001b[0;34m\u001b[0m\u001b[0;34m\u001b[0m\u001b[0m\n",
      "\u001b[0;32mpandas/_libs/index.pyx\u001b[0m in \u001b[0;36mpandas._libs.index.IndexEngine.get_loc\u001b[0;34m()\u001b[0m\n",
      "\u001b[0;32mpandas/_libs/index.pyx\u001b[0m in \u001b[0;36mpandas._libs.index.IndexEngine.get_loc\u001b[0;34m()\u001b[0m\n",
      "\u001b[0;32mpandas/_libs/hashtable_class_helper.pxi\u001b[0m in \u001b[0;36mpandas._libs.hashtable.PyObjectHashTable.get_item\u001b[0;34m()\u001b[0m\n",
      "\u001b[0;32mpandas/_libs/hashtable_class_helper.pxi\u001b[0m in \u001b[0;36mpandas._libs.hashtable.PyObjectHashTable.get_item\u001b[0;34m()\u001b[0m\n",
      "\u001b[0;31mKeyError\u001b[0m: 'Id'"
     ]
    }
   ],
   "source": [
    "for c in features_to_impute:\n",
    "    df[c].hist()\n",
    "    plt.title(c)\n",
    "    plt.show()"
   ]
  },
  {
   "cell_type": "code",
   "execution_count": 31,
   "metadata": {},
   "outputs": [
    {
     "data": {
      "image/png": "[encoded data removed]",
      "text/plain": [
       "<Figure size 432x288 with 1 Axes>"
      ]
     },
     "metadata": {
      "needs_background": "light"
     },
     "output_type": "display_data"
    },
    {
     "data": {
      "image/png": "[encoded data removed]",
      "text/plain": [
       "<Figure size 432x288 with 1 Axes>"
      ]
     },
     "metadata": {
      "needs_background": "light"
     },
     "output_type": "display_data"
    },
    {
     "data": {
      "image/png": "[encoded data removed]",
      "text/plain": [
       "<Figure size 432x288 with 1 Axes>"
      ]
     },
     "metadata": {
      "needs_background": "light"
     },
     "output_type": "display_data"
    },
    {
     "data": {
      "image/png": "[encoded data removed]",
      "text/plain": [
       "<Figure size 432x288 with 1 Axes>"
      ]
     },
     "metadata": {
      "needs_background": "light"
     },
     "output_type": "display_data"
    },
    {
     "data": {
      "image/png": "[encoded data removed]",
      "text/plain": [
       "<Figure size 432x288 with 1 Axes>"
      ]
     },
     "metadata": {
      "needs_background": "light"
     },
     "output_type": "display_data"
    },
    {
     "data": {
      "image/png": "[encoded data removed]",
      "text/plain": [
       "<Figure size 432x288 with 1 Axes>"
      ]
     },
     "metadata": {
      "needs_background": "light"
     },
     "output_type": "display_data"
    },
    {
     "data": {
      "image/png": "[encoded data removed]",
      "text/plain": [
       "<Figure size 432x288 with 1 Axes>"
      ]
     },
     "metadata": {
      "needs_background": "light"
     },
     "output_type": "display_data"
    },
    {
     "data": {
      "image/png": "[encoded data removed]",
      "text/plain": [
       "<Figure size 432x288 with 1 Axes>"
      ]
     },
     "metadata": {
      "needs_background": "light"
     },
     "output_type": "display_data"
    },
    {
     "data": {
      "image/png": "[encoded data removed]",
      "text/plain": [
       "<Figure size 432x288 with 1 Axes>"
      ]
     },
     "metadata": {
      "needs_background": "light"
     },
     "output_type": "display_data"
    },
    {
     "data": {
      "image/png": "[encoded data removed]",
      "text/plain": [
       "<Figure size 432x288 with 1 Axes>"
      ]
     },
     "metadata": {
      "needs_background": "light"
     },
     "output_type": "display_data"
    },
    {
     "data": {
      "image/png": "[encoded data removed]",
      "text/plain": [
       "<Figure size 432x288 with 1 Axes>"
      ]
     },
     "metadata": {
      "needs_background": "light"
     },
     "output_type": "display_data"
    },
    {
     "data": {
      "image/png": "[encoded data removed]",
      "text/plain": [
       "<Figure size 432x288 with 1 Axes>"
      ]
     },
     "metadata": {
      "needs_background": "light"
     },
     "output_type": "display_data"
    },
    {
     "data": {
      "image/png": "[encoded data removed]",
      "text/plain": [
       "<Figure size 432x288 with 1 Axes>"
      ]
     },
     "metadata": {
      "needs_background": "light"
     },
     "output_type": "display_data"
    },
    {
     "data": {
      "image/png": "[encoded data removed]",
      "text/plain": [
       "<Figure size 432x288 with 1 Axes>"
      ]
     },
     "metadata": {
      "needs_background": "light"
     },
     "output_type": "display_data"
    },
    {
     "data": {
      "image/png": "[encoded data removed]",
      "text/plain": [
       "<Figure size 432x288 with 1 Axes>"
      ]
     },
     "metadata": {
      "needs_background": "light"
     },
     "output_type": "display_data"
    },
    {
     "data": {
      "image/png": "[encoded data removed]",
      "text/plain": [
       "<Figure size 432x288 with 1 Axes>"
      ]
     },
     "metadata": {
      "needs_background": "light"
     },
     "output_type": "display_data"
    },
    {
     "data": {
      "image/png": "[encoded data removed]",
      "text/plain": [
       "<Figure size 432x288 with 1 Axes>"
      ]
     },
     "metadata": {
      "needs_background": "light"
     },
     "output_type": "display_data"
    },
    {
     "data": {
      "image/png": "[encoded data removed]",
      "text/plain": [
       "<Figure size 432x288 with 1 Axes>"
      ]
     },
     "metadata": {
      "needs_background": "light"
     },
     "output_type": "display_data"
    },
    {
     "data": {
      "image/png": "[encoded data removed]",
      "text/plain": [
       "<Figure size 432x288 with 1 Axes>"
      ]
     },
     "metadata": {
      "needs_background": "light"
     },
     "output_type": "display_data"
    },
    {
     "data": {
      "image/png": "[encoded data removed]",
      "text/plain": [
       "<Figure size 432x288 with 1 Axes>"
      ]
     },
     "metadata": {
      "needs_background": "light"
     },
     "output_type": "display_data"
    },
    {
     "data": {
      "image/png": "[encoded data removed]",
      "text/plain": [
       "<Figure size 432x288 with 1 Axes>"
      ]
     },
     "metadata": {
      "needs_background": "light"
     },
     "output_type": "display_data"
    },
    {
     "data": {
      "image/png": "[encoded data removed]",
      "text/plain": [
       "<Figure size 432x288 with 1 Axes>"
      ]
     },
     "metadata": {
      "needs_background": "light"
     },
     "output_type": "display_data"
    },
    {
     "data": {
      "image/png": "[encoded data removed]",
      "text/plain": [
       "<Figure size 432x288 with 1 Axes>"
      ]
     },
     "metadata": {
      "needs_background": "light"
     },
     "output_type": "display_data"
    },
    {
     "data": {
      "image/png": "[encoded data removed]",
      "text/plain": [
       "<Figure size 432x288 with 1 Axes>"
      ]
     },
     "metadata": {
      "needs_background": "light"
     },
     "output_type": "display_data"
    },
    {
     "data": {
      "image/png": "[encoded data removed]",
      "text/plain": [
       "<Figure size 432x288 with 1 Axes>"
      ]
     },
     "metadata": {
      "needs_background": "light"
     },
     "output_type": "display_data"
    },
    {
     "data": {
      "image/png": "[encoded data removed]",
      "text/plain": [
       "<Figure size 432x288 with 1 Axes>"
      ]
     },
     "metadata": {
      "needs_background": "light"
     },
     "output_type": "display_data"
    },
    {
     "data": {
      "image/png": "[encoded data removed]",
      "text/plain": [
       "<Figure size 432x288 with 1 Axes>"
      ]
     },
     "metadata": {
      "needs_background": "light"
     },
     "output_type": "display_data"
    },
    {
     "data": {
      "image/png": "[encoded data removed]",
      "text/plain": [
       "<Figure size 432x288 with 1 Axes>"
      ]
     },
     "metadata": {
      "needs_background": "light"
     },
     "output_type": "display_data"
    },
    {
     "data": {
      "image/png": "[encoded data removed]",
      "text/plain": [
       "<Figure size 432x288 with 1 Axes>"
      ]
     },
     "metadata": {
      "needs_background": "light"
     },
     "output_type": "display_data"
    },
    {
     "data": {
      "image/png": "[encoded data removed]",
      "text/plain": [
       "<Figure size 432x288 with 1 Axes>"
      ]
     },
     "metadata": {
      "needs_background": "light"
     },
     "output_type": "display_data"
    },
    {
     "data": {
      "image/png": "[encoded data removed]",
      "text/plain": [
       "<Figure size 432x288 with 1 Axes>"
      ]
     },
     "metadata": {
      "needs_background": "light"
     },
     "output_type": "display_data"
    },
    {
     "data": {
      "image/png": "[encoded data removed]",
      "text/plain": [
       "<Figure size 432x288 with 1 Axes>"
      ]
     },
     "metadata": {
      "needs_background": "light"
     },
     "output_type": "display_data"
    },
    {
     "data": {
      "image/png": "[encoded data removed]",
      "text/plain": [
       "<Figure size 432x288 with 1 Axes>"
      ]
     },
     "metadata": {
      "needs_background": "light"
     },
     "output_type": "display_data"
    },
    {
     "data": {
      "image/png": "[encoded data removed]",
      "text/plain": [
       "<Figure size 432x288 with 1 Axes>"
      ]
     },
     "metadata": {
      "needs_background": "light"
     },
     "output_type": "display_data"
    },
    {
     "data": {
      "image/png": "[encoded data removed]",
      "text/plain": [
       "<Figure size 432x288 with 1 Axes>"
      ]
     },
     "metadata": {
      "needs_background": "light"
     },
     "output_type": "display_data"
    },
    {
     "data": {
      "image/png": "[encoded data removed]",
      "text/plain": [
       "<Figure size 432x288 with 1 Axes>"
      ]
     },
     "metadata": {
      "needs_background": "light"
     },
     "output_type": "display_data"
    },
    {
     "data": {
      "image/png": "[encoded data removed]",
      "text/plain": [
       "<Figure size 432x288 with 1 Axes>"
      ]
     },
     "metadata": {
      "needs_background": "light"
     },
     "output_type": "display_data"
    },
    {
     "data": {
      "image/png": "[encoded data removed]",
      "text/plain": [
       "<Figure size 432x288 with 1 Axes>"
      ]
     },
     "metadata": {
      "needs_background": "light"
     },
     "output_type": "display_data"
    },
    {
     "data": {
      "image/png": "[encoded data removed]",
      "text/plain": [
       "<Figure size 432x288 with 1 Axes>"
      ]
     },
     "metadata": {
      "needs_background": "light"
     },
     "output_type": "display_data"
    },
    {
     "data": {
      "image/png": "[encoded data removed]",
      "text/plain": [
       "<Figure size 432x288 with 1 Axes>"
      ]
     },
     "metadata": {
      "needs_background": "light"
     },
     "output_type": "display_data"
    },
    {
     "data": {
      "image/png": "[encoded data removed]",
      "text/plain": [
       "<Figure size 432x288 with 1 Axes>"
      ]
     },
     "metadata": {
      "needs_background": "light"
     },
     "output_type": "display_data"
    },
    {
     "data": {
      "image/png": "[encoded data removed]",
      "text/plain": [
       "<Figure size 432x288 with 1 Axes>"
      ]
     },
     "metadata": {
      "needs_background": "light"
     },
     "output_type": "display_data"
    },
    {
     "data": {
      "image/png": "[encoded data removed]",
      "text/plain": [
       "<Figure size 432x288 with 1 Axes>"
      ]
     },
     "metadata": {
      "needs_background": "light"
     },
     "output_type": "display_data"
    },
    {
     "data": {
      "image/png": "[encoded data removed]",
      "text/plain": [
       "<Figure size 432x288 with 1 Axes>"
      ]
     },
     "metadata": {
      "needs_background": "light"
     },
     "output_type": "display_data"
    },
    {
     "data": {
      "image/png": "[encoded data removed]",
      "text/plain": [
       "<Figure size 432x288 with 1 Axes>"
      ]
     },
     "metadata": {
      "needs_background": "light"
     },
     "output_type": "display_data"
    },
    {
     "data": {
      "image/png": "[encoded data removed]",
      "text/plain": [
       "<Figure size 432x288 with 1 Axes>"
      ]
     },
     "metadata": {
      "needs_background": "light"
     },
     "output_type": "display_data"
    },
    {
     "data": {
      "image/png": "[encoded data removed]",
      "text/plain": [
       "<Figure size 432x288 with 1 Axes>"
      ]
     },
     "metadata": {
      "needs_background": "light"
     },
     "output_type": "display_data"
    },
    {
     "data": {
      "image/png": "[encoded data removed]",
      "text/plain": [
       "<Figure size 432x288 with 1 Axes>"
      ]
     },
     "metadata": {
      "needs_background": "light"
     },
     "output_type": "display_data"
    },
    {
     "data": {
      "image/png": "[encoded data removed]",
      "text/plain": [
       "<Figure size 432x288 with 1 Axes>"
      ]
     },
     "metadata": {
      "needs_background": "light"
     },
     "output_type": "display_data"
    },
    {
     "data": {
      "image/png": "[encoded data removed]",
      "text/plain": [
       "<Figure size 432x288 with 1 Axes>"
      ]
     },
     "metadata": {
      "needs_background": "light"
     },
     "output_type": "display_data"
    },
    {
     "data": {
      "image/png": "[encoded data removed]",
      "text/plain": [
       "<Figure size 432x288 with 1 Axes>"
      ]
     },
     "metadata": {
      "needs_background": "light"
     },
     "output_type": "display_data"
    },
    {
     "data": {
      "image/png": "[encoded data removed]",
      "text/plain": [
       "<Figure size 432x288 with 1 Axes>"
      ]
     },
     "metadata": {
      "needs_background": "light"
     },
     "output_type": "display_data"
    },
    {
     "data": {
      "image/png": "[encoded data removed]",
      "text/plain": [
       "<Figure size 432x288 with 1 Axes>"
      ]
     },
     "metadata": {
      "needs_background": "light"
     },
     "output_type": "display_data"
    },
    {
     "data": {
      "image/png": "[encoded data removed]",
      "text/plain": [
       "<Figure size 432x288 with 1 Axes>"
      ]
     },
     "metadata": {
      "needs_background": "light"
     },
     "output_type": "display_data"
    },
    {
     "data": {
      "image/png": "[encoded data removed]",
      "text/plain": [
       "<Figure size 432x288 with 1 Axes>"
      ]
     },
     "metadata": {
      "needs_background": "light"
     },
     "output_type": "display_data"
    },
    {
     "data": {
      "image/png": "[encoded data removed]",
      "text/plain": [
       "<Figure size 432x288 with 1 Axes>"
      ]
     },
     "metadata": {
      "needs_background": "light"
     },
     "output_type": "display_data"
    },
    {
     "data": {
      "image/png": "[encoded data removed]",
      "text/plain": [
       "<Figure size 432x288 with 1 Axes>"
      ]
     },
     "metadata": {
      "needs_background": "light"
     },
     "output_type": "display_data"
    },
    {
     "data": {
      "image/png": "[encoded data removed]",
      "text/plain": [
       "<Figure size 432x288 with 1 Axes>"
      ]
     },
     "metadata": {
      "needs_background": "light"
     },
     "output_type": "display_data"
    },
    {
     "data": {
      "image/png": "[encoded data removed]",
      "text/plain": [
       "<Figure size 432x288 with 1 Axes>"
      ]
     },
     "metadata": {
      "needs_background": "light"
     },
     "output_type": "display_data"
    },
    {
     "data": {
      "image/png": "[encoded data removed]",
      "text/plain": [
       "<Figure size 432x288 with 1 Axes>"
      ]
     },
     "metadata": {
      "needs_background": "light"
     },
     "output_type": "display_data"
    },
    {
     "data": {
      "image/png": "[encoded data removed]",
      "text/plain": [
       "<Figure size 432x288 with 1 Axes>"
      ]
     },
     "metadata": {
      "needs_background": "light"
     },
     "output_type": "display_data"
    },
    {
     "data": {
      "image/png": "[encoded data removed]",
      "text/plain": [
       "<Figure size 432x288 with 1 Axes>"
      ]
     },
     "metadata": {
      "needs_background": "light"
     },
     "output_type": "display_data"
    },
    {
     "data": {
      "image/png": "[encoded data removed]",
      "text/plain": [
       "<Figure size 432x288 with 1 Axes>"
      ]
     },
     "metadata": {
      "needs_background": "light"
     },
     "output_type": "display_data"
    },
    {
     "data": {
      "image/png": "[encoded data removed]",
      "text/plain": [
       "<Figure size 432x288 with 1 Axes>"
      ]
     },
     "metadata": {
      "needs_background": "light"
     },
     "output_type": "display_data"
    },
    {
     "data": {
      "image/png": "[encoded data removed]",
      "text/plain": [
       "<Figure size 432x288 with 1 Axes>"
      ]
     },
     "metadata": {
      "needs_background": "light"
     },
     "output_type": "display_data"
    },
    {
     "data": {
      "image/png": "[encoded data removed]",
      "text/plain": [
       "<Figure size 432x288 with 1 Axes>"
      ]
     },
     "metadata": {
      "needs_background": "light"
     },
     "output_type": "display_data"
    },
    {
     "data": {
      "image/png": "[encoded data removed]",
      "text/plain": [
       "<Figure size 432x288 with 1 Axes>"
      ]
     },
     "metadata": {
      "needs_background": "light"
     },
     "output_type": "display_data"
    },
    {
     "data": {
      "image/png": "[encoded data removed]",
      "text/plain": [
       "<Figure size 432x288 with 1 Axes>"
      ]
     },
     "metadata": {
      "needs_background": "light"
     },
     "output_type": "display_data"
    }
   ],
   "source": [
    "#for c in features_to_impute[1:]:\n",
    "#    df[c].hist()\n",
    "#    plt.title(c)\n",
    "#    plt.show()"
   ]
  },
  {
   "cell_type": "markdown",
   "metadata": {
    "deletable": false,
    "editable": false,
    "nbgrader": {
     "cell_type": "markdown",
     "checksum": "ecaaecf44eb0d6152328b826d3952a8d",
     "grade": false,
     "grade_id": "cell-45e51c905bfb2740",
     "locked": true,
     "schema_version": 3,
     "solution": false,
     "task": false
    }
   },
   "source": [
    "### 3c-i) Impute missing data for features in `features_to_impute`. Choose an appropriate method among mean or median imputation methods for numerical variable(s) and frequentest value imputation for categorical variable(s). [8 pts]\n",
    "You can inspect variable types by eyes, or use below code as a help. Replace those columns with imputed values. Do not change the column name or the data frame name. Do not add new columns to the data frame.     \n",
    "Hint: You can use .mode() function to find the most frequent value in a Series.    \n",
    "Hint: You may use .fillna() function on each feature Series."
   ]
  },
  {
   "cell_type": "code",
   "execution_count": 32,
   "metadata": {
    "deletable": false,
    "editable": false,
    "nbgrader": {
     "cell_type": "code",
     "checksum": "3e19ffc8484ab7f7624020f1b8b79fc6",
     "grade": false,
     "grade_id": "cell-eb5b21da40da7855",
     "locked": true,
     "schema_version": 3,
     "solution": false,
     "task": false
    }
   },
   "outputs": [
    {
     "ename": "KeyError",
     "evalue": "'Id'",
     "output_type": "error",
     "traceback": [
      "\u001b[0;31m---------------------------------------------------------------------------\u001b[0m",
      "\u001b[0;31mKeyError\u001b[0m                                  Traceback (most recent call last)",
      "\u001b[0;32m/opt/conda/lib/python3.7/site-packages/pandas/core/indexes/base.py\u001b[0m in \u001b[0;36mget_loc\u001b[0;34m(self, key, method, tolerance)\u001b[0m\n\u001b[1;32m   2645\u001b[0m             \u001b[0;32mtry\u001b[0m\u001b[0;34m:\u001b[0m\u001b[0;34m\u001b[0m\u001b[0;34m\u001b[0m\u001b[0m\n\u001b[0;32m-> 2646\u001b[0;31m                 \u001b[0;32mreturn\u001b[0m \u001b[0mself\u001b[0m\u001b[0;34m.\u001b[0m\u001b[0m_engine\u001b[0m\u001b[0;34m.\u001b[0m\u001b[0mget_loc\u001b[0m\u001b[0;34m(\u001b[0m\u001b[0mkey\u001b[0m\u001b[0;34m)\u001b[0m\u001b[0;34m\u001b[0m\u001b[0;34m\u001b[0m\u001b[0m\n\u001b[0m\u001b[1;32m   2647\u001b[0m             \u001b[0;32mexcept\u001b[0m \u001b[0mKeyError\u001b[0m\u001b[0;34m:\u001b[0m\u001b[0;34m\u001b[0m\u001b[0;34m\u001b[0m\u001b[0m\n",
      "\u001b[0;32mpandas/_libs/index.pyx\u001b[0m in \u001b[0;36mpandas._libs.index.IndexEngine.get_loc\u001b[0;34m()\u001b[0m\n",
      "\u001b[0;32mpandas/_libs/index.pyx\u001b[0m in \u001b[0;36mpandas._libs.index.IndexEngine.get_loc\u001b[0;34m()\u001b[0m\n",
      "\u001b[0;32mpandas/_libs/hashtable_class_helper.pxi\u001b[0m in \u001b[0;36mpandas._libs.hashtable.PyObjectHashTable.get_item\u001b[0;34m()\u001b[0m\n",
      "\u001b[0;32mpandas/_libs/hashtable_class_helper.pxi\u001b[0m in \u001b[0;36mpandas._libs.hashtable.PyObjectHashTable.get_item\u001b[0;34m()\u001b[0m\n",
      "\u001b[0;31mKeyError\u001b[0m: 'Id'",
      "\nDuring handling of the above exception, another exception occurred:\n",
      "\u001b[0;31mKeyError\u001b[0m                                  Traceback (most recent call last)",
      "\u001b[0;32m<ipython-input-32-dc4e0a0ce907>\u001b[0m in \u001b[0;36m<module>\u001b[0;34m\u001b[0m\n\u001b[1;32m      1\u001b[0m \u001b[0;32mfor\u001b[0m \u001b[0mc\u001b[0m \u001b[0;32min\u001b[0m \u001b[0mfeatures_to_impute\u001b[0m\u001b[0;34m:\u001b[0m\u001b[0;34m\u001b[0m\u001b[0;34m\u001b[0m\u001b[0m\n\u001b[0;32m----> 2\u001b[0;31m     \u001b[0mprint\u001b[0m\u001b[0;34m(\u001b[0m\u001b[0mc\u001b[0m\u001b[0;34m,\u001b[0m \u001b[0mlen\u001b[0m\u001b[0;34m(\u001b[0m\u001b[0mdf\u001b[0m\u001b[0;34m[\u001b[0m\u001b[0mc\u001b[0m\u001b[0;34m]\u001b[0m\u001b[0;34m.\u001b[0m\u001b[0munique\u001b[0m\u001b[0;34m(\u001b[0m\u001b[0;34m)\u001b[0m\u001b[0;34m)\u001b[0m\u001b[0;34m,\u001b[0m \u001b[0mdf\u001b[0m\u001b[0;34m[\u001b[0m\u001b[0mc\u001b[0m\u001b[0;34m]\u001b[0m\u001b[0;34m.\u001b[0m\u001b[0mdtype\u001b[0m\u001b[0;34m)\u001b[0m\u001b[0;34m\u001b[0m\u001b[0;34m\u001b[0m\u001b[0m\n\u001b[0m",
      "\u001b[0;32m/opt/conda/lib/python3.7/site-packages/pandas/core/frame.py\u001b[0m in \u001b[0;36m__getitem__\u001b[0;34m(self, key)\u001b[0m\n\u001b[1;32m   2798\u001b[0m             \u001b[0;32mif\u001b[0m \u001b[0mself\u001b[0m\u001b[0;34m.\u001b[0m\u001b[0mcolumns\u001b[0m\u001b[0;34m.\u001b[0m\u001b[0mnlevels\u001b[0m \u001b[0;34m>\u001b[0m \u001b[0;36m1\u001b[0m\u001b[0;34m:\u001b[0m\u001b[0;34m\u001b[0m\u001b[0;34m\u001b[0m\u001b[0m\n\u001b[1;32m   2799\u001b[0m                 \u001b[0;32mreturn\u001b[0m \u001b[0mself\u001b[0m\u001b[0;34m.\u001b[0m\u001b[0m_getitem_multilevel\u001b[0m\u001b[0;34m(\u001b[0m\u001b[0mkey\u001b[0m\u001b[0;34m)\u001b[0m\u001b[0;34m\u001b[0m\u001b[0;34m\u001b[0m\u001b[0m\n\u001b[0;32m-> 2800\u001b[0;31m             \u001b[0mindexer\u001b[0m \u001b[0;34m=\u001b[0m \u001b[0mself\u001b[0m\u001b[0;34m.\u001b[0m\u001b[0mcolumns\u001b[0m\u001b[0;34m.\u001b[0m\u001b[0mget_loc\u001b[0m\u001b[0;34m(\u001b[0m\u001b[0mkey\u001b[0m\u001b[0;34m)\u001b[0m\u001b[0;34m\u001b[0m\u001b[0;34m\u001b[0m\u001b[0m\n\u001b[0m\u001b[1;32m   2801\u001b[0m             \u001b[0;32mif\u001b[0m \u001b[0mis_integer\u001b[0m\u001b[0;34m(\u001b[0m\u001b[0mindexer\u001b[0m\u001b[0;34m)\u001b[0m\u001b[0;34m:\u001b[0m\u001b[0;34m\u001b[0m\u001b[0;34m\u001b[0m\u001b[0m\n\u001b[1;32m   2802\u001b[0m                 \u001b[0mindexer\u001b[0m \u001b[0;34m=\u001b[0m \u001b[0;34m[\u001b[0m\u001b[0mindexer\u001b[0m\u001b[0;34m]\u001b[0m\u001b[0;34m\u001b[0m\u001b[0;34m\u001b[0m\u001b[0m\n",
      "\u001b[0;32m/opt/conda/lib/python3.7/site-packages/pandas/core/indexes/base.py\u001b[0m in \u001b[0;36mget_loc\u001b[0;34m(self, key, method, tolerance)\u001b[0m\n\u001b[1;32m   2646\u001b[0m                 \u001b[0;32mreturn\u001b[0m \u001b[0mself\u001b[0m\u001b[0;34m.\u001b[0m\u001b[0m_engine\u001b[0m\u001b[0;34m.\u001b[0m\u001b[0mget_loc\u001b[0m\u001b[0;34m(\u001b[0m\u001b[0mkey\u001b[0m\u001b[0;34m)\u001b[0m\u001b[0;34m\u001b[0m\u001b[0;34m\u001b[0m\u001b[0m\n\u001b[1;32m   2647\u001b[0m             \u001b[0;32mexcept\u001b[0m \u001b[0mKeyError\u001b[0m\u001b[0;34m:\u001b[0m\u001b[0;34m\u001b[0m\u001b[0;34m\u001b[0m\u001b[0m\n\u001b[0;32m-> 2648\u001b[0;31m                 \u001b[0;32mreturn\u001b[0m \u001b[0mself\u001b[0m\u001b[0;34m.\u001b[0m\u001b[0m_engine\u001b[0m\u001b[0;34m.\u001b[0m\u001b[0mget_loc\u001b[0m\u001b[0;34m(\u001b[0m\u001b[0mself\u001b[0m\u001b[0;34m.\u001b[0m\u001b[0m_maybe_cast_indexer\u001b[0m\u001b[0;34m(\u001b[0m\u001b[0mkey\u001b[0m\u001b[0;34m)\u001b[0m\u001b[0;34m)\u001b[0m\u001b[0;34m\u001b[0m\u001b[0;34m\u001b[0m\u001b[0m\n\u001b[0m\u001b[1;32m   2649\u001b[0m         \u001b[0mindexer\u001b[0m \u001b[0;34m=\u001b[0m \u001b[0mself\u001b[0m\u001b[0;34m.\u001b[0m\u001b[0mget_indexer\u001b[0m\u001b[0;34m(\u001b[0m\u001b[0;34m[\u001b[0m\u001b[0mkey\u001b[0m\u001b[0;34m]\u001b[0m\u001b[0;34m,\u001b[0m \u001b[0mmethod\u001b[0m\u001b[0;34m=\u001b[0m\u001b[0mmethod\u001b[0m\u001b[0;34m,\u001b[0m \u001b[0mtolerance\u001b[0m\u001b[0;34m=\u001b[0m\u001b[0mtolerance\u001b[0m\u001b[0;34m)\u001b[0m\u001b[0;34m\u001b[0m\u001b[0;34m\u001b[0m\u001b[0m\n\u001b[1;32m   2650\u001b[0m         \u001b[0;32mif\u001b[0m \u001b[0mindexer\u001b[0m\u001b[0;34m.\u001b[0m\u001b[0mndim\u001b[0m \u001b[0;34m>\u001b[0m \u001b[0;36m1\u001b[0m \u001b[0;32mor\u001b[0m \u001b[0mindexer\u001b[0m\u001b[0;34m.\u001b[0m\u001b[0msize\u001b[0m \u001b[0;34m>\u001b[0m \u001b[0;36m1\u001b[0m\u001b[0;34m:\u001b[0m\u001b[0;34m\u001b[0m\u001b[0;34m\u001b[0m\u001b[0m\n",
      "\u001b[0;32mpandas/_libs/index.pyx\u001b[0m in \u001b[0;36mpandas._libs.index.IndexEngine.get_loc\u001b[0;34m()\u001b[0m\n",
      "\u001b[0;32mpandas/_libs/index.pyx\u001b[0m in \u001b[0;36mpandas._libs.index.IndexEngine.get_loc\u001b[0;34m()\u001b[0m\n",
      "\u001b[0;32mpandas/_libs/hashtable_class_helper.pxi\u001b[0m in \u001b[0;36mpandas._libs.hashtable.PyObjectHashTable.get_item\u001b[0;34m()\u001b[0m\n",
      "\u001b[0;32mpandas/_libs/hashtable_class_helper.pxi\u001b[0m in \u001b[0;36mpandas._libs.hashtable.PyObjectHashTable.get_item\u001b[0;34m()\u001b[0m\n",
      "\u001b[0;31mKeyError\u001b[0m: 'Id'"
     ]
    }
   ],
   "source": [
    "for c in features_to_impute:\n",
    "    print(c, len(df[c].unique()), df[c].dtype)"
   ]
  },
  {
   "cell_type": "code",
   "execution_count": 33,
   "metadata": {
    "deletable": false,
    "nbgrader": {
     "cell_type": "code",
     "checksum": "9b2ba0b60d1e6b0c63f4b913f023d402",
     "grade": false,
     "grade_id": "cell-683379e1f19a7fcd",
     "locked": false,
     "schema_version": 3,
     "solution": true,
     "task": false
    }
   },
   "outputs": [],
   "source": [
    "# your code here\n",
    "import statistics as stat\n",
    "\n",
    "def imputeFeature(df , feature):\n",
    "    \"\"\"\n",
    "        input: dataframe df ; string feature\n",
    "        output: dataframe newdf\n",
    "    \"\"\"\n",
    "    dataType = df[feature].dtype\n",
    "    newdf = df.copy(deep = True)\n",
    "    isnull = df[feature].isnull()\n",
    "    \n",
    "    # Take care of numerical features using median\n",
    "    if dataType == \"int64\" or dataType == \"float64\":\n",
    "        featureMedian = df[feature].median()\n",
    "        for i in range(len(df)):\n",
    "            if isnull[i] == True:\n",
    "                newdf.loc[i, feature] = featureMedian\n",
    "            \n",
    "    else: # data is categorical / ordinal, so we will use frequentist imputation\n",
    "        featureMode = df[feature].mode()[0]\n",
    "        for i in range(len(df)):\n",
    "            if isnull[i] == True:\n",
    "                newdf.loc[i, feature] = featureMode\n",
    "    \n",
    "    return(newdf)\n",
    "\n",
    "for c in features_to_impute[1:]:    \n",
    "    df = imputeFeature(df, c)\n",
    "# use this cell for potential debugging"
   ]
  },
  {
   "cell_type": "code",
   "execution_count": 34,
   "metadata": {
    "deletable": false,
    "nbgrader": {
     "cell_type": "code",
     "checksum": "13775d500b53bea742ca777c207f4f77",
     "grade": false,
     "grade_id": "cell-8bc59664c30aac38",
     "locked": false,
     "schema_version": 3,
     "solution": true,
     "task": false
    }
   },
   "outputs": [
    {
     "name": "stdout",
     "output_type": "stream",
     "text": [
      "MSSubClass 0\n",
      "MSZoning 0\n",
      "LotArea 0\n",
      "Street 0\n",
      "LotShape 0\n",
      "LandContour 0\n",
      "Utilities 0\n",
      "LotConfig 0\n",
      "LandSlope 0\n",
      "Neighborhood 0\n",
      "Condition1 0\n",
      "Condition2 0\n",
      "BldgType 0\n",
      "HouseStyle 0\n",
      "OverallQual 0\n",
      "OverallCond 0\n",
      "YearBuilt 0\n",
      "YearRemodAdd 0\n",
      "RoofStyle 0\n",
      "RoofMatl 0\n",
      "Exterior1st 0\n",
      "Exterior2nd 0\n",
      "MasVnrType 0\n",
      "MasVnrArea 0\n",
      "ExterQual 0\n",
      "ExterCond 0\n",
      "Foundation 0\n",
      "BsmtQual 0\n",
      "BsmtCond 0\n",
      "BsmtExposure 0\n",
      "BsmtFinType1 0\n",
      "BsmtFinSF1 0\n",
      "BsmtFinType2 0\n",
      "BsmtFinSF2 0\n",
      "BsmtUnfSF 0\n",
      "TotalBsmtSF 0\n",
      "Heating 0\n",
      "HeatingQC 0\n",
      "CentralAir 0\n",
      "Electrical 0\n",
      "1stFlrSF 0\n",
      "2ndFlrSF 0\n",
      "LowQualFinSF 0\n",
      "GrLivArea 0\n",
      "BsmtFullBath 0\n",
      "BsmtHalfBath 0\n",
      "FullBath 0\n",
      "HalfBath 0\n",
      "BedroomAbvGr 0\n",
      "KitchenAbvGr 0\n",
      "KitchenQual 0\n",
      "TotRmsAbvGrd 0\n",
      "Functional 0\n",
      "Fireplaces 0\n",
      "GarageCars 0\n",
      "GarageArea 0\n",
      "PavedDrive 0\n",
      "WoodDeckSF 0\n",
      "OpenPorchSF 0\n",
      "EnclosedPorch 0\n",
      "3SsnPorch 0\n",
      "ScreenPorch 0\n",
      "PoolArea 0\n",
      "MiscVal 0\n",
      "MoSold 0\n",
      "YrSold 0\n",
      "SaleType 0\n",
      "SaleCondition 0\n",
      "SalePrice 0\n"
     ]
    }
   ],
   "source": [
    "# impute missing data \n",
    "# your code here\n",
    "\n",
    "for c in df.columns:\n",
    "    print(c, df[c].isnull().sum())"
   ]
  },
  {
   "cell_type": "code",
   "execution_count": 35,
   "metadata": {},
   "outputs": [],
   "source": [
    "# NOTE: IT IS VERY UNCLEAR WHETHER THE GRADER INTENDS FOR ME TO REMOVE THE FEATURE \"MasVnrType\"\n",
    "## THE DATA CONTAIN MANY STRING TYPE MISSING VALUES, FAR BEYOND THE 5% BOUND FOR IMPUTATION\n",
    "### DOES EXISTENCE OF THE BELOW TEST CELL IMPLY THAT I SHOULD BE IMPUTING THE DATA??\n",
    "#### I WILL LEAVE \"None\" AS A REASONABLE CHOICE OF THE FEATURE THAT CONTAINS INFORMATION "
   ]
  },
  {
   "cell_type": "code",
   "execution_count": 36,
   "metadata": {
    "deletable": false,
    "editable": false,
    "nbgrader": {
     "cell_type": "code",
     "checksum": "876fd25dabc127165dc3c0d6f2625591",
     "grade": true,
     "grade_id": "cell-42e7620ebac48500",
     "locked": true,
     "points": 2,
     "schema_version": 3,
     "solution": false,
     "task": false
    }
   },
   "outputs": [],
   "source": [
    "# tests 'MasVnrType' and 'MasVnrArea'\n"
   ]
  },
  {
   "cell_type": "code",
   "execution_count": 37,
   "metadata": {
    "deletable": false,
    "editable": false,
    "nbgrader": {
     "cell_type": "code",
     "checksum": "7dfd5e040d035d2b94d6534bb8f1c530",
     "grade": true,
     "grade_id": "cell-56558f302e7a8c4c",
     "locked": true,
     "points": 2,
     "schema_version": 3,
     "solution": false,
     "task": false
    }
   },
   "outputs": [],
   "source": [
    "# tsts 'BsmtQual' and 'BsmtCond'"
   ]
  },
  {
   "cell_type": "code",
   "execution_count": 38,
   "metadata": {
    "deletable": false,
    "editable": false,
    "nbgrader": {
     "cell_type": "code",
     "checksum": "07934d185f4c9f125821c8c0cb1f6e5a",
     "grade": true,
     "grade_id": "cell-371f8ca891ba7f38",
     "locked": true,
     "points": 2,
     "schema_version": 3,
     "solution": false,
     "task": false
    }
   },
   "outputs": [],
   "source": [
    "# tests 'BsmtExposure' and 'BsmtFinType1'\n"
   ]
  },
  {
   "cell_type": "code",
   "execution_count": 39,
   "metadata": {
    "deletable": false,
    "editable": false,
    "nbgrader": {
     "cell_type": "code",
     "checksum": "12dad82c142865569403ac4d9e89e5bd",
     "grade": true,
     "grade_id": "cell-7153efa6632bcbf9",
     "locked": true,
     "points": 2,
     "schema_version": 3,
     "solution": false,
     "task": false
    }
   },
   "outputs": [],
   "source": [
    "# tests 'BsmtFinType2' and 'Electrical'"
   ]
  },
  {
   "cell_type": "markdown",
   "metadata": {
    "deletable": false,
    "editable": false,
    "nbgrader": {
     "cell_type": "markdown",
     "checksum": "bfb7024f724583aa745c4ef0d2327d7c",
     "grade": false,
     "grade_id": "cell-3a0e60201d41e0cc",
     "locked": true,
     "schema_version": 3,
     "solution": false,
     "task": false
    }
   },
   "source": [
    "# Part 2. EDA, Simple Linear Regression\n",
    "\n",
    "In this part, we will use a simplified data and create a simple linear regression model. The dataset can be downloaded from https://www.kaggle.com/harlfoxem/housesalesprediction/download.    \n",
    "This dataset contains house sale prices for Kings County, which includes Seattle. It includes homes sold between May 2014 and May 2015. There are several versions of the data. Some additional information about the columns is available here: https://geodacenter.github.io/data-and-lab/KingCounty-HouseSales2015/, some of which are copied below.\n",
    "\n",
    "|Variable |\tDescription|\n",
    "|:---------|:-------------|\n",
    "|id \t|Identification|\n",
    "|date |\tDate sold|\n",
    "|price |\tSale price|\n",
    "|bedrooms |\tNumber of bedrooms|\n",
    "|bathrooms |\tNumber of bathrooms|\n",
    "|sqft_liv |\tSize of living area in square feet|\n",
    "|sqft_lot| \tSize of the lot in square feet|\n",
    "|floors |\tNumber of floors|\n",
    "|waterfront |\t‘1’ if the property has a waterfront, ‘0’ if not.|\n",
    "|view |\tAn index from 0 to 4 of how good the view of the property was|\n",
    "|condition |\tCondition of the house, ranked from 1 to 5|\n",
    "|grade |\tClassification by construction quality which refers to the types of materials used and the quality of workmanship. Buildings of better quality (higher grade) cost more to build per unit of measure and command higher value.|\n",
    "|sqft_above |\tSquare feet above ground|\n",
    "|sqft_basmt |\tSquare feet below ground|\n",
    "|yr_built \t|Year built|\n",
    "|yr_renov |\tYear renovated. ‘0’ if never renovated|\n",
    "|zipcode |\t5 digit zip code|\n",
    "|lat \t|Latitude|\n",
    "|long \t|Longitude|\n",
    "|squft_liv15 |\tAverage size of interior housing living space for the closest 15 houses, in square feet|\n",
    "|squft_lot15 |\tAverage size of land lost for the closest 15 houses, in square feet|"
   ]
  },
  {
   "cell_type": "code",
   "execution_count": 40,
   "metadata": {
    "deletable": false,
    "editable": false,
    "nbgrader": {
     "cell_type": "code",
     "checksum": "618f5da678b36c8a3182068e76b17c60",
     "grade": false,
     "grade_id": "cell-4164737ecf84807d",
     "locked": true,
     "schema_version": 3,
     "solution": false,
     "task": false
    }
   },
   "outputs": [],
   "source": [
    "import scipy as sp\n",
    "import scipy.stats as stats\n",
    "import pandas as pd\n",
    "import numpy as np\n",
    "import matplotlib.pyplot as plt\n",
    "import seaborn as sns\n",
    "import copy\n",
    "# Set color map to have light blue background\n",
    "sns.set()\n",
    "import statsmodels.formula.api as smf\n",
    "import statsmodels.api as sm\n",
    "%matplotlib inline"
   ]
  },
  {
   "cell_type": "code",
   "execution_count": 41,
   "metadata": {
    "deletable": false,
    "editable": false,
    "nbgrader": {
     "cell_type": "code",
     "checksum": "4dd7592ae08aaed6c228f393142093e8",
     "grade": false,
     "grade_id": "cell-ab53fad4700fc069",
     "locked": true,
     "schema_version": 3,
     "solution": false,
     "task": false
    }
   },
   "outputs": [],
   "source": [
    "df2 = pd.read_csv('data/house_data_washington.csv')"
   ]
  },
  {
   "cell_type": "markdown",
   "metadata": {
    "deletable": false,
    "editable": false,
    "nbgrader": {
     "cell_type": "markdown",
     "checksum": "8502892af75a810bf19acd19416ab1b4",
     "grade": false,
     "grade_id": "cell-b9c982194d2d0f40",
     "locked": true,
     "schema_version": 3,
     "solution": false,
     "task": false
    }
   },
   "source": [
    "## 4. Munging data [15 pts]\n",
    "### 4a) Date string to numbers [5 pts]\n",
    "Inspect the data frame and data type of each column. The column 'date' is the date sold, and has string value. We will extract year and month information from the string. \n",
    "In the data frame df2, create new features 'sales_year' and 'sales_month'."
   ]
  },
  {
   "cell_type": "code",
   "execution_count": 42,
   "metadata": {},
   "outputs": [
    {
     "name": "stdout",
     "output_type": "stream",
     "text": [
      "id int64\n",
      "date object\n",
      "price int64\n",
      "bedrooms int64\n",
      "bathrooms float64\n",
      "sqft_living int64\n",
      "sqft_lot int64\n",
      "floors float64\n",
      "waterfront int64\n",
      "view int64\n",
      "condition int64\n",
      "grade int64\n",
      "sqft_above int64\n",
      "sqft_basement int64\n",
      "yr_built int64\n",
      "yr_renovated int64\n",
      "zipcode int64\n",
      "lat float64\n",
      "long float64\n",
      "sqft_living15 int64\n",
      "sqft_lot15 int64\n"
     ]
    },
    {
     "data": {
      "text/html": [
       "<div>\n",
       "<style scoped>\n",
       "    .dataframe tbody tr th:only-of-type {\n",
       "        vertical-align: middle;\n",
       "    }\n",
       "\n",
       "    .dataframe tbody tr th {\n",
       "        vertical-align: top;\n",
       "    }\n",
       "\n",
       "    .dataframe thead th {\n",
       "        text-align: right;\n",
       "    }\n",
       "</style>\n",
       "<table border=\"1\" class=\"dataframe\">\n",
       "  <thead>\n",
       "    <tr style=\"text-align: right;\">\n",
       "      <th></th>\n",
       "      <th>id</th>\n",
       "      <th>date</th>\n",
       "      <th>price</th>\n",
       "      <th>bedrooms</th>\n",
       "      <th>bathrooms</th>\n",
       "      <th>sqft_living</th>\n",
       "      <th>sqft_lot</th>\n",
       "      <th>floors</th>\n",
       "      <th>waterfront</th>\n",
       "      <th>view</th>\n",
       "      <th>...</th>\n",
       "      <th>grade</th>\n",
       "      <th>sqft_above</th>\n",
       "      <th>sqft_basement</th>\n",
       "      <th>yr_built</th>\n",
       "      <th>yr_renovated</th>\n",
       "      <th>zipcode</th>\n",
       "      <th>lat</th>\n",
       "      <th>long</th>\n",
       "      <th>sqft_living15</th>\n",
       "      <th>sqft_lot15</th>\n",
       "    </tr>\n",
       "  </thead>\n",
       "  <tbody>\n",
       "    <tr>\n",
       "      <th>0</th>\n",
       "      <td>7129300520</td>\n",
       "      <td>20141013T000000</td>\n",
       "      <td>221900</td>\n",
       "      <td>3</td>\n",
       "      <td>1.00</td>\n",
       "      <td>1180</td>\n",
       "      <td>5650</td>\n",
       "      <td>1.0</td>\n",
       "      <td>0</td>\n",
       "      <td>0</td>\n",
       "      <td>...</td>\n",
       "      <td>7</td>\n",
       "      <td>1180</td>\n",
       "      <td>0</td>\n",
       "      <td>1955</td>\n",
       "      <td>0</td>\n",
       "      <td>98178</td>\n",
       "      <td>47.5112</td>\n",
       "      <td>-122.257</td>\n",
       "      <td>1340</td>\n",
       "      <td>5650</td>\n",
       "    </tr>\n",
       "    <tr>\n",
       "      <th>1</th>\n",
       "      <td>6414100192</td>\n",
       "      <td>20141209T000000</td>\n",
       "      <td>538000</td>\n",
       "      <td>3</td>\n",
       "      <td>2.25</td>\n",
       "      <td>2570</td>\n",
       "      <td>7242</td>\n",
       "      <td>2.0</td>\n",
       "      <td>0</td>\n",
       "      <td>0</td>\n",
       "      <td>...</td>\n",
       "      <td>7</td>\n",
       "      <td>2170</td>\n",
       "      <td>400</td>\n",
       "      <td>1951</td>\n",
       "      <td>1991</td>\n",
       "      <td>98125</td>\n",
       "      <td>47.7210</td>\n",
       "      <td>-122.319</td>\n",
       "      <td>1690</td>\n",
       "      <td>7639</td>\n",
       "    </tr>\n",
       "    <tr>\n",
       "      <th>2</th>\n",
       "      <td>5631500400</td>\n",
       "      <td>20150225T000000</td>\n",
       "      <td>180000</td>\n",
       "      <td>2</td>\n",
       "      <td>1.00</td>\n",
       "      <td>770</td>\n",
       "      <td>10000</td>\n",
       "      <td>1.0</td>\n",
       "      <td>0</td>\n",
       "      <td>0</td>\n",
       "      <td>...</td>\n",
       "      <td>6</td>\n",
       "      <td>770</td>\n",
       "      <td>0</td>\n",
       "      <td>1933</td>\n",
       "      <td>0</td>\n",
       "      <td>98028</td>\n",
       "      <td>47.7379</td>\n",
       "      <td>-122.233</td>\n",
       "      <td>2720</td>\n",
       "      <td>8062</td>\n",
       "    </tr>\n",
       "    <tr>\n",
       "      <th>3</th>\n",
       "      <td>2487200875</td>\n",
       "      <td>20141209T000000</td>\n",
       "      <td>604000</td>\n",
       "      <td>4</td>\n",
       "      <td>3.00</td>\n",
       "      <td>1960</td>\n",
       "      <td>5000</td>\n",
       "      <td>1.0</td>\n",
       "      <td>0</td>\n",
       "      <td>0</td>\n",
       "      <td>...</td>\n",
       "      <td>7</td>\n",
       "      <td>1050</td>\n",
       "      <td>910</td>\n",
       "      <td>1965</td>\n",
       "      <td>0</td>\n",
       "      <td>98136</td>\n",
       "      <td>47.5208</td>\n",
       "      <td>-122.393</td>\n",
       "      <td>1360</td>\n",
       "      <td>5000</td>\n",
       "    </tr>\n",
       "    <tr>\n",
       "      <th>4</th>\n",
       "      <td>1954400510</td>\n",
       "      <td>20150218T000000</td>\n",
       "      <td>510000</td>\n",
       "      <td>3</td>\n",
       "      <td>2.00</td>\n",
       "      <td>1680</td>\n",
       "      <td>8080</td>\n",
       "      <td>1.0</td>\n",
       "      <td>0</td>\n",
       "      <td>0</td>\n",
       "      <td>...</td>\n",
       "      <td>8</td>\n",
       "      <td>1680</td>\n",
       "      <td>0</td>\n",
       "      <td>1987</td>\n",
       "      <td>0</td>\n",
       "      <td>98074</td>\n",
       "      <td>47.6168</td>\n",
       "      <td>-122.045</td>\n",
       "      <td>1800</td>\n",
       "      <td>7503</td>\n",
       "    </tr>\n",
       "  </tbody>\n",
       "</table>\n",
       "<p>5 rows × 21 columns</p>\n",
       "</div>"
      ],
      "text/plain": [
       "           id             date   price  bedrooms  bathrooms  sqft_living  \\\n",
       "0  7129300520  20141013T000000  221900         3       1.00         1180   \n",
       "1  6414100192  20141209T000000  538000         3       2.25         2570   \n",
       "2  5631500400  20150225T000000  180000         2       1.00          770   \n",
       "3  2487200875  20141209T000000  604000         4       3.00         1960   \n",
       "4  1954400510  20150218T000000  510000         3       2.00         1680   \n",
       "\n",
       "   sqft_lot  floors  waterfront  view  ...  grade  sqft_above  sqft_basement  \\\n",
       "0      5650     1.0           0     0  ...      7        1180              0   \n",
       "1      7242     2.0           0     0  ...      7        2170            400   \n",
       "2     10000     1.0           0     0  ...      6         770              0   \n",
       "3      5000     1.0           0     0  ...      7        1050            910   \n",
       "4      8080     1.0           0     0  ...      8        1680              0   \n",
       "\n",
       "   yr_built  yr_renovated  zipcode      lat     long  sqft_living15  \\\n",
       "0      1955             0    98178  47.5112 -122.257           1340   \n",
       "1      1951          1991    98125  47.7210 -122.319           1690   \n",
       "2      1933             0    98028  47.7379 -122.233           2720   \n",
       "3      1965             0    98136  47.5208 -122.393           1360   \n",
       "4      1987             0    98074  47.6168 -122.045           1800   \n",
       "\n",
       "   sqft_lot15  \n",
       "0        5650  \n",
       "1        7639  \n",
       "2        8062  \n",
       "3        5000  \n",
       "4        7503  \n",
       "\n",
       "[5 rows x 21 columns]"
      ]
     },
     "execution_count": 42,
     "metadata": {},
     "output_type": "execute_result"
    }
   ],
   "source": [
    "for col in df2.columns:\n",
    "    print(col, df2[col].dtype)\n",
    "    \n",
    "df2.head()"
   ]
  },
  {
   "cell_type": "code",
   "execution_count": 43,
   "metadata": {
    "deletable": false,
    "editable": false,
    "nbgrader": {
     "cell_type": "code",
     "checksum": "7be2a3c59fd8b06ed34c697728ae78d9",
     "grade": false,
     "grade_id": "cell-def60c6a987f3af9",
     "locked": true,
     "schema_version": 3,
     "solution": false,
     "task": false
    }
   },
   "outputs": [
    {
     "name": "stdout",
     "output_type": "stream",
     "text": [
      "sales_month\n",
      "1      978\n",
      "2     1250\n",
      "3     1875\n",
      "4     2231\n",
      "5     2414\n",
      "6     2180\n",
      "7     2211\n",
      "8     1940\n",
      "9     1774\n",
      "10    1878\n",
      "11    1411\n",
      "12    1471\n",
      "Name: id, dtype: int64\n",
      "sales_year\n",
      "2014    14633\n",
      "2015     6980\n",
      "Name: id, dtype: int64\n"
     ]
    }
   ],
   "source": [
    "# extract year and month info from the string\n",
    "# create new features 'sales_year' and 'sales_month' in df2\n",
    "df2['sales_year'] = df2.date.apply(lambda x: int(x[:4]))\n",
    "df2['sales_month'] = df2.date.apply(lambda x: int(x[4:6]))\n",
    "print(df2.groupby('sales_month')['id'].count())\n",
    "print(df2.groupby('sales_year')['id'].count())"
   ]
  },
  {
   "cell_type": "markdown",
   "metadata": {
    "deletable": false,
    "editable": false,
    "nbgrader": {
     "cell_type": "markdown",
     "checksum": "5e26b3968479f7401a22b2b5f7904e32",
     "grade": false,
     "grade_id": "cell-270ddcab2bd221ef",
     "locked": true,
     "schema_version": 3,
     "solution": false,
     "task": false
    }
   },
   "source": [
    "Which month has the most number of sales?"
   ]
  },
  {
   "cell_type": "code",
   "execution_count": 44,
   "metadata": {
    "deletable": false,
    "nbgrader": {
     "cell_type": "code",
     "checksum": "530f916f96704d41addaeefd27e5d874",
     "grade": false,
     "grade_id": "cell-447e548e063eb680",
     "locked": false,
     "schema_version": 3,
     "solution": true,
     "task": false
    }
   },
   "outputs": [],
   "source": [
    "# your code here\n",
    "\n",
    "# uncomment and update string with capitalized month, e.g., 'December'\n",
    "most_sales = 'May'"
   ]
  },
  {
   "cell_type": "markdown",
   "metadata": {
    "deletable": false,
    "editable": false,
    "nbgrader": {
     "cell_type": "markdown",
     "checksum": "f30c322e9d2b1fecfcf52e6ca837a5f7",
     "grade": false,
     "grade_id": "cell-ab45a9249c1c8285",
     "locked": true,
     "schema_version": 3,
     "solution": false,
     "task": false
    }
   },
   "source": [
    "Which months has the least number of sales?"
   ]
  },
  {
   "cell_type": "code",
   "execution_count": 45,
   "metadata": {
    "deletable": false,
    "nbgrader": {
     "cell_type": "code",
     "checksum": "a956c0433e5d69ab8f8dc816fa0a2fa8",
     "grade": false,
     "grade_id": "cell-05ff2ec904565f4c",
     "locked": false,
     "schema_version": 3,
     "solution": true,
     "task": false
    }
   },
   "outputs": [],
   "source": [
    "# your code here\n",
    "\n",
    "# uncomment and update string with capitalized month, e.g., 'December'\n",
    "least_sales = 'January'"
   ]
  },
  {
   "cell_type": "code",
   "execution_count": 46,
   "metadata": {
    "deletable": false,
    "editable": false,
    "nbgrader": {
     "cell_type": "code",
     "checksum": "a5a73a6bbf29823865efc3d9ae946188",
     "grade": true,
     "grade_id": "cell-cadc8a85fd0b5630",
     "locked": true,
     "points": 5,
     "schema_version": 3,
     "solution": false,
     "task": false
    }
   },
   "outputs": [],
   "source": [
    "# tests solutions for most_sales and least_sales"
   ]
  },
  {
   "cell_type": "code",
   "execution_count": 47,
   "metadata": {
    "deletable": false,
    "editable": false,
    "nbgrader": {
     "cell_type": "code",
     "checksum": "a0e95641a080905b17db379d46d18068",
     "grade": false,
     "grade_id": "cell-830d3bb5de332b12",
     "locked": true,
     "schema_version": 3,
     "solution": false,
     "task": false
    }
   },
   "outputs": [
    {
     "name": "stdout",
     "output_type": "stream",
     "text": [
      "<class 'pandas.core.frame.DataFrame'>\n",
      "RangeIndex: 21613 entries, 0 to 21612\n",
      "Data columns (total 23 columns):\n",
      " #   Column         Non-Null Count  Dtype  \n",
      "---  ------         --------------  -----  \n",
      " 0   id             21613 non-null  int64  \n",
      " 1   date           21613 non-null  object \n",
      " 2   price          21613 non-null  int64  \n",
      " 3   bedrooms       21613 non-null  int64  \n",
      " 4   bathrooms      21613 non-null  float64\n",
      " 5   sqft_living    21613 non-null  int64  \n",
      " 6   sqft_lot       21613 non-null  int64  \n",
      " 7   floors         21613 non-null  float64\n",
      " 8   waterfront     21613 non-null  int64  \n",
      " 9   view           21613 non-null  int64  \n",
      " 10  condition      21613 non-null  int64  \n",
      " 11  grade          21613 non-null  int64  \n",
      " 12  sqft_above     21613 non-null  int64  \n",
      " 13  sqft_basement  21613 non-null  int64  \n",
      " 14  yr_built       21613 non-null  int64  \n",
      " 15  yr_renovated   21613 non-null  int64  \n",
      " 16  zipcode        21613 non-null  int64  \n",
      " 17  lat            21613 non-null  float64\n",
      " 18  long           21613 non-null  float64\n",
      " 19  sqft_living15  21613 non-null  int64  \n",
      " 20  sqft_lot15     21613 non-null  int64  \n",
      " 21  sales_year     21613 non-null  int64  \n",
      " 22  sales_month    21613 non-null  int64  \n",
      "dtypes: float64(4), int64(18), object(1)\n",
      "memory usage: 3.8+ MB\n"
     ]
    }
   ],
   "source": [
    "df2.info()"
   ]
  },
  {
   "cell_type": "markdown",
   "metadata": {
    "deletable": false,
    "editable": false,
    "nbgrader": {
     "cell_type": "markdown",
     "checksum": "6fe4a4479b2bcbf792324283a0f2df4b",
     "grade": false,
     "grade_id": "cell-6107c495a67fc96b",
     "locked": true,
     "schema_version": 3,
     "solution": false,
     "task": false
    }
   },
   "source": [
    "### 4b) Variable types [5 pts]\n",
    "Inspect each feature's data type and variable type. What is the best description for the variable type of following features? Update the string to 'numeric' or 'categorical'."
   ]
  },
  {
   "cell_type": "code",
   "execution_count": 48,
   "metadata": {},
   "outputs": [
    {
     "data": {
      "text/plain": [
       "array([0, 1])"
      ]
     },
     "execution_count": 48,
     "metadata": {},
     "output_type": "execute_result"
    }
   ],
   "source": [
    "df2[\"waterfront\"].unique()"
   ]
  },
  {
   "cell_type": "code",
   "execution_count": 49,
   "metadata": {
    "deletable": false,
    "nbgrader": {
     "cell_type": "code",
     "checksum": "aa66075bc13defaa2f776454df018e58",
     "grade": false,
     "grade_id": "cell-d1457a08b8feb7e4",
     "locked": false,
     "schema_version": 3,
     "solution": true,
     "task": false
    }
   },
   "outputs": [],
   "source": [
    "# These are confusing - some are kinda arbitrary like zipcode and sales year and bathrooms\n",
    "\n",
    "\n",
    "# uncomment the feaures below and update the strings with 'numeric' or 'categorical'\n",
    "price = 'numeric' #numeric for sure\n",
    "bathrooms = 'categorical' #Could be numeric? The numbers have physical meaning and aren't just ranks\n",
    "waterfront = 'categorical' #categoric for sure\n",
    "grade = 'categorical' #categoric for sure\n",
    "zipcode = 'categorical' # ???\n",
    "sales_year = 'categorical' # ???"
   ]
  },
  {
   "cell_type": "code",
   "execution_count": 50,
   "metadata": {
    "deletable": false,
    "editable": false,
    "nbgrader": {
     "cell_type": "code",
     "checksum": "d53b61461c0ea71620a5ca3ebb824cd6",
     "grade": true,
     "grade_id": "cell-83405385a8bf3251",
     "locked": true,
     "points": 5,
     "schema_version": 3,
     "solution": false,
     "task": false
    }
   },
   "outputs": [],
   "source": [
    "# tests that you selected correct variable type for the features in 4b "
   ]
  },
  {
   "cell_type": "code",
   "execution_count": 51,
   "metadata": {
    "deletable": false,
    "nbgrader": {
     "cell_type": "code",
     "checksum": "ad79a39988e7225145617fbd053757bb",
     "grade": false,
     "grade_id": "cell-907eb0b299367ce9",
     "locked": false,
     "schema_version": 3,
     "solution": true,
     "task": false
    }
   },
   "outputs": [
    {
     "name": "stdout",
     "output_type": "stream",
     "text": [
      "price [ 221900  538000  180000 ...  610685 1007500  402101]\n",
      "bedrooms [ 3  2  4  5  1  6  7  0  8  9 11 10 33]\n",
      "bathrooms [1.   2.25 3.   2.   4.5  1.5  2.5  1.75 2.75 3.25 4.   3.5  0.75 4.75\n",
      " 5.   4.25 3.75 0.   1.25 5.25 6.   0.5  5.5  6.75 5.75 8.   7.5  7.75\n",
      " 6.25 6.5 ]\n",
      "sqft_living [1180 2570  770 ... 3087 3118 1425]\n",
      "sqft_lot [ 5650  7242 10000 ...  5813  2388  1076]\n",
      "floors [1.  2.  1.5 3.  2.5 3.5]\n",
      "waterfront [0 1]\n",
      "view [0 3 4 2 1]\n",
      "condition [3 5 4 1 2]\n",
      "grade [ 7  6  8 11  9  5 10 12  4  3 13  1]\n",
      "sqft_above [1180 2170  770 1050 1680 3890 1715 1060 1890 1860  860 1430 1370 1810\n",
      " 1980 1600 1200 1250 2330 2270 1070 2450 1710 1750 1400  790 2570 2320\n",
      " 1190 1510 1090 1280  930 2360  890 2620 2600 3595 1570  920 3160  990\n",
      " 2290 2165 1640 1000 2130 2830 2250 2420 3250 1850 1590 1260 2519 1540\n",
      " 1110 1770 2720 2240 3070 2380 2390  880 1040  910 3450 2350 1900 1010\n",
      "  960 2660 1610  765 3520 1290 1960 1160 1210 1270 1440 2190 2920 1460\n",
      " 1170 1240 3140 2030 2310  700 1080 2520 2780 1560 1450 1720 2910 1620\n",
      " 1360 2070 2460 1390 2140 1320 1340 1550  940 1380 3670 2370 1130  980\n",
      " 3540 2500 1760 1030 1780 3400 2680 1670 2590  820 1220 2440 2090 1100\n",
      " 1330 1420 1690 2150 1910 1350 1940  900 1630 2714  850 1870 1950 2760\n",
      " 2020 1120 1480 1230 2280 3760 3530  830 1300 2740 1830  720 2010 3360\n",
      "  800 1730  760 1700 4750 5310  580 2653 2850 2210 2630 3500 1740 1140\n",
      " 2160 2650  970 2040 2180 2220 1660 3370 2690 1930 3150 3030 2050 2490\n",
      " 2560 1275 2580  560 1820 1840 2990 3230 1580 3480 2510 1410 2120 3300\n",
      " 3840 1500 1530 2840  833 2000 6070  950 2200 4040 1920 1490 3470 3130\n",
      " 2610 3260 2260  430 3390  630 4860 3860 2810  870 3180 2770 4030 4410\n",
      " 2400 1520 3040 6050 4740 1970 5403 3350 3580 1790  750 2860 2750 2340\n",
      " 2870 4120 3200 2550 1805 4150 1384 2060 2110 3590 2100 2540 1880 1150\n",
      " 1470 1255 1800 4370 3190 2730 4570 2470  670 2900 4670 4230 2156 1020\n",
      " 2940 2640 2710 3100 3610 4270  840 3090 2300  380 2480 3460 3060 3064\n",
      " 3000 1654 2790 1310 2230 2430 3680 2670 2208  810  740 1422  490 2080\n",
      " 3440 5670 4475  730 3410 3010  600 2960 3570 4300 3990  780 3020 5990\n",
      "  440 4460 4190 2800 2530 1650 3690 2932 3720 4250 3110 2963 4930 2950\n",
      " 5000 2452 2820 1981  640 2495 2403 5320 6720  660 2341 4210 3830 3280\n",
      " 2980 5153 1990 1646  610  710 5450 3504 3210 1782 2930  590 4280  680\n",
      " 3880 3430 3750 4130 5710 3380 3330 4700 3220 3362 3510 3810  620 4490\n",
      " 2410 3050 1008 3488 4070 3420 5770 1605  520 1088 3555 4360 3960 2700\n",
      " 4340 1552 3850 2303 3270 4350 3640 2174 4160 2496 5180 5130 6350 3770\n",
      " 2153 3780 2890 1714 2201 2970  992 3950 3527 2835 3915 1427 4870 3340\n",
      " 3620 4310 3930 4080 5400  570 3310 6110 3320 3490 3859 3710 1798 4600\n",
      " 3560 3940 3600 3800 1105 2305 3290 5050 1556 1553 4000 1657 3001 4220\n",
      "  480 3120 3740  530 3700 5230 5370 3080 4140 4430 3550 1159 1288 2880\n",
      " 4610 1122 3052 1479 7680 3820 1934 5080 2675 2506 5760 2154 4390 3240\n",
      " 1995 1689 2782 2395 4400 6200 3526 4320 2483 4380 4580 4180 2064 3650\n",
      " 1726 2019 4240 1256  500 1355 1747 1678 1833 1414 4115 3597 3170  390\n",
      " 1976 5830 2601 3920 2641 5070 2518 3910 3660 3695 4020 2803 2074 2038\n",
      " 4060 4890 2329 1264 1095  690 4090 1392 2844  902 4560 2811 4720 2168\n",
      " 5610 2683 4900 2095 4290 4050 4260 4440 6220 1175  998 2356 4500 3900\n",
      " 3831 1315 4470 4810 2286 2927 4760 8570 5140 1679 1811 2849 1676 1757\n",
      " 3730 2441 2163 5250 2795 2415 3970 4200 1068 5240 1509 1954 4820 1651\n",
      " 4100 1752 3630 2885 3154 1129 2632 1996 4010  550  410 6430 3790 2031\n",
      " 1652 2434 3316 1899 2331 2497 2216 4170 1341 1961 5584 8860 2507 5220\n",
      " 4850 5844 5530 2145  650 1982 4910 3605 1778 1463 2783 1946 1358 3870\n",
      " 1864 1845 6290 3980 2382 2979 3674 2726 5440 1295 2115 6085 3265 3136\n",
      " 6640 4620 3361 2245 2242 1078 2577 1329  420 4330 1975 7420 1788 2299\n",
      " 1092 4225 1087 1904  470 2966 2192 2253 5550 4133 4285 1216  540 9410\n",
      " 2075 5330 2166 1628 1808 1352 2557 6380 7880 2734 1363 1769 2093 1677\n",
      " 2588 5190 2298 1491 2961 5020 5980 4540  844 6120 2233 4480 4110 4770\n",
      " 2473  995 5160 1494 2007 1048 3002 4780 2155 2014 4980 2665 4830 4790\n",
      " 5010  370 2105 3006 3004 2689 4660 1746 2678 2755 2414  901 4630 2068\n",
      " 2807 2643 2181 4510 4420 1604 1435 3045 2717 2905 4940 5110 2533 6660\n",
      " 3485 2659 5090 2375 1964  866 1595  944 5480  809 5040 1764 1656 1802\n",
      "  460 2692 1544 2044 1212 4083 8020 3905 1502 4590  384 2092 6090 1615\n",
      " 7320 1396 1484 1765 5490 1453 1643 5300 1381 4065  290 1313 5430 1397\n",
      " 2793 2475 1936 3028  798 2575 3276 1584 2393 2029 3222 1072 1785 1984\n",
      "  962 2423 2052 2538 2437 2789 2906 4800 7850 2196 1847 2658 2655 3855\n",
      " 1728  963 2223 1611 2015 2448 1489 1116 3745 1002 3202 1347 1481 2311\n",
      " 2544 2584 2217 3569 3181 1921 2612 2671 2598 3284 3266 1076 2594 2718\n",
      " 1794 2481 3845 1413 1876 3148 2413 1767 5060  806 2547 1834 2024 1165\n",
      " 2134 1741 2798 1852 2099 3216 1094 2891 2432 2283 2701 1658  893 2009\n",
      " 1444 2744 3078 3065 1578 2815 4960 1571 6530 4640 1536 3172 6370 3223\n",
      " 1608 2229 3135 1408 1763 4840 1232 2502 2424 1296 1914  988 3828 3056\n",
      " 2267 1131 2796 1812 1084 2025 1564 1239 2568 1528 2628 2185 2478 2669\n",
      " 1912 2828 2425 1446 3206 2406 1419 2056 1144 2456 4950 3192  828 2529\n",
      " 2732 1987 3906 4073 2578 2738 3691 1061 2846 2542 1889 3336 3236 1451\n",
      " 1983 2313 1824 1322 1766 2301 3274 1108 2864 2716 1572 3281 2656 2398\n",
      " 1867 1613 2587 2623  894 1606 2244 2026 2238 2517 2708 2555 1405 4450\n",
      " 1248 6420 2531 1333 2198 3087 3118 1425]\n",
      "sqft_basement [   0  400  910 1530  730 1700  300  970  760  720  700  820  780  790\n",
      "  330 1620  360  588 1510  410  990  600  560  550 1000 1600  500 1040\n",
      "  880 1010  240  265  290  800  540  380  710  840  770  480  570 1490\n",
      "  620 1250 1270  120  650  180 1130  450 1640 1460 1020 1030  750  640\n",
      " 1070  490 1310  630 2000  390  430  850  210 1430 1950  440  220 1160\n",
      "  860  580 2060 1820 1180  200 1150 1200  680  530 1450 1170 1080  960\n",
      " 1100  280  870  460 1400 1320  660 1220  900  420 1580 1380  475  690\n",
      "  270  350  935 1370  980 1470  160  950   50  740 1780 1900  340  470\n",
      "  370  140 1760  130  610  520  890 1110  150 1720  810  190 1290  670\n",
      " 1800 1120 1810   60 1050  940  310  930 1390 1830 1300  510 1330 1590\n",
      "  920 1420 1240 1960 1560 2020 1190 2110 1280  250 2390 1230  170  830\n",
      " 1260 1410 1340  590 1500 1140  260  100  320 1480 1060 1284 1670 1350\n",
      " 2570 2590 1090  110 2500   90 1940 1550 2350 2490 1481 1360 1135 1520\n",
      " 1850 1660 2130 2600 1690  243 1210 2620 1024 1798 1610 1440 1570 1650\n",
      "  704 1910 1630 2360 1852 2090 2400 1790 2150  230   70 1680 2100 3000\n",
      " 1870 1710 2030  875 1540 2850 2170  506  906  145 2040  784 1750  374\n",
      "  518 2720 2730 1840 3480 2160 1920 2330 1860 2050 4820 1913   80 2010\n",
      " 3260 2200  415 1730  652 2196 1930  515   40 2080 2580 1548 1740  235\n",
      "  861 1890 2220  792 2070 4130 2250 2240  894 1990  768 2550  435 1008\n",
      " 2300 2610  666 3500  172 1816 2190 1245 1525 1880  862  946 1281  414\n",
      " 2180  276 1248  602  516  176  225 1275  266  283   65 2310   10 1770\n",
      " 2120  295  207  915  556  417  143  508 2810   20  274  248]\n",
      "yr_built [1955 1951 1933 1965 1987 2001 1995 1963 1960 2003 1942 1927 1977 1900\n",
      " 1979 1994 1916 1921 1969 1947 1968 1985 1941 1915 1909 1948 2005 1929\n",
      " 1981 1930 1904 1996 2000 1984 2014 1922 1959 1966 1953 1950 2008 1991\n",
      " 1954 1973 1925 1989 1972 1986 1956 2002 1992 1964 1952 1961 2006 1988\n",
      " 1962 1939 1946 1967 1975 1980 1910 1983 1978 1905 1971 2010 1945 1924\n",
      " 1990 1914 1926 2004 1923 2007 1976 1949 1999 1901 1993 1920 1997 1943\n",
      " 1957 1940 1918 1928 1974 1911 1936 1937 1982 1908 1931 1998 1913 2013\n",
      " 1907 1958 2012 1912 2011 1917 1932 1944 1902 2009 1903 1970 2015 1934\n",
      " 1938 1919 1906 1935]\n",
      "yr_renovated [   0 1991 2002 2010 1999 1992 2013 1994 1978 2005 2008 2003 1984 1954\n",
      " 2014 2011 1974 1983 1945 1990 1988 1957 1977 1981 1995 2000 1998 1970\n",
      " 1989 2004 1986 2009 2007 1987 1973 2006 1985 2001 1980 1971 1979 1997\n",
      " 1950 1969 1948 2015 1968 2012 1963 1951 1993 1962 1996 1972 1953 1955\n",
      " 1982 1956 1940 1976 1946 1975 1958 1964 1959 1960 1967 1965 1934 1944]\n",
      "zipcode [98178 98125 98028 98136 98074 98053 98003 98198 98146 98038 98007 98115\n",
      " 98107 98126 98019 98103 98002 98133 98040 98092 98030 98119 98112 98052\n",
      " 98027 98117 98058 98001 98056 98166 98023 98070 98148 98105 98042 98008\n",
      " 98059 98122 98144 98004 98005 98034 98075 98116 98010 98118 98199 98032\n",
      " 98045 98102 98077 98108 98168 98177 98065 98029 98006 98109 98022 98033\n",
      " 98155 98024 98011 98031 98106 98072 98188 98014 98055 98039]\n",
      "lat [47.5112 47.721  47.7379 ... 47.3906 47.3339 47.6502]\n",
      "long [-122.257 -122.319 -122.233 -122.393 -122.045 -122.005 -122.327 -122.315\n",
      " -122.337 -122.031 -122.145 -122.292 -122.229 -122.394 -122.375 -121.962\n",
      " -122.343 -122.21  -122.306 -122.341 -122.169 -122.166 -122.172 -122.218\n",
      " -122.36  -122.314 -122.304 -122.11  -122.07  -122.357 -122.368 -122.157\n",
      " -122.31  -122.132 -122.362 -122.282 -122.18  -122.027 -122.347 -122.016\n",
      " -122.364 -122.175 -121.977 -122.371 -122.151 -122.301 -122.451 -122.322\n",
      " -122.189 -122.384 -122.369 -122.281 -122.29  -122.114 -122.122 -122.116\n",
      " -122.149 -122.339 -122.335 -122.344 -122.32  -122.297 -122.192 -122.215\n",
      " -122.16  -122.179 -122.287 -122.036 -122.073 -121.987 -122.125 -122.34\n",
      " -122.025 -122.008 -122.291 -122.365 -122.199 -122.194 -122.387 -122.372\n",
      " -122.391 -122.351 -122.386 -122.249 -122.277 -122.378 -121.958 -121.714\n",
      " -122.08  -122.196 -122.184 -122.133 -122.38  -122.082 -122.109 -122.053\n",
      " -122.349 -122.295 -122.253 -122.248 -122.303 -122.294 -122.226 -122.266\n",
      " -122.098 -122.212 -122.244 -122.39  -122.352 -121.85  -122.152 -122.054\n",
      " -122.072 -121.998 -122.296 -122.299 -122.381 -122.358 -122.128 -122.171\n",
      " -122.174 -122.026 -122.353 -121.943 -122.286 -122.336 -122.359 -122.162\n",
      " -122.3   -122.176 -121.996 -122.118 -122.193 -122.023 -122.224 -122.168\n",
      " -122.231 -122.331 -122.374 -122.182 -122.308 -122.307 -121.999 -122.376\n",
      " -122.2   -122.039 -122.102 -122.188 -122.379 -122.043 -122.153 -122.191\n",
      " -122.219 -122.312 -121.911 -121.994 -122.165 -122.37  -122.158 -122.047\n",
      " -122.284 -122.017 -122.275 -122.268 -122.367 -122.217 -122.373 -122.013\n",
      " -122.214 -122.034 -122.164 -121.899 -122.183 -121.95  -122.324 -122.216\n",
      " -122.395 -122.213 -122.345 -122.278 -122.111 -121.711 -122.27  -122.178\n",
      " -122.147 -121.772 -122.302 -122.438 -122.223 -122.042 -122.323 -122.255\n",
      " -122.4   -122.261 -122.071 -122.206 -122.272 -122.23  -122.144 -122.143\n",
      " -122.181 -122.154 -122.311 -122.274 -122.077 -122.    -122.298 -122.058\n",
      " -121.837 -122.333 -122.057 -122.252 -122.093 -122.012 -122.052 -122.354\n",
      " -122.22  -122.49  -121.875 -122.24  -122.078 -122.173 -121.854 -122.222\n",
      " -122.28  -122.137 -122.159 -121.974 -122.141 -122.029 -121.709 -122.19\n",
      " -121.97  -122.329 -122.195 -122.06  -121.959 -122.095 -122.148 -122.146\n",
      " -122.35  -121.901 -122.241 -122.129 -122.289 -122.305 -122.022 -122.385\n",
      " -121.779 -122.032 -122.402 -122.482 -122.227 -121.982 -122.161 -122.046\n",
      " -122.156 -122.127 -122.33  -122.197 -122.041 -122.103 -122.318 -122.382\n",
      " -122.271 -121.955 -122.211 -122.262 -122.258 -122.121 -122.221 -122.234\n",
      " -122.089 -122.123 -122.167 -121.909 -122.107 -122.064 -122.066 -122.062\n",
      " -122.264 -122.186 -122.087 -121.88  -121.864 -122.205 -122.363 -122.139\n",
      " -122.018 -122.225 -122.285 -122.084 -122.177 -122.056 -122.316 -122.021\n",
      " -122.348 -122.009 -122.131 -122.411 -122.198 -122.256 -122.117 -122.097\n",
      " -122.075 -121.845 -122.083 -122.259 -121.87  -122.015 -122.007 -121.86\n",
      " -122.409 -121.755 -121.972 -122.251 -122.317 -121.776 -122.115 -122.283\n",
      " -122.242 -122.001 -122.024 -122.309 -122.113 -121.771 -122.239 -122.273\n",
      " -122.396 -122.094 -122.267 -122.326 -122.13  -122.269 -121.853 -122.05\n",
      " -122.346 -122.076 -121.826 -122.124 -121.758 -122.202 -121.785 -121.872\n",
      " -122.006 -122.004 -122.321 -121.882 -122.101 -122.03  -122.185 -122.1\n",
      " -121.759 -121.965 -122.201 -122.366 -122.313 -122.405 -122.02  -122.279\n",
      " -122.355 -121.934 -122.15  -122.356 -121.993 -122.044 -122.134 -121.867\n",
      " -122.01  -121.991 -122.011 -121.983 -122.228 -122.033 -122.276 -122.119\n",
      " -121.937 -122.361 -122.325 -122.203 -122.136 -122.237 -122.209 -122.049\n",
      " -122.288 -122.106 -122.037 -122.207 -122.263 -121.915 -122.204 -122.09\n",
      " -122.069 -121.852 -121.787 -121.976 -122.377 -122.059 -122.383 -121.989\n",
      " -122.019 -122.208 -121.878 -122.328 -122.25  -122.338 -122.388 -122.265\n",
      " -122.332 -122.399 -122.397 -122.014 -121.956 -122.092 -122.028 -122.293\n",
      " -122.12  -122.035 -122.14  -122.04  -122.112 -121.906 -122.17  -122.238\n",
      " -122.512 -121.997 -121.89  -122.463 -121.908 -122.086 -122.389 -121.913\n",
      " -122.163 -121.918 -122.108 -122.502 -122.392 -122.236 -121.859 -121.981\n",
      " -122.342 -121.96  -121.978 -122.47  -121.91  -121.966 -122.065 -122.246\n",
      " -122.41  -121.879 -122.079 -122.099 -122.187 -121.98  -122.002 -122.138\n",
      " -121.898 -122.235 -122.126 -121.782 -121.995 -122.401 -121.858 -121.888\n",
      " -121.752 -122.063 -122.26  -121.78  -121.708 -121.721 -122.403 -121.945\n",
      " -122.243 -122.45  -121.927 -122.085 -122.088 -121.973 -122.055 -122.398\n",
      " -121.984 -121.912 -121.903 -121.946 -122.232 -122.412 -122.104 -122.048\n",
      " -122.479 -122.155 -121.833 -121.778 -122.003 -121.99  -121.926 -122.051\n",
      " -121.986 -122.245 -121.861 -122.431 -121.964 -122.142 -122.074 -122.247\n",
      " -122.497 -121.769 -121.827 -121.979 -121.871 -122.091 -121.754 -121.746\n",
      " -121.92  -121.992 -122.406 -121.359 -121.789 -121.707 -122.068 -122.404\n",
      " -122.334 -121.799 -121.774 -121.985 -121.865 -121.724 -122.415 -121.756\n",
      " -121.809 -122.135 -121.691 -122.038 -121.877 -121.94  -121.968 -121.988\n",
      " -121.315 -121.902 -122.514 -122.414 -121.883 -121.866 -121.744 -122.096\n",
      " -122.061 -121.881 -121.745 -122.461 -122.067 -121.868 -121.646 -121.93\n",
      " -122.105 -121.763 -121.718 -121.967 -121.777 -121.957 -121.823 -121.887\n",
      " -122.408 -122.462 -122.43  -122.456 -121.897 -121.932 -121.969 -121.916\n",
      " -122.081 -121.975 -121.735 -121.801 -121.761 -121.723 -121.924 -122.475\n",
      " -121.935 -122.407 -122.448 -122.453 -121.894 -121.936 -121.764 -122.416\n",
      " -121.905 -122.464 -121.768 -122.484 -121.738 -121.9   -121.82  -122.455\n",
      " -121.889 -122.496 -121.829 -122.505 -121.951 -121.847 -122.509 -121.961\n",
      " -121.417 -121.904 -122.503 -121.949 -121.874 -122.432 -121.971 -121.77\n",
      " -122.473 -121.896 -121.952 -122.254 -121.743 -121.933 -121.892 -121.749\n",
      " -121.473 -121.857 -122.465 -121.838 -121.954 -122.422 -121.931 -121.963\n",
      " -122.441 -121.925 -121.352 -122.511 -122.413 -121.876 -121.748 -121.818\n",
      " -121.8   -121.929 -121.698 -121.886 -121.802 -121.81  -121.762 -121.781\n",
      " -121.775 -122.44  -121.773 -121.819 -121.726 -122.459 -122.446 -121.855\n",
      " -121.736 -122.499 -122.46  -121.786 -122.421 -121.947 -122.439 -121.834\n",
      " -121.804 -122.443 -121.716 -121.848 -122.458 -122.515 -121.922 -121.953\n",
      " -121.783 -122.472 -121.944 -121.869 -121.828 -122.452 -121.831 -121.737\n",
      " -121.739 -121.863 -121.73  -121.856 -121.747 -121.893 -121.733 -121.846\n",
      " -121.821 -121.319 -121.765 -121.75  -122.506 -121.948 -121.921 -122.507\n",
      " -122.457 -121.914 -122.469 -121.792 -121.907 -121.841 -121.757 -121.788\n",
      " -121.731 -122.449 -121.316 -121.321 -122.504 -121.884 -121.803 -121.842\n",
      " -121.719 -121.766 -122.433 -122.519 -121.851 -121.402 -122.454 -122.467\n",
      " -121.325 -121.815 -121.676 -121.941 -122.445 -121.76  -121.885 -121.742\n",
      " -121.822 -121.895 -121.784 -121.701 -121.713 -121.727 -121.849 -121.835\n",
      " -122.435 -122.474 -122.444 -121.939 -121.48  -121.364 -121.767 -122.42\n",
      " -121.84  -122.425 -122.447 -121.797 -122.491 -121.917 -121.891 -121.942\n",
      " -121.862 -121.725 -121.873 -121.405 -122.486 -121.795 -121.734 -121.403]\n",
      "sqft_living15 [1340 1690 2720 1360 1800 4760 2238 1650 1780 2390 2210 1330 1370 2140\n",
      " 1890 1610 1060 1280 1400 4110 2240 1220 2200 1030 1760 1860 1520 2630\n",
      " 2580 1390 1460 1570 2020 1590 2160 1730 1290 2620 2470 2410 3625 1580\n",
      " 3050 1228 2680  970 1190 1990 1410 1480 2730 1950 2250 2690 2960 2270\n",
      " 2570 2500 1440 2750 2221 1010 3390 3530 1640 1510 2420 1940 3240 1680\n",
      "  890 1130 3350 2350 1870 1720 1850 1900 1980 2520 1350 1750 1160 2550\n",
      " 2370 1240 1270 2990 1380 1540 2090 2640 1830 1620 1880 2340 1710 2700\n",
      " 3060 2660 1700 1970 1420 2060 2480 1550 1170 2820 1560 2230 2840 1450\n",
      " 1500 3160 1200 3400 2110 2920 1770 1070 1930 3740 2260 1670 2290 1050\n",
      " 2540 2190 2030 1230 2330 1300 1430 2770 1250 1630 2590 2130 1100 3836\n",
      " 1320 2120 3070 1910 2080 1960 2280 1150 3430 2070 2600  830 1260 3120\n",
      " 2010 1660 1600 2380 3890 4180 2653 2670 3920 2300 2310 2320 3150 1740\n",
      " 2400 4550 2510 2440 2880 3860 2150 1310 1820 3080  880 2560 3470 1020\n",
      " 2040 2610 1810 2860 3480 3130 3360 4050 2450 1790 3180 3600 2000 2430\n",
      " 2850 4680 2360 3930 1490 2460 2077 1920 3630 3220 2100 3230 4300 3850\n",
      " 2424 2530 3030 2830 2900 2950 1470  940 2740 4210 3340 3980 2180 3715\n",
      " 2050 1080 2095 1000 3330 2170 1408 1530 2760 3110  950 3000 1307 2220\n",
      " 4190 3440 3250 1110 2870 1210 2910 1120 4230 1708 3090 3270 2970 1180\n",
      " 3100 4100 2930 3510 2688 1840 2490 4090 2810 3260 3680 3420 1654 1365\n",
      "  980 1677 1140 3640 3460 3140 1502 3720 2790 2940  990 2890  860 4750\n",
      " 1525 3950 5790  760 2234  960 3210 2780 2800 2305 2665 3620 2710 4320\n",
      " 2650 3370 1509 1277 1981 2434 4640 2242 3040 3970 3200 4600  840 3290\n",
      " 2214 1162 3010 5600 3820 3540 1975 4800  740 3990 3170 1576 1768 3310\n",
      " 2980 1429 3900 3380  820 1090 4060 3910 3190 3450 3730  620 3020 3760\n",
      " 3320 1132 3300 3770 3960  870 3560 4620 3520 1572 3490 1088 3159 4470\n",
      " 3570 4890 3690 3280 2083 3780  920 1941 1566  850 2496 1040 3410 4240\n",
      " 4670 4350 1714 5380 4330 3830 5000 2144 1494 1357  930 3580 4250 4080\n",
      " 3660 1458 3736 1894 2037 1295 4170 3750 3550 4630 1439 3500 2091  900\n",
      " 3880 3710 1616  720  800 2315 1564 2767 3721 4650 4020  780 1728 2027\n",
      " 1264 1404 1459 2028 3639 1943 3425 2641 2114 1309 2412 2517 1802 2011\n",
      " 1466 1414 3193 1845 1156 3670 1696 5340 4440 1745 1884 4690 4920 2406\n",
      " 4160 3810 4480 2848 1746 2634 2049 5330 1536 2273 3056 4010 4700  910\n",
      " 2125 1665 2683 3790  700 1855  750 1078 4150 4340 2344 1098 1175 1188\n",
      " 3700 3840 4042 2518 3800 2488 3590 2052  810 1528 5030 4740 5070 2967\n",
      " 4280 2724 3610 3940 4940 4770 1811 4830 2876 1805 1216 5170 1304 2474\n",
      " 4590 4130 1492 1364 2168 4140 3543 1303 2005 3650 2583 4310 2451 1448\n",
      " 2955 2142  790 1638 2554 2441 2216 4220 1961 4540  770 4200 3413 1664\n",
      " 2136 3568 4510 1484 1358 2106 1834 2014 4390 4570 2175 6110 4260  710\n",
      " 2112 1934 1518 1302 2622 2619 2382 4290 4560 4000 1336 3112 4070 1468\n",
      " 1571 2605 1138 5110 4850 2165 4410 1678 5610 1984 4660 3870 4370  460\n",
      " 4610 1914 3515 2246 1786 2109 2326 2728 4400 4950 1767 2054 5500 2555\n",
      " 3674 2765 1862 1352 4030  399 2415 2901 1815 2236 2253 2004 1356 2403\n",
      " 1137 1256 4930 4040 2376 4520 4490 2189 2566 2396 1282 2155 1056 2389\n",
      " 2256 3618 1326 1168 4913  806 1369 2405 2875 1425 5220 1442 2333 3335\n",
      " 1321 3045 1546 4730 2697 2822 2076 1757 4780  952 4270 2075 2667 1092\n",
      " 1217 1716 1792 2961 1125 1463 1886  670 4460 2336 3557 5200 2258 1377\n",
      " 2019 2092 4900 2615 1639 1765 1554 1381 4120 5080 1445 2793 2475  998\n",
      " 2384 2575 1398 1584 2439 2197 2029 4362 1443 4420 1691 2495 2437 2547\n",
      " 6210 2009 1847 1346 2578 2879 2255 2815 1608  690 2425 1481 2458 2358\n",
      " 2056 1921 2419 2996 2502 1798 3087 1076 2981 2363 3191 1763 1876 1949\n",
      " 2598 1979 1415 2002 2574 2166 3726 2099 2154 1522 1544 2912 2648 1658\n",
      " 2755 2798 1405 2704 2738 3008 2586 2873 1232 2597 2516 1537 1128 2849\n",
      " 1399 1131 1569 2381 1084 2304 4530 2297 2279 2303 2669 4225 2513 2725\n",
      " 1955 2527 4443 2478 1919 1813 2533  828 2015 3078 4495 2673 2316 2647\n",
      " 3402 3494 2156 3236 2612 2323 2409 2354 1285 2616 1427 1516 2456 2844\n",
      " 1495 2594 2604 1268 2198 3038 2927]\n",
      "sqft_lot15 [5650 7639 8062 ... 5731 1509 2007]\n",
      "sales_year [2014 2015]\n",
      "sales_month [10 12  2  5  6  1  4  3  7  8 11  9]\n"
     ]
    }
   ],
   "source": [
    "# this part is ungraded, but useful to run to check\n",
    "# your code here\n",
    "\n",
    "for c in df2.columns[2:]:\n",
    "    print(c, df2[c].unique())\n"
   ]
  },
  {
   "cell_type": "markdown",
   "metadata": {
    "deletable": false,
    "editable": false,
    "nbgrader": {
     "cell_type": "markdown",
     "checksum": "f7d6258d4287df3aca3ec49586c01f17",
     "grade": false,
     "grade_id": "cell-ee0110eb32b0b7ad",
     "locked": true,
     "schema_version": 3,
     "solution": false,
     "task": false
    }
   },
   "source": [
    "### 4c) Drop features [5 pts]\n",
    "Let's drop features that are unnecessary. `id` is not a meaningful feature. `date` string has been coded to `sales_month` and `sales_year`, so we can remove `date`. `zipcode` can be also removed as it's hard to include in a linear regressio model and the location info is included in the `lat` and `long`.\n",
    "Drop the features `id`, `date`, and `zipcode` and replace the df2."
   ]
  },
  {
   "cell_type": "code",
   "execution_count": 52,
   "metadata": {
    "deletable": false,
    "nbgrader": {
     "cell_type": "code",
     "checksum": "1cbf99fee58b9ce3909532cc4bfe9ed8",
     "grade": false,
     "grade_id": "cell-fba7fcd19732194e",
     "locked": false,
     "schema_version": 3,
     "solution": true,
     "task": false
    }
   },
   "outputs": [
    {
     "data": {
      "text/plain": [
       "Index(['price', 'bedrooms', 'bathrooms', 'sqft_living', 'sqft_lot', 'floors',\n",
       "       'waterfront', 'view', 'condition', 'grade', 'sqft_above',\n",
       "       'sqft_basement', 'yr_built', 'yr_renovated', 'lat', 'long',\n",
       "       'sqft_living15', 'sqft_lot15', 'sales_year', 'sales_month'],\n",
       "      dtype='object')"
      ]
     },
     "execution_count": 52,
     "metadata": {},
     "output_type": "execute_result"
    }
   ],
   "source": [
    "# drop unnecessary features, replace df2\n",
    "# your code here\n",
    "df2 = df2.drop([\"id\", \"date\", \"zipcode\"], axis = \"columns\")\n",
    "df2.columns"
   ]
  },
  {
   "cell_type": "code",
   "execution_count": 53,
   "metadata": {
    "deletable": false,
    "editable": false,
    "nbgrader": {
     "cell_type": "code",
     "checksum": "168f22892a862f746c7b8f6d4e9b940b",
     "grade": true,
     "grade_id": "cell-09acbfd67a77b038",
     "locked": true,
     "points": 5,
     "schema_version": 3,
     "solution": false,
     "task": false
    }
   },
   "outputs": [],
   "source": [
    "# tests that you droppd the features id, date, and zipcode from df2"
   ]
  },
  {
   "cell_type": "markdown",
   "metadata": {
    "deletable": false,
    "editable": false,
    "nbgrader": {
     "cell_type": "markdown",
     "checksum": "a1c45f66c50ac14cfb30250dc8993dfa",
     "grade": false,
     "grade_id": "cell-c28ed0de4ca75d60",
     "locked": true,
     "schema_version": 3,
     "solution": false,
     "task": false
    }
   },
   "source": [
    "## 5. More inspection; Correlation and pair plot [5 pts and Peer Review]\n",
    "### 5a) Get correlation matrix on the data frame. [5 pts]\n",
    "Which feature may be the best predictor of price based on the correlation? Answer as a string value (e.g. best_guess_predictor = 'price' or best_guess_predictor = 'yr_built')"
   ]
  },
  {
   "cell_type": "code",
   "execution_count": 54,
   "metadata": {},
   "outputs": [
    {
     "data": {
      "text/html": [
       "<div>\n",
       "<style scoped>\n",
       "    .dataframe tbody tr th:only-of-type {\n",
       "        vertical-align: middle;\n",
       "    }\n",
       "\n",
       "    .dataframe tbody tr th {\n",
       "        vertical-align: top;\n",
       "    }\n",
       "\n",
       "    .dataframe thead th {\n",
       "        text-align: right;\n",
       "    }\n",
       "</style>\n",
       "<table border=\"1\" class=\"dataframe\">\n",
       "  <thead>\n",
       "    <tr style=\"text-align: right;\">\n",
       "      <th></th>\n",
       "      <th>price</th>\n",
       "      <th>bedrooms</th>\n",
       "      <th>bathrooms</th>\n",
       "      <th>sqft_living</th>\n",
       "      <th>sqft_lot</th>\n",
       "      <th>floors</th>\n",
       "      <th>waterfront</th>\n",
       "      <th>view</th>\n",
       "      <th>condition</th>\n",
       "      <th>grade</th>\n",
       "      <th>sqft_above</th>\n",
       "      <th>sqft_basement</th>\n",
       "      <th>yr_built</th>\n",
       "      <th>yr_renovated</th>\n",
       "      <th>lat</th>\n",
       "      <th>long</th>\n",
       "      <th>sqft_living15</th>\n",
       "      <th>sqft_lot15</th>\n",
       "      <th>sales_year</th>\n",
       "      <th>sales_month</th>\n",
       "    </tr>\n",
       "  </thead>\n",
       "  <tbody>\n",
       "    <tr>\n",
       "      <th>price</th>\n",
       "      <td>1.000000</td>\n",
       "      <td>0.308350</td>\n",
       "      <td>0.525138</td>\n",
       "      <td>0.702035</td>\n",
       "      <td>0.089661</td>\n",
       "      <td>0.256794</td>\n",
       "      <td>0.266369</td>\n",
       "      <td>0.397293</td>\n",
       "      <td>0.036362</td>\n",
       "      <td>0.667434</td>\n",
       "      <td>0.605567</td>\n",
       "      <td>0.323816</td>\n",
       "      <td>0.054012</td>\n",
       "      <td>0.126434</td>\n",
       "      <td>0.307003</td>\n",
       "      <td>0.021626</td>\n",
       "      <td>0.585379</td>\n",
       "      <td>0.082447</td>\n",
       "      <td>0.003576</td>\n",
       "      <td>-0.010081</td>\n",
       "    </tr>\n",
       "    <tr>\n",
       "      <th>bedrooms</th>\n",
       "      <td>0.308350</td>\n",
       "      <td>1.000000</td>\n",
       "      <td>0.515884</td>\n",
       "      <td>0.576671</td>\n",
       "      <td>0.031703</td>\n",
       "      <td>0.175429</td>\n",
       "      <td>-0.006582</td>\n",
       "      <td>0.079532</td>\n",
       "      <td>0.028472</td>\n",
       "      <td>0.356967</td>\n",
       "      <td>0.477600</td>\n",
       "      <td>0.303093</td>\n",
       "      <td>0.154178</td>\n",
       "      <td>0.018841</td>\n",
       "      <td>-0.008931</td>\n",
       "      <td>0.129473</td>\n",
       "      <td>0.391638</td>\n",
       "      <td>0.029244</td>\n",
       "      <td>-0.009838</td>\n",
       "      <td>-0.001533</td>\n",
       "    </tr>\n",
       "    <tr>\n",
       "      <th>bathrooms</th>\n",
       "      <td>0.525138</td>\n",
       "      <td>0.515884</td>\n",
       "      <td>1.000000</td>\n",
       "      <td>0.754665</td>\n",
       "      <td>0.087740</td>\n",
       "      <td>0.500653</td>\n",
       "      <td>0.063744</td>\n",
       "      <td>0.187737</td>\n",
       "      <td>-0.124982</td>\n",
       "      <td>0.664983</td>\n",
       "      <td>0.685342</td>\n",
       "      <td>0.283770</td>\n",
       "      <td>0.506019</td>\n",
       "      <td>0.050739</td>\n",
       "      <td>0.024573</td>\n",
       "      <td>0.223042</td>\n",
       "      <td>0.568634</td>\n",
       "      <td>0.087175</td>\n",
       "      <td>-0.026596</td>\n",
       "      <td>0.007392</td>\n",
       "    </tr>\n",
       "    <tr>\n",
       "      <th>sqft_living</th>\n",
       "      <td>0.702035</td>\n",
       "      <td>0.576671</td>\n",
       "      <td>0.754665</td>\n",
       "      <td>1.000000</td>\n",
       "      <td>0.172826</td>\n",
       "      <td>0.353949</td>\n",
       "      <td>0.103818</td>\n",
       "      <td>0.284611</td>\n",
       "      <td>-0.058753</td>\n",
       "      <td>0.762704</td>\n",
       "      <td>0.876597</td>\n",
       "      <td>0.435043</td>\n",
       "      <td>0.318049</td>\n",
       "      <td>0.055363</td>\n",
       "      <td>0.052529</td>\n",
       "      <td>0.240223</td>\n",
       "      <td>0.756420</td>\n",
       "      <td>0.183286</td>\n",
       "      <td>-0.029038</td>\n",
       "      <td>0.011810</td>\n",
       "    </tr>\n",
       "    <tr>\n",
       "      <th>sqft_lot</th>\n",
       "      <td>0.089661</td>\n",
       "      <td>0.031703</td>\n",
       "      <td>0.087740</td>\n",
       "      <td>0.172826</td>\n",
       "      <td>1.000000</td>\n",
       "      <td>-0.005201</td>\n",
       "      <td>0.021604</td>\n",
       "      <td>0.074710</td>\n",
       "      <td>-0.008958</td>\n",
       "      <td>0.113621</td>\n",
       "      <td>0.183512</td>\n",
       "      <td>0.015286</td>\n",
       "      <td>0.053080</td>\n",
       "      <td>0.007644</td>\n",
       "      <td>-0.085683</td>\n",
       "      <td>0.229521</td>\n",
       "      <td>0.144608</td>\n",
       "      <td>0.718557</td>\n",
       "      <td>0.005468</td>\n",
       "      <td>-0.002369</td>\n",
       "    </tr>\n",
       "    <tr>\n",
       "      <th>floors</th>\n",
       "      <td>0.256794</td>\n",
       "      <td>0.175429</td>\n",
       "      <td>0.500653</td>\n",
       "      <td>0.353949</td>\n",
       "      <td>-0.005201</td>\n",
       "      <td>1.000000</td>\n",
       "      <td>0.023698</td>\n",
       "      <td>0.029444</td>\n",
       "      <td>-0.263768</td>\n",
       "      <td>0.458183</td>\n",
       "      <td>0.523885</td>\n",
       "      <td>-0.245705</td>\n",
       "      <td>0.489319</td>\n",
       "      <td>0.006338</td>\n",
       "      <td>0.049614</td>\n",
       "      <td>0.125419</td>\n",
       "      <td>0.279885</td>\n",
       "      <td>-0.011269</td>\n",
       "      <td>-0.022315</td>\n",
       "      <td>0.014005</td>\n",
       "    </tr>\n",
       "    <tr>\n",
       "      <th>waterfront</th>\n",
       "      <td>0.266369</td>\n",
       "      <td>-0.006582</td>\n",
       "      <td>0.063744</td>\n",
       "      <td>0.103818</td>\n",
       "      <td>0.021604</td>\n",
       "      <td>0.023698</td>\n",
       "      <td>1.000000</td>\n",
       "      <td>0.401857</td>\n",
       "      <td>0.016653</td>\n",
       "      <td>0.082775</td>\n",
       "      <td>0.072075</td>\n",
       "      <td>0.080588</td>\n",
       "      <td>-0.026161</td>\n",
       "      <td>0.092885</td>\n",
       "      <td>-0.014274</td>\n",
       "      <td>-0.041910</td>\n",
       "      <td>0.086463</td>\n",
       "      <td>0.030703</td>\n",
       "      <td>-0.004165</td>\n",
       "      <td>0.008132</td>\n",
       "    </tr>\n",
       "    <tr>\n",
       "      <th>view</th>\n",
       "      <td>0.397293</td>\n",
       "      <td>0.079532</td>\n",
       "      <td>0.187737</td>\n",
       "      <td>0.284611</td>\n",
       "      <td>0.074710</td>\n",
       "      <td>0.029444</td>\n",
       "      <td>0.401857</td>\n",
       "      <td>1.000000</td>\n",
       "      <td>0.045990</td>\n",
       "      <td>0.251321</td>\n",
       "      <td>0.167649</td>\n",
       "      <td>0.276947</td>\n",
       "      <td>-0.053440</td>\n",
       "      <td>0.103917</td>\n",
       "      <td>0.006157</td>\n",
       "      <td>-0.078400</td>\n",
       "      <td>0.280439</td>\n",
       "      <td>0.072575</td>\n",
       "      <td>0.001364</td>\n",
       "      <td>-0.005638</td>\n",
       "    </tr>\n",
       "    <tr>\n",
       "      <th>condition</th>\n",
       "      <td>0.036362</td>\n",
       "      <td>0.028472</td>\n",
       "      <td>-0.124982</td>\n",
       "      <td>-0.058753</td>\n",
       "      <td>-0.008958</td>\n",
       "      <td>-0.263768</td>\n",
       "      <td>0.016653</td>\n",
       "      <td>0.045990</td>\n",
       "      <td>1.000000</td>\n",
       "      <td>-0.144674</td>\n",
       "      <td>-0.158214</td>\n",
       "      <td>0.174105</td>\n",
       "      <td>-0.361417</td>\n",
       "      <td>-0.060618</td>\n",
       "      <td>-0.014941</td>\n",
       "      <td>-0.106500</td>\n",
       "      <td>-0.092824</td>\n",
       "      <td>-0.003406</td>\n",
       "      <td>-0.045589</td>\n",
       "      <td>0.021978</td>\n",
       "    </tr>\n",
       "    <tr>\n",
       "      <th>grade</th>\n",
       "      <td>0.667434</td>\n",
       "      <td>0.356967</td>\n",
       "      <td>0.664983</td>\n",
       "      <td>0.762704</td>\n",
       "      <td>0.113621</td>\n",
       "      <td>0.458183</td>\n",
       "      <td>0.082775</td>\n",
       "      <td>0.251321</td>\n",
       "      <td>-0.144674</td>\n",
       "      <td>1.000000</td>\n",
       "      <td>0.755923</td>\n",
       "      <td>0.168392</td>\n",
       "      <td>0.446963</td>\n",
       "      <td>0.014414</td>\n",
       "      <td>0.114084</td>\n",
       "      <td>0.198372</td>\n",
       "      <td>0.713202</td>\n",
       "      <td>0.119248</td>\n",
       "      <td>-0.030387</td>\n",
       "      <td>0.008376</td>\n",
       "    </tr>\n",
       "    <tr>\n",
       "      <th>sqft_above</th>\n",
       "      <td>0.605567</td>\n",
       "      <td>0.477600</td>\n",
       "      <td>0.685342</td>\n",
       "      <td>0.876597</td>\n",
       "      <td>0.183512</td>\n",
       "      <td>0.523885</td>\n",
       "      <td>0.072075</td>\n",
       "      <td>0.167649</td>\n",
       "      <td>-0.158214</td>\n",
       "      <td>0.755923</td>\n",
       "      <td>1.000000</td>\n",
       "      <td>-0.051943</td>\n",
       "      <td>0.423898</td>\n",
       "      <td>0.023285</td>\n",
       "      <td>-0.000816</td>\n",
       "      <td>0.343803</td>\n",
       "      <td>0.731870</td>\n",
       "      <td>0.194050</td>\n",
       "      <td>-0.023823</td>\n",
       "      <td>0.009872</td>\n",
       "    </tr>\n",
       "    <tr>\n",
       "      <th>sqft_basement</th>\n",
       "      <td>0.323816</td>\n",
       "      <td>0.303093</td>\n",
       "      <td>0.283770</td>\n",
       "      <td>0.435043</td>\n",
       "      <td>0.015286</td>\n",
       "      <td>-0.245705</td>\n",
       "      <td>0.080588</td>\n",
       "      <td>0.276947</td>\n",
       "      <td>0.174105</td>\n",
       "      <td>0.168392</td>\n",
       "      <td>-0.051943</td>\n",
       "      <td>1.000000</td>\n",
       "      <td>-0.133124</td>\n",
       "      <td>0.071323</td>\n",
       "      <td>0.110538</td>\n",
       "      <td>-0.144765</td>\n",
       "      <td>0.200355</td>\n",
       "      <td>0.017276</td>\n",
       "      <td>-0.015687</td>\n",
       "      <td>0.006035</td>\n",
       "    </tr>\n",
       "    <tr>\n",
       "      <th>yr_built</th>\n",
       "      <td>0.054012</td>\n",
       "      <td>0.154178</td>\n",
       "      <td>0.506019</td>\n",
       "      <td>0.318049</td>\n",
       "      <td>0.053080</td>\n",
       "      <td>0.489319</td>\n",
       "      <td>-0.026161</td>\n",
       "      <td>-0.053440</td>\n",
       "      <td>-0.361417</td>\n",
       "      <td>0.446963</td>\n",
       "      <td>0.423898</td>\n",
       "      <td>-0.133124</td>\n",
       "      <td>1.000000</td>\n",
       "      <td>-0.224874</td>\n",
       "      <td>-0.148122</td>\n",
       "      <td>0.409356</td>\n",
       "      <td>0.326229</td>\n",
       "      <td>0.070958</td>\n",
       "      <td>0.003507</td>\n",
       "      <td>-0.006226</td>\n",
       "    </tr>\n",
       "    <tr>\n",
       "      <th>yr_renovated</th>\n",
       "      <td>0.126434</td>\n",
       "      <td>0.018841</td>\n",
       "      <td>0.050739</td>\n",
       "      <td>0.055363</td>\n",
       "      <td>0.007644</td>\n",
       "      <td>0.006338</td>\n",
       "      <td>0.092885</td>\n",
       "      <td>0.103917</td>\n",
       "      <td>-0.060618</td>\n",
       "      <td>0.014414</td>\n",
       "      <td>0.023285</td>\n",
       "      <td>0.071323</td>\n",
       "      <td>-0.224874</td>\n",
       "      <td>1.000000</td>\n",
       "      <td>0.029398</td>\n",
       "      <td>-0.068372</td>\n",
       "      <td>-0.002673</td>\n",
       "      <td>0.007854</td>\n",
       "      <td>-0.023707</td>\n",
       "      <td>0.012827</td>\n",
       "    </tr>\n",
       "    <tr>\n",
       "      <th>lat</th>\n",
       "      <td>0.307003</td>\n",
       "      <td>-0.008931</td>\n",
       "      <td>0.024573</td>\n",
       "      <td>0.052529</td>\n",
       "      <td>-0.085683</td>\n",
       "      <td>0.049614</td>\n",
       "      <td>-0.014274</td>\n",
       "      <td>0.006157</td>\n",
       "      <td>-0.014941</td>\n",
       "      <td>0.114084</td>\n",
       "      <td>-0.000816</td>\n",
       "      <td>0.110538</td>\n",
       "      <td>-0.148122</td>\n",
       "      <td>0.029398</td>\n",
       "      <td>1.000000</td>\n",
       "      <td>-0.135512</td>\n",
       "      <td>0.048858</td>\n",
       "      <td>-0.086419</td>\n",
       "      <td>-0.029212</td>\n",
       "      <td>0.014961</td>\n",
       "    </tr>\n",
       "    <tr>\n",
       "      <th>long</th>\n",
       "      <td>0.021626</td>\n",
       "      <td>0.129473</td>\n",
       "      <td>0.223042</td>\n",
       "      <td>0.240223</td>\n",
       "      <td>0.229521</td>\n",
       "      <td>0.125419</td>\n",
       "      <td>-0.041910</td>\n",
       "      <td>-0.078400</td>\n",
       "      <td>-0.106500</td>\n",
       "      <td>0.198372</td>\n",
       "      <td>0.343803</td>\n",
       "      <td>-0.144765</td>\n",
       "      <td>0.409356</td>\n",
       "      <td>-0.068372</td>\n",
       "      <td>-0.135512</td>\n",
       "      <td>1.000000</td>\n",
       "      <td>0.334605</td>\n",
       "      <td>0.254451</td>\n",
       "      <td>0.000270</td>\n",
       "      <td>-0.008134</td>\n",
       "    </tr>\n",
       "    <tr>\n",
       "      <th>sqft_living15</th>\n",
       "      <td>0.585379</td>\n",
       "      <td>0.391638</td>\n",
       "      <td>0.568634</td>\n",
       "      <td>0.756420</td>\n",
       "      <td>0.144608</td>\n",
       "      <td>0.279885</td>\n",
       "      <td>0.086463</td>\n",
       "      <td>0.280439</td>\n",
       "      <td>-0.092824</td>\n",
       "      <td>0.713202</td>\n",
       "      <td>0.731870</td>\n",
       "      <td>0.200355</td>\n",
       "      <td>0.326229</td>\n",
       "      <td>-0.002673</td>\n",
       "      <td>0.048858</td>\n",
       "      <td>0.334605</td>\n",
       "      <td>1.000000</td>\n",
       "      <td>0.183192</td>\n",
       "      <td>-0.021734</td>\n",
       "      <td>0.002449</td>\n",
       "    </tr>\n",
       "    <tr>\n",
       "      <th>sqft_lot15</th>\n",
       "      <td>0.082447</td>\n",
       "      <td>0.029244</td>\n",
       "      <td>0.087175</td>\n",
       "      <td>0.183286</td>\n",
       "      <td>0.718557</td>\n",
       "      <td>-0.011269</td>\n",
       "      <td>0.030703</td>\n",
       "      <td>0.072575</td>\n",
       "      <td>-0.003406</td>\n",
       "      <td>0.119248</td>\n",
       "      <td>0.194050</td>\n",
       "      <td>0.017276</td>\n",
       "      <td>0.070958</td>\n",
       "      <td>0.007854</td>\n",
       "      <td>-0.086419</td>\n",
       "      <td>0.254451</td>\n",
       "      <td>0.183192</td>\n",
       "      <td>1.000000</td>\n",
       "      <td>-0.000085</td>\n",
       "      <td>0.003546</td>\n",
       "    </tr>\n",
       "    <tr>\n",
       "      <th>sales_year</th>\n",
       "      <td>0.003576</td>\n",
       "      <td>-0.009838</td>\n",
       "      <td>-0.026596</td>\n",
       "      <td>-0.029038</td>\n",
       "      <td>0.005468</td>\n",
       "      <td>-0.022315</td>\n",
       "      <td>-0.004165</td>\n",
       "      <td>0.001364</td>\n",
       "      <td>-0.045589</td>\n",
       "      <td>-0.030387</td>\n",
       "      <td>-0.023823</td>\n",
       "      <td>-0.015687</td>\n",
       "      <td>0.003507</td>\n",
       "      <td>-0.023707</td>\n",
       "      <td>-0.029212</td>\n",
       "      <td>0.000270</td>\n",
       "      <td>-0.021734</td>\n",
       "      <td>-0.000085</td>\n",
       "      <td>1.000000</td>\n",
       "      <td>-0.782389</td>\n",
       "    </tr>\n",
       "    <tr>\n",
       "      <th>sales_month</th>\n",
       "      <td>-0.010081</td>\n",
       "      <td>-0.001533</td>\n",
       "      <td>0.007392</td>\n",
       "      <td>0.011810</td>\n",
       "      <td>-0.002369</td>\n",
       "      <td>0.014005</td>\n",
       "      <td>0.008132</td>\n",
       "      <td>-0.005638</td>\n",
       "      <td>0.021978</td>\n",
       "      <td>0.008376</td>\n",
       "      <td>0.009872</td>\n",
       "      <td>0.006035</td>\n",
       "      <td>-0.006226</td>\n",
       "      <td>0.012827</td>\n",
       "      <td>0.014961</td>\n",
       "      <td>-0.008134</td>\n",
       "      <td>0.002449</td>\n",
       "      <td>0.003546</td>\n",
       "      <td>-0.782389</td>\n",
       "      <td>1.000000</td>\n",
       "    </tr>\n",
       "  </tbody>\n",
       "</table>\n",
       "</div>"
      ],
      "text/plain": [
       "                  price  bedrooms  bathrooms  sqft_living  sqft_lot    floors  \\\n",
       "price          1.000000  0.308350   0.525138     0.702035  0.089661  0.256794   \n",
       "bedrooms       0.308350  1.000000   0.515884     0.576671  0.031703  0.175429   \n",
       "bathrooms      0.525138  0.515884   1.000000     0.754665  0.087740  0.500653   \n",
       "sqft_living    0.702035  0.576671   0.754665     1.000000  0.172826  0.353949   \n",
       "sqft_lot       0.089661  0.031703   0.087740     0.172826  1.000000 -0.005201   \n",
       "floors         0.256794  0.175429   0.500653     0.353949 -0.005201  1.000000   \n",
       "waterfront     0.266369 -0.006582   0.063744     0.103818  0.021604  0.023698   \n",
       "view           0.397293  0.079532   0.187737     0.284611  0.074710  0.029444   \n",
       "condition      0.036362  0.028472  -0.124982    -0.058753 -0.008958 -0.263768   \n",
       "grade          0.667434  0.356967   0.664983     0.762704  0.113621  0.458183   \n",
       "sqft_above     0.605567  0.477600   0.685342     0.876597  0.183512  0.523885   \n",
       "sqft_basement  0.323816  0.303093   0.283770     0.435043  0.015286 -0.245705   \n",
       "yr_built       0.054012  0.154178   0.506019     0.318049  0.053080  0.489319   \n",
       "yr_renovated   0.126434  0.018841   0.050739     0.055363  0.007644  0.006338   \n",
       "lat            0.307003 -0.008931   0.024573     0.052529 -0.085683  0.049614   \n",
       "long           0.021626  0.129473   0.223042     0.240223  0.229521  0.125419   \n",
       "sqft_living15  0.585379  0.391638   0.568634     0.756420  0.144608  0.279885   \n",
       "sqft_lot15     0.082447  0.029244   0.087175     0.183286  0.718557 -0.011269   \n",
       "sales_year     0.003576 -0.009838  -0.026596    -0.029038  0.005468 -0.022315   \n",
       "sales_month   -0.010081 -0.001533   0.007392     0.011810 -0.002369  0.014005   \n",
       "\n",
       "               waterfront      view  condition     grade  sqft_above  \\\n",
       "price            0.266369  0.397293   0.036362  0.667434    0.605567   \n",
       "bedrooms        -0.006582  0.079532   0.028472  0.356967    0.477600   \n",
       "bathrooms        0.063744  0.187737  -0.124982  0.664983    0.685342   \n",
       "sqft_living      0.103818  0.284611  -0.058753  0.762704    0.876597   \n",
       "sqft_lot         0.021604  0.074710  -0.008958  0.113621    0.183512   \n",
       "floors           0.023698  0.029444  -0.263768  0.458183    0.523885   \n",
       "waterfront       1.000000  0.401857   0.016653  0.082775    0.072075   \n",
       "view             0.401857  1.000000   0.045990  0.251321    0.167649   \n",
       "condition        0.016653  0.045990   1.000000 -0.144674   -0.158214   \n",
       "grade            0.082775  0.251321  -0.144674  1.000000    0.755923   \n",
       "sqft_above       0.072075  0.167649  -0.158214  0.755923    1.000000   \n",
       "sqft_basement    0.080588  0.276947   0.174105  0.168392   -0.051943   \n",
       "yr_built        -0.026161 -0.053440  -0.361417  0.446963    0.423898   \n",
       "yr_renovated     0.092885  0.103917  -0.060618  0.014414    0.023285   \n",
       "lat             -0.014274  0.006157  -0.014941  0.114084   -0.000816   \n",
       "long            -0.041910 -0.078400  -0.106500  0.198372    0.343803   \n",
       "sqft_living15    0.086463  0.280439  -0.092824  0.713202    0.731870   \n",
       "sqft_lot15       0.030703  0.072575  -0.003406  0.119248    0.194050   \n",
       "sales_year      -0.004165  0.001364  -0.045589 -0.030387   -0.023823   \n",
       "sales_month      0.008132 -0.005638   0.021978  0.008376    0.009872   \n",
       "\n",
       "               sqft_basement  yr_built  yr_renovated       lat      long  \\\n",
       "price               0.323816  0.054012      0.126434  0.307003  0.021626   \n",
       "bedrooms            0.303093  0.154178      0.018841 -0.008931  0.129473   \n",
       "bathrooms           0.283770  0.506019      0.050739  0.024573  0.223042   \n",
       "sqft_living         0.435043  0.318049      0.055363  0.052529  0.240223   \n",
       "sqft_lot            0.015286  0.053080      0.007644 -0.085683  0.229521   \n",
       "floors             -0.245705  0.489319      0.006338  0.049614  0.125419   \n",
       "waterfront          0.080588 -0.026161      0.092885 -0.014274 -0.041910   \n",
       "view                0.276947 -0.053440      0.103917  0.006157 -0.078400   \n",
       "condition           0.174105 -0.361417     -0.060618 -0.014941 -0.106500   \n",
       "grade               0.168392  0.446963      0.014414  0.114084  0.198372   \n",
       "sqft_above         -0.051943  0.423898      0.023285 -0.000816  0.343803   \n",
       "sqft_basement       1.000000 -0.133124      0.071323  0.110538 -0.144765   \n",
       "yr_built           -0.133124  1.000000     -0.224874 -0.148122  0.409356   \n",
       "yr_renovated        0.071323 -0.224874      1.000000  0.029398 -0.068372   \n",
       "lat                 0.110538 -0.148122      0.029398  1.000000 -0.135512   \n",
       "long               -0.144765  0.409356     -0.068372 -0.135512  1.000000   \n",
       "sqft_living15       0.200355  0.326229     -0.002673  0.048858  0.334605   \n",
       "sqft_lot15          0.017276  0.070958      0.007854 -0.086419  0.254451   \n",
       "sales_year         -0.015687  0.003507     -0.023707 -0.029212  0.000270   \n",
       "sales_month         0.006035 -0.006226      0.012827  0.014961 -0.008134   \n",
       "\n",
       "               sqft_living15  sqft_lot15  sales_year  sales_month  \n",
       "price               0.585379    0.082447    0.003576    -0.010081  \n",
       "bedrooms            0.391638    0.029244   -0.009838    -0.001533  \n",
       "bathrooms           0.568634    0.087175   -0.026596     0.007392  \n",
       "sqft_living         0.756420    0.183286   -0.029038     0.011810  \n",
       "sqft_lot            0.144608    0.718557    0.005468    -0.002369  \n",
       "floors              0.279885   -0.011269   -0.022315     0.014005  \n",
       "waterfront          0.086463    0.030703   -0.004165     0.008132  \n",
       "view                0.280439    0.072575    0.001364    -0.005638  \n",
       "condition          -0.092824   -0.003406   -0.045589     0.021978  \n",
       "grade               0.713202    0.119248   -0.030387     0.008376  \n",
       "sqft_above          0.731870    0.194050   -0.023823     0.009872  \n",
       "sqft_basement       0.200355    0.017276   -0.015687     0.006035  \n",
       "yr_built            0.326229    0.070958    0.003507    -0.006226  \n",
       "yr_renovated       -0.002673    0.007854   -0.023707     0.012827  \n",
       "lat                 0.048858   -0.086419   -0.029212     0.014961  \n",
       "long                0.334605    0.254451    0.000270    -0.008134  \n",
       "sqft_living15       1.000000    0.183192   -0.021734     0.002449  \n",
       "sqft_lot15          0.183192    1.000000   -0.000085     0.003546  \n",
       "sales_year         -0.021734   -0.000085    1.000000    -0.782389  \n",
       "sales_month         0.002449    0.003546   -0.782389     1.000000  "
      ]
     },
     "execution_count": 54,
     "metadata": {},
     "output_type": "execute_result"
    }
   ],
   "source": [
    "df2.corr()"
   ]
  },
  {
   "cell_type": "code",
   "execution_count": 55,
   "metadata": {
    "deletable": false,
    "nbgrader": {
     "cell_type": "code",
     "checksum": "cb690bf4d70356a08f0ee1f6d5e1545d",
     "grade": false,
     "grade_id": "cell-0e9bdc9ee6161b7e",
     "locked": false,
     "schema_version": 3,
     "solution": true,
     "task": false
    }
   },
   "outputs": [],
   "source": [
    "# your code here\n",
    "\n",
    "# uncomment and update best_guess_predictor with a string value\n",
    "best_guess_predictor = 'sqft_living'"
   ]
  },
  {
   "cell_type": "code",
   "execution_count": 56,
   "metadata": {
    "deletable": false,
    "editable": false,
    "nbgrader": {
     "cell_type": "code",
     "checksum": "cab8b0ff1b82e974b4cf97ca749a863b",
     "grade": true,
     "grade_id": "cell-455e59f31501b283",
     "locked": true,
     "points": 5,
     "schema_version": 3,
     "solution": false,
     "task": false
    }
   },
   "outputs": [],
   "source": [
    "# tests the solution for best_guess_predictor"
   ]
  },
  {
   "cell_type": "markdown",
   "metadata": {
    "deletable": false,
    "editable": false,
    "nbgrader": {
     "cell_type": "markdown",
     "checksum": "1817d93250c95bb59947131cfa2a46dd",
     "grade": false,
     "grade_id": "cell-7120f691348f8907",
     "locked": true,
     "schema_version": 3,
     "solution": false,
     "task": false
    }
   },
   "source": [
    "### 5b) Display the correlation matrix as heat map [Peer Review]\n",
    "[`seaborn.heatmap()`](https://seaborn.pydata.org/generated/seaborn.heatmap.html) can visualize a matrix as a heatmap. Visualize the correlation matrix using seaborn.heatmap(). Play with color map, text font size, decimals, text orientation etc. If you find how to make a pretty visualization, please share in the discussion board. You will upload your correlation matrix in the Peer Review assigment for the week. <br>\n",
    "**Note:** your code for this section may cause the Validate button to time out. If you want to run the Validate button prior to submitting, you could comment out the code in this section after completing the Peer Review."
   ]
  },
  {
   "cell_type": "code",
   "execution_count": 57,
   "metadata": {
    "deletable": false,
    "nbgrader": {
     "cell_type": "code",
     "checksum": "e95f16cad0f32b2a0c93718527f1e245",
     "grade": false,
     "grade_id": "cell-2e19c30b0454fabd",
     "locked": false,
     "schema_version": 3,
     "solution": true,
     "task": false
    }
   },
   "outputs": [
    {
     "ename": "IndentationError",
     "evalue": "unexpected indent (<ipython-input-57-f35d6084355a>, line 12)",
     "output_type": "error",
     "traceback": [
      "\u001b[0;36m  File \u001b[0;32m\"<ipython-input-57-f35d6084355a>\"\u001b[0;36m, line \u001b[0;32m12\u001b[0m\n\u001b[0;31m    square =True, linewidths=.5, cbar_kws={\"shrink\": .5})\u001b[0m\n\u001b[0m    ^\u001b[0m\n\u001b[0;31mIndentationError\u001b[0m\u001b[0;31m:\u001b[0m unexpected indent\n"
     ]
    }
   ],
   "source": [
    "# practice visualizing correlation matrix using a heatmap\n",
    "# your code here\n",
    "\n",
    "#Citation: Seaborn documentation https://seaborn.pydata.org/examples/many_pairwise_correlations.html\n",
    "#Citation: Seaborn documentation https://seaborn.pydata.org/generated/seaborn.diverging_palette.html\n",
    "\n",
    "#corr = df2.corr()\n",
    "#msk = np.triu(np.ones_like(corr, dtype=bool))\n",
    "#(f, ax) = plt.subplots(figsize=(11, 9))\n",
    "#color_map = sns.diverging_palette(275, 10, as_cmap=True)\n",
    "#sns.heatmap(corr, mask = msk, cmap = color_map, center=0, square =True, linewidths=.5, cbar_kws={\"shrink\": .5})"
   ]
  },
  {
   "cell_type": "markdown",
   "metadata": {
    "deletable": false,
    "editable": false,
    "nbgrader": {
     "cell_type": "markdown",
     "checksum": "4bc30478e1041f69ef668e8b3c49d34c",
     "grade": false,
     "grade_id": "cell-b376b65ab6badfa0",
     "locked": true,
     "schema_version": 3,
     "solution": false,
     "task": false
    }
   },
   "source": [
    "### 5c) Pair plot [Peer Review]\n",
    "Pair plot is a fast way to inspect relationships between features. Use seaborn's .pairplot() function to draw a pairplot if the first 10 columns (including price) and inspect their relationships. Set the diagonal elements to be KDE plot. You will upload your pair plot in this week's Peer Review assignment. <br>\n",
    "**Note:** your code for this section may cause the Validate button to time out. If you want to run the Validate button prior to submitting, you could comment out the code in this section after completing the Peer Review."
   ]
  },
  {
   "cell_type": "code",
   "execution_count": 58,
   "metadata": {
    "deletable": false,
    "nbgrader": {
     "cell_type": "code",
     "checksum": "db9c2c0cb30348e3839528115fd1cac4",
     "grade": false,
     "grade_id": "cell-630895ed926e33b7",
     "locked": false,
     "schema_version": 3,
     "solution": true,
     "task": false
    }
   },
   "outputs": [],
   "source": [
    "# practice inspecting relationships between features using a pair plot. \n",
    "# your code here\n",
    "#pairdata = df2.copy(deep = True)\n",
    "#colstodrop = pairdata.columns[10:]\n",
    "#pairdata = pairdata.drop(colstodrop, axis = \"columns\")\n",
    "\n",
    "#sns.pairplot(pairdata, diag_kind = \"kde\")"
   ]
  },
  {
   "cell_type": "markdown",
   "metadata": {
    "deletable": false,
    "editable": false,
    "nbgrader": {
     "cell_type": "markdown",
     "checksum": "17d88751d4b6c6ce5a179f59ead2b6a1",
     "grade": false,
     "grade_id": "cell-a472da53d90eea44",
     "locked": true,
     "schema_version": 3,
     "solution": false,
     "task": false
    }
   },
   "source": [
    "## 6. Simple linear regression [Peer Review]\n",
    "\n",
    "### 6a) Data preparation [Peer Review]\n",
    "We will split the data to train and test datasets such that the test dataset is 20% of original data.\n",
    "Use `sklearn.model_selection.train_test_split` function to split the data frame to X_train and X_test. X_train is 80% of observation randomly chosen. X_test is the rest 20%. Both X_train and X_test are `pd.DataFrame` object and include 'price' in the table. Note that the train_test_split can handle data frame as well as array."
   ]
  },
  {
   "cell_type": "code",
   "execution_count": 59,
   "metadata": {
    "deletable": false,
    "nbgrader": {
     "cell_type": "code",
     "checksum": "5e9fcdf30cfa8d2d20762ef012c40469",
     "grade": false,
     "grade_id": "cell-039f3a4314195737",
     "locked": false,
     "schema_version": 3,
     "solution": true,
     "task": false
    }
   },
   "outputs": [
    {
     "data": {
      "text/html": [
       "<div>\n",
       "<style scoped>\n",
       "    .dataframe tbody tr th:only-of-type {\n",
       "        vertical-align: middle;\n",
       "    }\n",
       "\n",
       "    .dataframe tbody tr th {\n",
       "        vertical-align: top;\n",
       "    }\n",
       "\n",
       "    .dataframe thead th {\n",
       "        text-align: right;\n",
       "    }\n",
       "</style>\n",
       "<table border=\"1\" class=\"dataframe\">\n",
       "  <thead>\n",
       "    <tr style=\"text-align: right;\">\n",
       "      <th></th>\n",
       "      <th>price</th>\n",
       "      <th>bedrooms</th>\n",
       "      <th>bathrooms</th>\n",
       "      <th>sqft_living</th>\n",
       "      <th>sqft_lot</th>\n",
       "      <th>floors</th>\n",
       "      <th>waterfront</th>\n",
       "      <th>view</th>\n",
       "      <th>condition</th>\n",
       "      <th>grade</th>\n",
       "      <th>sqft_above</th>\n",
       "      <th>sqft_basement</th>\n",
       "      <th>yr_built</th>\n",
       "      <th>yr_renovated</th>\n",
       "      <th>lat</th>\n",
       "      <th>long</th>\n",
       "      <th>sqft_living15</th>\n",
       "      <th>sqft_lot15</th>\n",
       "      <th>sales_year</th>\n",
       "      <th>sales_month</th>\n",
       "    </tr>\n",
       "  </thead>\n",
       "  <tbody>\n",
       "    <tr>\n",
       "      <th>16000</th>\n",
       "      <td>325000</td>\n",
       "      <td>3</td>\n",
       "      <td>1.75</td>\n",
       "      <td>1780</td>\n",
       "      <td>11096</td>\n",
       "      <td>1.0</td>\n",
       "      <td>0</td>\n",
       "      <td>0</td>\n",
       "      <td>3</td>\n",
       "      <td>7</td>\n",
       "      <td>1210</td>\n",
       "      <td>570</td>\n",
       "      <td>1979</td>\n",
       "      <td>0</td>\n",
       "      <td>47.6170</td>\n",
       "      <td>-122.051</td>\n",
       "      <td>1780</td>\n",
       "      <td>10640</td>\n",
       "      <td>2014</td>\n",
       "      <td>8</td>\n",
       "    </tr>\n",
       "    <tr>\n",
       "      <th>11286</th>\n",
       "      <td>278000</td>\n",
       "      <td>2</td>\n",
       "      <td>2.50</td>\n",
       "      <td>1420</td>\n",
       "      <td>2229</td>\n",
       "      <td>2.0</td>\n",
       "      <td>0</td>\n",
       "      <td>0</td>\n",
       "      <td>3</td>\n",
       "      <td>7</td>\n",
       "      <td>1420</td>\n",
       "      <td>0</td>\n",
       "      <td>2004</td>\n",
       "      <td>0</td>\n",
       "      <td>47.4871</td>\n",
       "      <td>-122.165</td>\n",
       "      <td>1500</td>\n",
       "      <td>2230</td>\n",
       "      <td>2014</td>\n",
       "      <td>12</td>\n",
       "    </tr>\n",
       "    <tr>\n",
       "      <th>3201</th>\n",
       "      <td>710000</td>\n",
       "      <td>2</td>\n",
       "      <td>1.00</td>\n",
       "      <td>1790</td>\n",
       "      <td>4000</td>\n",
       "      <td>1.0</td>\n",
       "      <td>0</td>\n",
       "      <td>0</td>\n",
       "      <td>4</td>\n",
       "      <td>7</td>\n",
       "      <td>1040</td>\n",
       "      <td>750</td>\n",
       "      <td>1923</td>\n",
       "      <td>0</td>\n",
       "      <td>47.6405</td>\n",
       "      <td>-122.301</td>\n",
       "      <td>1310</td>\n",
       "      <td>4000</td>\n",
       "      <td>2014</td>\n",
       "      <td>5</td>\n",
       "    </tr>\n",
       "    <tr>\n",
       "      <th>11049</th>\n",
       "      <td>389900</td>\n",
       "      <td>4</td>\n",
       "      <td>1.00</td>\n",
       "      <td>1710</td>\n",
       "      <td>117176</td>\n",
       "      <td>1.5</td>\n",
       "      <td>0</td>\n",
       "      <td>0</td>\n",
       "      <td>4</td>\n",
       "      <td>6</td>\n",
       "      <td>1710</td>\n",
       "      <td>0</td>\n",
       "      <td>1942</td>\n",
       "      <td>0</td>\n",
       "      <td>47.4497</td>\n",
       "      <td>-122.212</td>\n",
       "      <td>1940</td>\n",
       "      <td>12223</td>\n",
       "      <td>2014</td>\n",
       "      <td>9</td>\n",
       "    </tr>\n",
       "    <tr>\n",
       "      <th>9716</th>\n",
       "      <td>489000</td>\n",
       "      <td>4</td>\n",
       "      <td>1.00</td>\n",
       "      <td>1150</td>\n",
       "      <td>5217</td>\n",
       "      <td>1.5</td>\n",
       "      <td>0</td>\n",
       "      <td>0</td>\n",
       "      <td>3</td>\n",
       "      <td>7</td>\n",
       "      <td>1150</td>\n",
       "      <td>0</td>\n",
       "      <td>1951</td>\n",
       "      <td>0</td>\n",
       "      <td>47.6806</td>\n",
       "      <td>-122.287</td>\n",
       "      <td>1220</td>\n",
       "      <td>5217</td>\n",
       "      <td>2015</td>\n",
       "      <td>3</td>\n",
       "    </tr>\n",
       "  </tbody>\n",
       "</table>\n",
       "</div>"
      ],
      "text/plain": [
       "        price  bedrooms  bathrooms  sqft_living  sqft_lot  floors  waterfront  \\\n",
       "16000  325000         3       1.75         1780     11096     1.0           0   \n",
       "11286  278000         2       2.50         1420      2229     2.0           0   \n",
       "3201   710000         2       1.00         1790      4000     1.0           0   \n",
       "11049  389900         4       1.00         1710    117176     1.5           0   \n",
       "9716   489000         4       1.00         1150      5217     1.5           0   \n",
       "\n",
       "       view  condition  grade  sqft_above  sqft_basement  yr_built  \\\n",
       "16000     0          3      7        1210            570      1979   \n",
       "11286     0          3      7        1420              0      2004   \n",
       "3201      0          4      7        1040            750      1923   \n",
       "11049     0          4      6        1710              0      1942   \n",
       "9716      0          3      7        1150              0      1951   \n",
       "\n",
       "       yr_renovated      lat     long  sqft_living15  sqft_lot15  sales_year  \\\n",
       "16000             0  47.6170 -122.051           1780       10640        2014   \n",
       "11286             0  47.4871 -122.165           1500        2230        2014   \n",
       "3201              0  47.6405 -122.301           1310        4000        2014   \n",
       "11049             0  47.4497 -122.212           1940       12223        2014   \n",
       "9716              0  47.6806 -122.287           1220        5217        2015   \n",
       "\n",
       "       sales_month  \n",
       "16000            8  \n",
       "11286           12  \n",
       "3201             5  \n",
       "11049            9  \n",
       "9716             3  "
      ]
     },
     "execution_count": 59,
     "metadata": {},
     "output_type": "execute_result"
    }
   ],
   "source": [
    "# your code here\n",
    "\n",
    "# use sklearn.model_selecttion.train_test_split to split the data frame \n",
    "# X_train is 80% of the observations; X_test is 20% of the observations\n",
    "# print length of X_train and X_test\n",
    "\n",
    "from sklearn.model_selection import train_test_split as split\n",
    "(X_train, X_test) = split(df2, train_size = 0.80, random_state = 100)\n",
    "X_train.head()"
   ]
  },
  {
   "cell_type": "code",
   "execution_count": 60,
   "metadata": {
    "deletable": false,
    "nbgrader": {
     "cell_type": "code",
     "checksum": "f2bf386978ef52845a151df844611d17",
     "grade": false,
     "grade_id": "cell-8e12fbb95b41c1fd",
     "locked": false,
     "schema_version": 3,
     "solution": true,
     "task": false
    }
   },
   "outputs": [],
   "source": [
    "# instructor testing cell \n",
    "# your code here\n"
   ]
  },
  {
   "cell_type": "markdown",
   "metadata": {
    "deletable": false,
    "editable": false,
    "nbgrader": {
     "cell_type": "markdown",
     "checksum": "37a92fc0c9eefe07832da4260d3ff84b",
     "grade": false,
     "grade_id": "cell-d4c22fe96e318333",
     "locked": true,
     "schema_version": 3,
     "solution": false,
     "task": false
    }
   },
   "source": [
    "### 6b) Train a simple linear regression model [Peer Review]\n",
    "Use the best_guess_predictor as a single predictor and build a simple linear regression model using `statsmodels.formula.api.ols` function (https://www.statsmodels.org/dev/example_formulas.html)\n",
    "Print out the result summary. Train on the X_train portion. What is the adjusted R-squared value?"
   ]
  },
  {
   "cell_type": "code",
   "execution_count": 61,
   "metadata": {},
   "outputs": [
    {
     "data": {
      "text/html": [
       "<table class=\"simpletable\">\n",
       "<caption>OLS Regression Results</caption>\n",
       "<tr>\n",
       "  <th>Dep. Variable:</th>          <td>price</td>      <th>  R-squared:         </th>  <td>   0.487</td>  \n",
       "</tr>\n",
       "<tr>\n",
       "  <th>Model:</th>                   <td>OLS</td>       <th>  Adj. R-squared:    </th>  <td>   0.487</td>  \n",
       "</tr>\n",
       "<tr>\n",
       "  <th>Method:</th>             <td>Least Squares</td>  <th>  F-statistic:       </th>  <td>1.642e+04</td> \n",
       "</tr>\n",
       "<tr>\n",
       "  <th>Date:</th>             <td>Sun, 03 Apr 2022</td> <th>  Prob (F-statistic):</th>   <td>  0.00</td>   \n",
       "</tr>\n",
       "<tr>\n",
       "  <th>Time:</th>                 <td>02:27:46</td>     <th>  Log-Likelihood:    </th> <td>-2.4030e+05</td>\n",
       "</tr>\n",
       "<tr>\n",
       "  <th>No. Observations:</th>      <td> 17290</td>      <th>  AIC:               </th>  <td>4.806e+05</td> \n",
       "</tr>\n",
       "<tr>\n",
       "  <th>Df Residuals:</th>          <td> 17288</td>      <th>  BIC:               </th>  <td>4.806e+05</td> \n",
       "</tr>\n",
       "<tr>\n",
       "  <th>Df Model:</th>              <td>     1</td>      <th>                     </th>      <td> </td>     \n",
       "</tr>\n",
       "<tr>\n",
       "  <th>Covariance Type:</th>      <td>nonrobust</td>    <th>                     </th>      <td> </td>     \n",
       "</tr>\n",
       "</table>\n",
       "<table class=\"simpletable\">\n",
       "<tr>\n",
       "       <td></td>          <th>coef</th>     <th>std err</th>      <th>t</th>      <th>P>|t|</th>  <th>[0.025</th>    <th>0.975]</th>  \n",
       "</tr>\n",
       "<tr>\n",
       "  <th>Intercept</th>   <td>-4.263e+04</td> <td> 4963.377</td> <td>   -8.589</td> <td> 0.000</td> <td>-5.24e+04</td> <td>-3.29e+04</td>\n",
       "</tr>\n",
       "<tr>\n",
       "  <th>sqft_living</th> <td>  280.6854</td> <td>    2.190</td> <td>  128.149</td> <td> 0.000</td> <td>  276.392</td> <td>  284.979</td>\n",
       "</tr>\n",
       "</table>\n",
       "<table class=\"simpletable\">\n",
       "<tr>\n",
       "  <th>Omnibus:</th>       <td>11909.901</td> <th>  Durbin-Watson:     </th>  <td>   2.018</td> \n",
       "</tr>\n",
       "<tr>\n",
       "  <th>Prob(Omnibus):</th>  <td> 0.000</td>   <th>  Jarque-Bera (JB):  </th> <td>419310.881</td>\n",
       "</tr>\n",
       "<tr>\n",
       "  <th>Skew:</th>           <td> 2.854</td>   <th>  Prob(JB):          </th>  <td>    0.00</td> \n",
       "</tr>\n",
       "<tr>\n",
       "  <th>Kurtosis:</th>       <td>26.441</td>   <th>  Cond. No.          </th>  <td>5.62e+03</td> \n",
       "</tr>\n",
       "</table><br/><br/>Warnings:<br/>[1] Standard Errors assume that the covariance matrix of the errors is correctly specified.<br/>[2] The condition number is large, 5.62e+03. This might indicate that there are<br/>strong multicollinearity or other numerical problems."
      ],
      "text/plain": [
       "<class 'statsmodels.iolib.summary.Summary'>\n",
       "\"\"\"\n",
       "                            OLS Regression Results                            \n",
       "==============================================================================\n",
       "Dep. Variable:                  price   R-squared:                       0.487\n",
       "Model:                            OLS   Adj. R-squared:                  0.487\n",
       "Method:                 Least Squares   F-statistic:                 1.642e+04\n",
       "Date:                Sun, 03 Apr 2022   Prob (F-statistic):               0.00\n",
       "Time:                        02:27:46   Log-Likelihood:            -2.4030e+05\n",
       "No. Observations:               17290   AIC:                         4.806e+05\n",
       "Df Residuals:                   17288   BIC:                         4.806e+05\n",
       "Df Model:                           1                                         \n",
       "Covariance Type:            nonrobust                                         \n",
       "===============================================================================\n",
       "                  coef    std err          t      P>|t|      [0.025      0.975]\n",
       "-------------------------------------------------------------------------------\n",
       "Intercept   -4.263e+04   4963.377     -8.589      0.000   -5.24e+04   -3.29e+04\n",
       "sqft_living   280.6854      2.190    128.149      0.000     276.392     284.979\n",
       "==============================================================================\n",
       "Omnibus:                    11909.901   Durbin-Watson:                   2.018\n",
       "Prob(Omnibus):                  0.000   Jarque-Bera (JB):           419310.881\n",
       "Skew:                           2.854   Prob(JB):                         0.00\n",
       "Kurtosis:                      26.441   Cond. No.                     5.62e+03\n",
       "==============================================================================\n",
       "\n",
       "Warnings:\n",
       "[1] Standard Errors assume that the covariance matrix of the errors is correctly specified.\n",
       "[2] The condition number is large, 5.62e+03. This might indicate that there are\n",
       "strong multicollinearity or other numerical problems.\n",
       "\"\"\""
      ]
     },
     "execution_count": 61,
     "metadata": {},
     "output_type": "execute_result"
    }
   ],
   "source": [
    "#model = smf.ols(formula = 'price ~ sqft_living', data = X_train)\n",
    "\n",
    "#model.fit().summary()"
   ]
  },
  {
   "cell_type": "code",
   "execution_count": 62,
   "metadata": {
    "deletable": false,
    "nbgrader": {
     "cell_type": "code",
     "checksum": "e6711f4aac3baa52c43953c03dfd8538",
     "grade": false,
     "grade_id": "cell-f5291d1c1d6ebee5",
     "locked": false,
     "schema_version": 3,
     "solution": true,
     "task": false
    }
   },
   "outputs": [],
   "source": [
    "# use best_guess_predictor as a single predictor\n",
    "# build a simple linear regression model, train on the X_train portion\n",
    "# your code here\n",
    "\n",
    "#model = model\n",
    "\n",
    "#adj_R2 = 0.487 #update this value according to the result"
   ]
  },
  {
   "cell_type": "markdown",
   "metadata": {
    "deletable": false,
    "editable": false,
    "nbgrader": {
     "cell_type": "markdown",
     "checksum": "3160d14ebef2700538db6f5b9a62867f",
     "grade": false,
     "grade_id": "cell-a69012fe381b2827",
     "locked": true,
     "schema_version": 3,
     "solution": false,
     "task": false
    }
   },
   "source": [
    "### 6c) Best predictor [Peer Review]\n",
    "In question 5a, we picked a best guess predictor for price based on the correlation matrix. Now we will consider whether the best_guess_predictor that we used is still the best.<br>\n",
    "Print out a list ranking all of the predictors. Then print out a list of the top three predictors in order.<br>      \n",
    "Hint: Linear regression uses adjusted R squared as fit performance. <br>\n",
    "In this week's Peer Review, answer the following questions: What were your top three predictors? How did you order your list of predictors to select those as the top ones? Is your top predictor for this section the same as the best guess predictor you selected in question 5a? "
   ]
  },
  {
   "cell_type": "code",
   "execution_count": 87,
   "metadata": {},
   "outputs": [
    {
     "data": {
      "text/html": [
       "<div>\n",
       "<style scoped>\n",
       "    .dataframe tbody tr th:only-of-type {\n",
       "        vertical-align: middle;\n",
       "    }\n",
       "\n",
       "    .dataframe tbody tr th {\n",
       "        vertical-align: top;\n",
       "    }\n",
       "\n",
       "    .dataframe thead th {\n",
       "        text-align: right;\n",
       "    }\n",
       "</style>\n",
       "<table border=\"1\" class=\"dataframe\">\n",
       "  <thead>\n",
       "    <tr style=\"text-align: right;\">\n",
       "      <th></th>\n",
       "      <th>Feature Names</th>\n",
       "      <th>Adjusted R Squared</th>\n",
       "    </tr>\n",
       "  </thead>\n",
       "  <tbody>\n",
       "    <tr>\n",
       "      <th>2</th>\n",
       "      <td>sqft_living</td>\n",
       "      <td>0.493</td>\n",
       "    </tr>\n",
       "    <tr>\n",
       "      <th>8</th>\n",
       "      <td>grade</td>\n",
       "      <td>0.445</td>\n",
       "    </tr>\n",
       "    <tr>\n",
       "      <th>9</th>\n",
       "      <td>sqft_above</td>\n",
       "      <td>0.367</td>\n",
       "    </tr>\n",
       "    <tr>\n",
       "      <th>15</th>\n",
       "      <td>sqft_living15</td>\n",
       "      <td>0.343</td>\n",
       "    </tr>\n",
       "    <tr>\n",
       "      <th>1</th>\n",
       "      <td>bathrooms</td>\n",
       "      <td>0.276</td>\n",
       "    </tr>\n",
       "    <tr>\n",
       "      <th>6</th>\n",
       "      <td>view</td>\n",
       "      <td>0.158</td>\n",
       "    </tr>\n",
       "    <tr>\n",
       "      <th>10</th>\n",
       "      <td>sqft_basement</td>\n",
       "      <td>0.105</td>\n",
       "    </tr>\n",
       "    <tr>\n",
       "      <th>0</th>\n",
       "      <td>bedrooms</td>\n",
       "      <td>0.095</td>\n",
       "    </tr>\n",
       "    <tr>\n",
       "      <th>13</th>\n",
       "      <td>lat</td>\n",
       "      <td>0.094</td>\n",
       "    </tr>\n",
       "    <tr>\n",
       "      <th>5</th>\n",
       "      <td>waterfront</td>\n",
       "      <td>0.071</td>\n",
       "    </tr>\n",
       "    <tr>\n",
       "      <th>4</th>\n",
       "      <td>floors</td>\n",
       "      <td>0.066</td>\n",
       "    </tr>\n",
       "    <tr>\n",
       "      <th>12</th>\n",
       "      <td>yr_renovated</td>\n",
       "      <td>0.016</td>\n",
       "    </tr>\n",
       "    <tr>\n",
       "      <th>3</th>\n",
       "      <td>sqft_lot</td>\n",
       "      <td>0.008</td>\n",
       "    </tr>\n",
       "    <tr>\n",
       "      <th>16</th>\n",
       "      <td>sqft_lot15</td>\n",
       "      <td>0.007</td>\n",
       "    </tr>\n",
       "    <tr>\n",
       "      <th>11</th>\n",
       "      <td>yr_built</td>\n",
       "      <td>0.003</td>\n",
       "    </tr>\n",
       "    <tr>\n",
       "      <th>7</th>\n",
       "      <td>condition</td>\n",
       "      <td>0.001</td>\n",
       "    </tr>\n",
       "    <tr>\n",
       "      <th>14</th>\n",
       "      <td>long</td>\n",
       "      <td>0.000</td>\n",
       "    </tr>\n",
       "    <tr>\n",
       "      <th>17</th>\n",
       "      <td>sales_year</td>\n",
       "      <td>-0.000</td>\n",
       "    </tr>\n",
       "    <tr>\n",
       "      <th>18</th>\n",
       "      <td>sales_month</td>\n",
       "      <td>0.000</td>\n",
       "    </tr>\n",
       "  </tbody>\n",
       "</table>\n",
       "</div>"
      ],
      "text/plain": [
       "    Feature Names  Adjusted R Squared\n",
       "2     sqft_living               0.493\n",
       "8           grade               0.445\n",
       "9      sqft_above               0.367\n",
       "15  sqft_living15               0.343\n",
       "1       bathrooms               0.276\n",
       "6            view               0.158\n",
       "10  sqft_basement               0.105\n",
       "0        bedrooms               0.095\n",
       "13            lat               0.094\n",
       "5      waterfront               0.071\n",
       "4          floors               0.066\n",
       "12   yr_renovated               0.016\n",
       "3        sqft_lot               0.008\n",
       "16     sqft_lot15               0.007\n",
       "11       yr_built               0.003\n",
       "7       condition               0.001\n",
       "14           long               0.000\n",
       "17     sales_year              -0.000\n",
       "18    sales_month               0.000"
      ]
     },
     "execution_count": 87,
     "metadata": {},
     "output_type": "execute_result"
    }
   ],
   "source": [
    "def makeSLR(response, feature, data):\n",
    "    \"\"\"\n",
    "        input: string response, string feature, dataframe data\n",
    "        output: smf.ols object with equation \"response ~ feature\"\n",
    "    \"\"\"\n",
    "    my_formula = response + \"~\" + feature\n",
    "    my_model = smf.ols(my_formula, data = data)\n",
    "    \n",
    "    return(my_model)\n",
    "\n",
    "def getAdjRsq(model):\n",
    "    \"\"\"\n",
    "        input: smf.ols object\n",
    "        output: float64 Adjusted R Squared value\n",
    "    \"\"\"\n",
    "    this_fit = model.fit()\n",
    "    return this_fit.rsquared_adj\n",
    "\n",
    "#featureNames = list(df2.columns[1:])\n",
    "#AdjRSqs = []\n",
    "#for feature in df2.columns[1:]:\n",
    "#    this_model = makeSLR(\"price\", feature, df2)\n",
    "#    this_AdjRSq = round(getAdjRsq(this_model), 3)\n",
    "#    AdjRSqs.append(this_AdjRSq)\n",
    "    \n",
    "#AdjRSqs\n",
    "\n",
    "#d = {'Feature Names': featureNames, 'Adjusted R Squared': AdjRSqs}\n",
    "#AdjRSqData = pd.DataFrame(d)\n",
    "#AdjRSqData.sort_values(by = \"Adjusted R Squared\", ascending = False)\n",
    "\n",
    "# The original indecies are printed in the dataframe, but they are not the rankings. The rankings are the order of printing\n",
    "## top-down."
   ]
  },
  {
   "cell_type": "code",
   "execution_count": 88,
   "metadata": {
    "deletable": false,
    "nbgrader": {
     "cell_type": "code",
     "checksum": "19eb58f3f171dc9a81cac6256d8ec962",
     "grade": false,
     "grade_id": "cell-9ca80c1b78b9ccd7",
     "locked": false,
     "schema_version": 3,
     "solution": true,
     "task": false
    }
   },
   "outputs": [
    {
     "data": {
      "text/plain": [
       "['sqft_living', 'grade', 'sqft_above']"
      ]
     },
     "execution_count": 88,
     "metadata": {},
     "output_type": "execute_result"
    }
   ],
   "source": [
    "# your code here    \n",
    "# uncomment and update top_three\n",
    "\n",
    "#top_three = list(AdjRSqData.sort_values(by = \"Adjusted R Squared\", ascending = False)[\"Feature Names\"][0:3])\n",
    "#top_three"
   ]
  },
  {
   "cell_type": "code",
   "execution_count": 89,
   "metadata": {
    "deletable": false,
    "nbgrader": {
     "cell_type": "code",
     "checksum": "ac8c6bcc83c1bd77bba7c986149cc02d",
     "grade": false,
     "grade_id": "cell-a1c9231f7c678cca",
     "locked": false,
     "schema_version": 3,
     "solution": true,
     "task": false
    }
   },
   "outputs": [],
   "source": [
    "# instructor testing cell \n",
    "# your code here\n"
   ]
  }
 ],
 "metadata": {
  "kernelspec": {
   "display_name": "Python 3",
   "language": "python",
   "name": "python3"
  },
  "language_info": {
   "codemirror_mode": {
    "name": "ipython",
    "version": 3
   },
   "file_extension": ".py",
   "mimetype": "text/x-python",
   "name": "python",
   "nbconvert_exporter": "python",
   "pygments_lexer": "ipython3",
   "version": "3.7.6"
  }
 },
 "nbformat": 4,
 "nbformat_minor": 4
}
