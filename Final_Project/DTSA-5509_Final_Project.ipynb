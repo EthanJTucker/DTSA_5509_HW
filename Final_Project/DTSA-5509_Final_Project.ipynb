{
 "cells": [
  {
   "cell_type": "code",
   "execution_count": 1,
   "id": "fd81a71a-9133-47ba-acea-a292fdeacf18",
   "metadata": {},
   "outputs": [
    {
     "name": "stdout",
     "output_type": "stream",
     "text": [
      "C:\\Users\\first\\Desktop\\Machine_Learning1\\Final_Project\n"
     ]
    }
   ],
   "source": [
    "%cd \"C:/Users/first/Desktop/Machine_Learning1/Final_Project"
   ]
  },
  {
   "cell_type": "code",
   "execution_count": 2,
   "id": "1385d4d3-6481-4e3f-8d27-29df12e5eae0",
   "metadata": {},
   "outputs": [],
   "source": [
    "import cv2 as cv\n",
    "import numpy as np\n",
    "import pandas as pd\n",
    "import sys\n",
    "import os\n",
    "from matplotlib import pyplot as plt\n",
    "from sklearn.model_selection import train_test_split, GridSearchCV\n",
    "from sklearn.neighbors import KNeighborsClassifier\n",
    "from sklearn.metrics import accuracy_score\n",
    "import seaborn as sn\n",
    "from jupyter_dash import JupyterDash\n",
    "import dash\n",
    "from dash import dcc\n",
    "from dash import html\n",
    "import plotly.express as px\n",
    "import plotly.graph_objects as go\n",
    "from dash.dependencies import Input, Output\n",
    "from sklearn.ensemble import AdaBoostClassifier\n",
    "from sklearn.tree import DecisionTreeClassifier"
   ]
  },
  {
   "cell_type": "markdown",
   "id": "03398c59-20e4-4f85-83a9-cde4fa65f15f",
   "metadata": {},
   "source": [
    "# Final Project for DTSA-5509\n",
    "#### Ethan Tucker\n",
    "#### 4/25/22\n",
    "\n",
    "## Introduction and Problem Description\n",
    "\n",
    "Welcome to my final project for DTSA-5509! Before running this notebook, please ensure you have all required dependancies installed in your build. All required packages are listed above. Also if you intend to run this notebook, ensure to place the folder extracted from the data source called \"Rice_Images_Dataset\" containing the image data into a fresh directory called \"data\", and set your local directory to contain \"data\". As a note, the dataset is reasonably large (~1 GB), so download may take a while. Thanks for taking the time to grade my work!\n",
    "\n",
    "For this project I wanted to gain some experience using computer vision software. For our programming assignments we worked with image data, but we never got to import and clean the data ourselves. I went onto [kaggle](https://www.kaggle.com/datasets/muratkokludataset/rice-image-dataset) and found a reasonably standard image dataset containing 5 files, each directory exclusively containing images of a specific rice grain. The possible grain types were:\n",
    "\n",
    "1. Arborio, \n",
    "\n",
    "2. Basmati,\n",
    "\n",
    "3. Ipsala,\n",
    "\n",
    "4. Jasmine,\n",
    "\n",
    "5. Karacadag.\n",
    "\n",
    "According to the kaggle listing, the data were collected ostensibly to help in industrial rice seperators. I'm just interested in giving myself an introduction to computer vision! The obvious ML task is to classify rice grain by image. I'll use two different ML models that we learned in this course:\n",
    "\n",
    "1. A KNN Classifier\n",
    "\n",
    "2. An AdaBoost Classifier\n",
    "\n",
    "I will use sklearn.model_selection.GridSearchCV() to tune the hyper-parameters, but I'll also make graphs to show how and why GridSearchCV is making decisions.\n",
    "\n"
   ]
  },
  {
   "cell_type": "markdown",
   "id": "df20e79b-ecd9-4021-8449-00e0d732cd92",
   "metadata": {},
   "source": [
    "## Exploratory Data Analysis\n",
    "\n",
    "Along with the image data themselves, the authors have created a companion dataset which creates physical metrics for each rice grain. This dataset can be downloaded as \"Rice MSC Dataset\" from https://www.muratkoklu.com/datasets/. I will perform EDA on this dataset instead of the image dataset because the created metrics are much more human-understandable than individual pixel brightnesses. Please download this data and put it in your \"./data\" directory before proceeding with EDA. The codebook for each feature can be found in CINAR, I. and KOKLU, M. (2021). We will only be using some of the variables in the dataset for this EDA - they are printed out in the cell after loading in the data. I chose these features because they represent physical characteristics of the grain itself, rather than abstract statistics."
   ]
  },
  {
   "cell_type": "code",
   "execution_count": 3,
   "id": "54d74007-2b0e-485e-bf5f-a77039133b33",
   "metadata": {},
   "outputs": [
    {
     "data": {
      "text/html": [
       "<div>\n",
       "<style scoped>\n",
       "    .dataframe tbody tr th:only-of-type {\n",
       "        vertical-align: middle;\n",
       "    }\n",
       "\n",
       "    .dataframe tbody tr th {\n",
       "        vertical-align: top;\n",
       "    }\n",
       "\n",
       "    .dataframe thead th {\n",
       "        text-align: right;\n",
       "    }\n",
       "</style>\n",
       "<table border=\"1\" class=\"dataframe\">\n",
       "  <thead>\n",
       "    <tr style=\"text-align: right;\">\n",
       "      <th></th>\n",
       "      <th>AREA</th>\n",
       "      <th>PERIMETER</th>\n",
       "      <th>MAJOR_AXIS</th>\n",
       "      <th>MINOR_AXIS</th>\n",
       "      <th>ECCENTRICITY</th>\n",
       "      <th>EQDIASQ</th>\n",
       "      <th>SOLIDITY</th>\n",
       "      <th>CONVEX_AREA</th>\n",
       "      <th>EXTENT</th>\n",
       "      <th>ASPECT_RATIO</th>\n",
       "      <th>ROUNDNESS</th>\n",
       "      <th>COMPACTNESS</th>\n",
       "      <th>SHAPEFACTOR_1</th>\n",
       "      <th>SHAPEFACTOR_2</th>\n",
       "      <th>SHAPEFACTOR_3</th>\n",
       "      <th>SHAPEFACTOR_4</th>\n",
       "      <th>CLASS</th>\n",
       "    </tr>\n",
       "  </thead>\n",
       "  <tbody>\n",
       "    <tr>\n",
       "      <th>0</th>\n",
       "      <td>7805</td>\n",
       "      <td>437.915</td>\n",
       "      <td>209.8215</td>\n",
       "      <td>48.0221</td>\n",
       "      <td>0.9735</td>\n",
       "      <td>99.6877</td>\n",
       "      <td>0.9775</td>\n",
       "      <td>7985</td>\n",
       "      <td>0.3547</td>\n",
       "      <td>4.3693</td>\n",
       "      <td>0.5114</td>\n",
       "      <td>0.4751</td>\n",
       "      <td>0.0269</td>\n",
       "      <td>0.0062</td>\n",
       "      <td>0.2257</td>\n",
       "      <td>0.9863</td>\n",
       "      <td>Basmati</td>\n",
       "    </tr>\n",
       "    <tr>\n",
       "      <th>1</th>\n",
       "      <td>7503</td>\n",
       "      <td>340.757</td>\n",
       "      <td>138.3361</td>\n",
       "      <td>69.8417</td>\n",
       "      <td>0.8632</td>\n",
       "      <td>97.7400</td>\n",
       "      <td>0.9660</td>\n",
       "      <td>7767</td>\n",
       "      <td>0.6637</td>\n",
       "      <td>1.9807</td>\n",
       "      <td>0.8120</td>\n",
       "      <td>0.7065</td>\n",
       "      <td>0.0184</td>\n",
       "      <td>0.0093</td>\n",
       "      <td>0.4992</td>\n",
       "      <td>0.9888</td>\n",
       "      <td>Arborio</td>\n",
       "    </tr>\n",
       "    <tr>\n",
       "      <th>2</th>\n",
       "      <td>5124</td>\n",
       "      <td>314.617</td>\n",
       "      <td>141.9803</td>\n",
       "      <td>46.5784</td>\n",
       "      <td>0.9447</td>\n",
       "      <td>80.7718</td>\n",
       "      <td>0.9721</td>\n",
       "      <td>5271</td>\n",
       "      <td>0.4760</td>\n",
       "      <td>3.0482</td>\n",
       "      <td>0.6505</td>\n",
       "      <td>0.5689</td>\n",
       "      <td>0.0277</td>\n",
       "      <td>0.0091</td>\n",
       "      <td>0.3236</td>\n",
       "      <td>0.9865</td>\n",
       "      <td>Jasmine</td>\n",
       "    </tr>\n",
       "    <tr>\n",
       "      <th>3</th>\n",
       "      <td>7990</td>\n",
       "      <td>437.085</td>\n",
       "      <td>201.4386</td>\n",
       "      <td>51.2245</td>\n",
       "      <td>0.9671</td>\n",
       "      <td>100.8622</td>\n",
       "      <td>0.9659</td>\n",
       "      <td>8272</td>\n",
       "      <td>0.6274</td>\n",
       "      <td>3.9325</td>\n",
       "      <td>0.5256</td>\n",
       "      <td>0.5007</td>\n",
       "      <td>0.0252</td>\n",
       "      <td>0.0064</td>\n",
       "      <td>0.2507</td>\n",
       "      <td>0.9859</td>\n",
       "      <td>Basmati</td>\n",
       "    </tr>\n",
       "    <tr>\n",
       "      <th>4</th>\n",
       "      <td>7433</td>\n",
       "      <td>342.893</td>\n",
       "      <td>140.3350</td>\n",
       "      <td>68.3927</td>\n",
       "      <td>0.8732</td>\n",
       "      <td>97.2830</td>\n",
       "      <td>0.9831</td>\n",
       "      <td>7561</td>\n",
       "      <td>0.6006</td>\n",
       "      <td>2.0519</td>\n",
       "      <td>0.7944</td>\n",
       "      <td>0.6932</td>\n",
       "      <td>0.0189</td>\n",
       "      <td>0.0092</td>\n",
       "      <td>0.4806</td>\n",
       "      <td>0.9860</td>\n",
       "      <td>Arborio</td>\n",
       "    </tr>\n",
       "  </tbody>\n",
       "</table>\n",
       "</div>"
      ],
      "text/plain": [
       "   AREA  PERIMETER  MAJOR_AXIS  MINOR_AXIS  ECCENTRICITY   EQDIASQ  SOLIDITY  \\\n",
       "0  7805    437.915    209.8215     48.0221        0.9735   99.6877    0.9775   \n",
       "1  7503    340.757    138.3361     69.8417        0.8632   97.7400    0.9660   \n",
       "2  5124    314.617    141.9803     46.5784        0.9447   80.7718    0.9721   \n",
       "3  7990    437.085    201.4386     51.2245        0.9671  100.8622    0.9659   \n",
       "4  7433    342.893    140.3350     68.3927        0.8732   97.2830    0.9831   \n",
       "\n",
       "   CONVEX_AREA  EXTENT  ASPECT_RATIO  ROUNDNESS  COMPACTNESS  SHAPEFACTOR_1  \\\n",
       "0         7985  0.3547        4.3693     0.5114       0.4751         0.0269   \n",
       "1         7767  0.6637        1.9807     0.8120       0.7065         0.0184   \n",
       "2         5271  0.4760        3.0482     0.6505       0.5689         0.0277   \n",
       "3         8272  0.6274        3.9325     0.5256       0.5007         0.0252   \n",
       "4         7561  0.6006        2.0519     0.7944       0.6932         0.0189   \n",
       "\n",
       "   SHAPEFACTOR_2  SHAPEFACTOR_3  SHAPEFACTOR_4    CLASS  \n",
       "0         0.0062         0.2257         0.9863  Basmati  \n",
       "1         0.0093         0.4992         0.9888  Arborio  \n",
       "2         0.0091         0.3236         0.9865  Jasmine  \n",
       "3         0.0064         0.2507         0.9859  Basmati  \n",
       "4         0.0092         0.4806         0.9860  Arborio  "
      ]
     },
     "execution_count": 3,
     "metadata": {},
     "output_type": "execute_result"
    }
   ],
   "source": [
    "path = \"./data/Rice_MSC_Dataset/Rice_MSC_Dataset.xlsx\"\n",
    "sheet_name = \"Rice_MSC_Dataset\"\n",
    "EDAdata = pd.read_excel(path, sheet_name = sheet_name, usecols = \"A:P, DC\")\n",
    "EDAdata.head()"
   ]
  },
  {
   "cell_type": "code",
   "execution_count": 4,
   "id": "cd523bd3-3ac3-4005-95c3-5fbda00e3ce4",
   "metadata": {},
   "outputs": [
    {
     "name": "stdout",
     "output_type": "stream",
     "text": [
      "AREA\n",
      "PERIMETER\n",
      "MAJOR_AXIS\n",
      "MINOR_AXIS\n",
      "ECCENTRICITY\n",
      "EQDIASQ\n",
      "SOLIDITY\n",
      "CONVEX_AREA\n",
      "EXTENT\n",
      "ASPECT_RATIO\n",
      "ROUNDNESS\n",
      "COMPACTNESS\n",
      "SHAPEFACTOR_1\n",
      "SHAPEFACTOR_2\n",
      "SHAPEFACTOR_3\n",
      "SHAPEFACTOR_4\n",
      "CLASS\n"
     ]
    }
   ],
   "source": [
    "#This cell prints the features we will be using in the EDA. All other features in Rice_MSC_Dataset seem to be statistical calculations, which may not have \n",
    "## direct physical meaning (have to do with orientation on image?)\n",
    "\n",
    "for col in EDAdata.columns:\n",
    "    print(col)"
   ]
  },
  {
   "cell_type": "markdown",
   "id": "a17af972-dd27-45bf-b8a8-220aa46ce586",
   "metadata": {},
   "source": [
    "### Correlation Matrix\n",
    "\n",
    "The first thing I'd like to investigate is the correlation between physical parameters across all grains for collinearity purposes, and then investigate the specific variation in physical parameters across the different grains. I'll start with a correlation matrix:"
   ]
  },
  {
   "cell_type": "code",
   "execution_count": 5,
   "id": "6ba91057-57d2-4584-b624-f962dc328f0f",
   "metadata": {},
   "outputs": [
    {
     "data": {
      "text/plain": [
       "<AxesSubplot:>"
      ]
     },
     "execution_count": 5,
     "metadata": {},
     "output_type": "execute_result"
    },
    {
     "data": {
      "image/png": "[encoded data removed]",
      "text/plain": [
       "<Figure size 432x288 with 2 Axes>"
      ]
     },
     "metadata": {
      "needs_background": "light"
     },
     "output_type": "display_data"
    }
   ],
   "source": [
    "corrMatrix = EDAdata.corr()\n",
    "sn.heatmap(corrMatrix)"
   ]
  },
  {
   "cell_type": "markdown",
   "id": "4b5687ca-5c4e-4eec-bd5e-206895d3803d",
   "metadata": {},
   "source": [
    "Quick analysis of correlation matrix: there are many highly covariant features. Some seem to be direct functions of others such: as area being calculated from the major and minor axis lengths, eccentricity also being a function of major and minor axis length, etc. The dataset is highly multicollinear. As such when creating a classifier from this data it is important to only choose some features deemed sufficiently independant. "
   ]
  },
  {
   "cell_type": "markdown",
   "id": "4f6dbc28-3d58-4cb5-8582-e1ea2af98c88",
   "metadata": {},
   "source": [
    "### Violin Plots\n",
    "\n",
    "To show the variation in physical paramters between grain types, I'll use violin plots. To prevent clutter by plotting 16 different violin plots (that's 80 total violins!), I'll use a barebones dash app to allow the user to select which feature they'd like to investigate. To launch the app, just run the below chunks (you may need to run them twice in case an error occurs), and then click on the webpage that app.run_server() generates. Plotly uses all the data available to it, so it may take a few seconds to generate violin plots. Enjoy!\n",
    "\n"
   ]
  },
  {
   "cell_type": "code",
   "execution_count": 6,
   "id": "7fb0deb4-1642-4da4-869d-bbecac8c92d2",
   "metadata": {},
   "outputs": [],
   "source": [
    "app = JupyterDash(__name__)\n",
    "\n",
    "colors = {\n",
    "    'background': '#111111',\n",
    "    'text': '#7FDBFF'\n",
    "}\n",
    "\n",
    "app.layout = html.Div(style={'backgroundColor': colors['background']}, children=[\n",
    "    \n",
    "    dcc.Tabs([\n",
    "        \n",
    "        dcc.Tab(label='', children=[\n",
    "            \n",
    "            html.H1(\n",
    "                children='Violin Plots of Feature Distributions',\n",
    "                style={'textAlign': 'center','color': colors['text']}),\n",
    "            \n",
    "            html.Div(\n",
    "                children='Please select a feature you would like to know the distribution of below. Interaction options are in the upper right of the plot.', \n",
    "                style={'textAlign': 'center','color': colors['text']}),\n",
    "\n",
    "            dcc.Graph(id='Violin_Plot'),\n",
    "            \n",
    "            dcc.Dropdown(\n",
    "                id='Violin_Dropdown',\n",
    "                options=[\n",
    "                    {'label': 'AREA', 'value': 'AREA'},\n",
    "                    {'label': 'PERIMETER', 'value': 'PERIMETER'},\n",
    "                    {'label': 'MAJOR_AXIS', 'value': 'MAJOR_AXIS'},\n",
    "                    {'label': 'MINOR_AXIS', 'value': 'MINOR_AXIS'},\n",
    "                    {'label': 'ECCENTRICITY', 'value': 'ECCENTRICITY'},\n",
    "                    {'label': 'EQDIASQ', 'value': 'EQDIASQ'},\n",
    "                    {'label': 'SOLIDITY', 'value': 'SOLIDITY'},\n",
    "                    {'label': 'CONVEX_AREA', 'value': 'CONVEX_AREA'},\n",
    "                    {'label': 'EXTENT', 'value': 'EXTENT'},\n",
    "                    {'label': 'ASPECT_RATIO', 'value': 'ASPECT_RATIO'},\n",
    "                    {'label': 'ROUNDNESS', 'value': 'ROUNDNESS'},\n",
    "                    {'label': 'COMPACTNESS', 'value': 'COMPACTNESS'},\n",
    "                    {'label': 'SHAPEFACTOR_1', 'value': 'SHAPEFACTOR_1'},\n",
    "                    {'label': 'SHAPEFACTOR_2', 'value': 'SHAPEFACTOR_2'},\n",
    "                    {'label': 'SHAPEFACTOR_3', 'value': 'SHAPEFACTOR_3'},\n",
    "                    {'label': 'SHAPEFACTOR_4', 'value': 'SHAPEFACTOR_4'}\n",
    "                ],\n",
    "                value = \"AREA\",\n",
    "                placeholder = \"Select a variable for the x - axis\"),\n",
    "            \n",
    "            html.Br()\n",
    "        \n",
    "        ]),\n",
    "    ])\n",
    "    ])\n",
    "\n",
    "\n",
    "@app.callback(\n",
    "    Output('Violin_Plot', 'figure'),\n",
    "    Input('Violin_Dropdown', 'value')\n",
    "\n",
    ")\n",
    "def changeViolinAxis(value):\n",
    "    \"\"\"\n",
    "        This callback generates a new violin plot for the x-axis upon user selection\n",
    "        Input: string value, which is a feature name to be plotted\n",
    "        Output: plotly.express.violin figure\n",
    "    \"\"\"\n",
    "    fig = px.violin(EDAdata, x = value, color=\"CLASS\",  \n",
    "                    color_discrete_sequence=[\"white\", \"#d62728\"],\n",
    "                    box=True, hover_data=EDAdata.columns,\n",
    "                    title=\"Probability Density\")\n",
    "\n",
    "    fig.update_layout(\n",
    "        plot_bgcolor=colors['background'],\n",
    "        paper_bgcolor=colors['background'],\n",
    "        font_color=colors['text'],\n",
    "        height = 750\n",
    "    )\n",
    "\n",
    "    fig.update_xaxes(rangemode=\"tozero\")\n",
    "    fig.update_yaxes(rangemode=\"tozero\")\n",
    "            \n",
    "    \n",
    "    return(fig)"
   ]
  },
  {
   "cell_type": "code",
   "execution_count": 7,
   "id": "d9c9613f-d402-4499-9a91-fcd1a0085ec8",
   "metadata": {},
   "outputs": [
    {
     "name": "stdout",
     "output_type": "stream",
     "text": [
      "Dash app running on http://127.0.0.1:8050/\n"
     ]
    }
   ],
   "source": [
    "app.run_server()"
   ]
  },
  {
   "cell_type": "markdown",
   "id": "a15f23f9-0d1e-40a4-bc16-e23e9b9dc680",
   "metadata": {},
   "source": [
    "## Data Pre-Processing and Importation\n",
    "\n",
    "The data importation went reasonably smoothly primarily because all the rice types were only in one file, making the generation of a label vector trivial. The entire dataset was a bit over a gigabyte - there were $15000$ images of each type of rice and they were all $(256, 256)$ jpg's. That's clearly too much to train multiple models on in any given reasonable timescale, especially if I want to tune the hyperparameters. My solution was to rescale the images down to a pre-specified size. I chose $(30, 30)$, which results in $30^2 = 900$ features. For reference, the handwriting programming assignment only used $(28, 28)$ image data, so $(30, 30)$ seems reasonable for images approximately of the same complexity. We need more data than features or else the design matrix becomes singular, so at a minimum we would require 900 datapoints per rice category to estimate all the parameters. I chose $n_{\\text{each}} = 3000$ to allow for good estimates of standard error thus improving model performances.\n",
    "\n",
    "For conversion from image to numerical data I used cv2.imread(filepath, 0) which reads in the image in grayscale. This works very well because rice is white! The backgrounds were black to begin with which likely assists in model accuracy."
   ]
  },
  {
   "cell_type": "code",
   "execution_count": 8,
   "id": "48ca48e9-9c71-4a9a-b174-ced1311b8df4",
   "metadata": {},
   "outputs": [],
   "source": [
    "def readRiceType(current_data, current_labels, n_each, pix, path):\n",
    "    \"\"\"\n",
    "        Appends image data to current_data, and labels to current_labels\n",
    "        Input:  list current_data, \n",
    "                list current_labels,\n",
    "                int n_each, \n",
    "                int pix, \n",
    "                string path. path should be of the form ./data/Rice_Image_Dataset/RiceType/\n",
    "        Output: double (current_data, current_labels)\n",
    "    \"\"\"\n",
    "    # Don't need to loop over label generation because all rice are same type\n",
    "    this_label = path[26:-1]\n",
    "\n",
    "    for img in os.listdir(path)[:n_each]:\n",
    "        filepath = path + img\n",
    "        pic = cv.imread(filepath, 0)\n",
    "        pic = cv.resize(pic, (pix, pix)) # If performance allows, increase resize!\n",
    "        # An interesting project would be for an (n, n) image, model performance vs n.\n",
    "        current_data.append([pic])\n",
    "        current_labels.append(this_label)\n",
    "        \n",
    "    return (current_data, current_labels)\n",
    "\n",
    "#Load in 3000 rice of each type w/ chosen hyperparams\n",
    "types_of_rice = os.listdir(\"./data/Rice_Image_Dataset/\")[:-1]\n",
    "data = []\n",
    "labels = []\n",
    "n_each = 3000 # Could increase if performance allows!\n",
    "pix = 30\n",
    "\n",
    "for rice_type in types_of_rice:\n",
    "    path = \"./data/Rice_Image_Dataset/\" + rice_type + \"/\"\n",
    "    (data, labels) = readRiceType(data, labels, n_each, pix, path)\n",
    "    \n",
    "\n",
    "\n",
    "savePath = \"./data\"\n",
    "np.save(os.path.join(savePath,'features'),np.array(data))\n",
    "features = np.load(os.path.join(savePath,'features.npy'))[:, 0, :, :]\n",
    "total_rice = n_each * 5 # There are five grain types\n",
    "\n",
    "assert total_rice == len(features)\n",
    "\n",
    "features = features.reshape(total_rice, pix**2)\n",
    "labels = np.asarray(labels)\n",
    "np.save(os.path.join(savePath, \"labels\"), labels)"
   ]
  },
  {
   "cell_type": "code",
   "execution_count": 9,
   "id": "35ad65ac-1333-46b2-9d2b-f2c0ebfdadd6",
   "metadata": {},
   "outputs": [],
   "source": [
    "X_train, X_test, y_train, y_test = train_test_split(features, labels, test_size = 0.20, random_state = 0)\n"
   ]
  },
  {
   "cell_type": "markdown",
   "id": "9dec8f08-8bbe-485a-8272-755479b39d3d",
   "metadata": {},
   "source": [
    "# Analysis and Results"
   ]
  },
  {
   "cell_type": "markdown",
   "id": "db1c1ba5-5fe5-4041-8cd1-d1a1b9103201",
   "metadata": {},
   "source": [
    "## KNN Classifier\n",
    "\n",
    "I will use sklearn for models in this project. The KNN classifier I use is sklearn.neighbors.KNeighbors(). My computer has 16 processors in CPU0, so I pass n_jobs = -1 to expedite model creation - remove this argument if you want to retain CPU functionality while models are being constructed. This may additionally cause an error if you don't have at least 14 processors in CPU0. "
   ]
  },
  {
   "cell_type": "code",
   "execution_count": 13,
   "id": "455ee45f-fdc4-4d83-b287-4e32d06de5bd",
   "metadata": {},
   "outputs": [
    {
     "name": "stdout",
     "output_type": "stream",
     "text": [
      "{'n_neighbors': 4} 0.9661666666666667\n"
     ]
    }
   ],
   "source": [
    "KNN = KNeighborsClassifier()\n",
    "param_to_try = {\"n_neighbors\" : [i for i in range(1, 11)]}\n",
    "grid = GridSearchCV(estimator = KNN, param_grid = param_to_try, n_jobs = -1)\n",
    "\n",
    "grid.fit(X_train, y_train)\n",
    "\n",
    "print(grid.best_params_ , grid.best_score_)"
   ]
  },
  {
   "cell_type": "code",
   "execution_count": 15,
   "id": "f85b7cea-b599-4a28-ae1f-6ccba9e463a1",
   "metadata": {},
   "outputs": [
    {
     "data": {
      "image/png": "[encoded data removed]",
      "text/plain": [
       "<Figure size 432x288 with 1 Axes>"
      ]
     },
     "metadata": {
      "needs_background": "light"
     },
     "output_type": "display_data"
    }
   ],
   "source": [
    "KNN_results_dic = grid.cv_results_\n",
    "KNN_results = pd.DataFrame(KNN_results_dic)\n",
    "n_neighbors = list(KNN_results[\"param_n_neighbors\"])\n",
    "mean_score = list(KNN_results[\"mean_test_score\"])\n",
    "\n",
    "# This plots n_neighbors vs mean test score\n",
    "\n",
    "plt.plot(n_neighbors, mean_score)\n",
    "plt.xlabel(\"Number of neighbors K\")\n",
    "plt.ylabel(\"Mean Cross Validation Score\")\n",
    "plt.title(\"K Vs. Mean CVS\")\n",
    "plt.show()"
   ]
  },
  {
   "cell_type": "code",
   "execution_count": 16,
   "id": "1677b23f-bafc-4cb8-87db-3c0e5acf9e5a",
   "metadata": {},
   "outputs": [
    {
     "name": "stdout",
     "output_type": "stream",
     "text": [
      "0.9723333333333334\n"
     ]
    }
   ],
   "source": [
    "bestKNN = grid.best_estimator_\n",
    "yhat = bestKNN.predict(X_test)\n",
    "model_accuracy = accuracy_score(y_true = y_test, y_pred = yhat)\n",
    "\n",
    "print(model_accuracy)"
   ]
  },
  {
   "cell_type": "markdown",
   "id": "a556ed03-21e7-4073-acdf-48ae3dc5de01",
   "metadata": {},
   "source": [
    "### KNN Classifier Analysis:\n",
    "\n",
    "In general, KNN classifiers run into issues when the user picks too high a value for K. High dimensional data can be quite sparse, and so allowing K to range too high amounts to the introduction of noise into the model. I ran a GridSearchCV on the data using 5-fold cross validation to optimize accuracy over a range of possible K values. The results are plotted above. K = 4 was the optimal choice as measured by mean CVS. The corresponding mean CVS was 0.966. The K = 4 model returned a test accuracy of 0.972, which is quite good for a 5 category classifier."
   ]
  },
  {
   "cell_type": "markdown",
   "id": "87ed13d9-ba80-4c78-bc6d-ea61f7e5a282",
   "metadata": {},
   "source": [
    "## AdaBoost Classifier\n",
    "\n",
    "The base tree I will use is a sklearn DecisionTreeClassifier (obviously, we're doing classification). This chunk will take a while to run, because AdaBoost classifiers cannot be parallelized! "
   ]
  },
  {
   "cell_type": "code",
   "execution_count": 26,
   "id": "cb61c41b-7fb3-4f08-a7ff-cbc15f2efb8b",
   "metadata": {},
   "outputs": [
    {
     "data": {
      "text/plain": [
       "AdaBoostClassifier(base_estimator=DecisionTreeClassifier(max_depth=3),\n",
       "                   random_state=0)"
      ]
     },
     "execution_count": 26,
     "metadata": {},
     "output_type": "execute_result"
    }
   ],
   "source": [
    "classifier = DecisionTreeClassifier(max_depth = 3)\n",
    "n_trees = 50\n",
    "AdaBoost = AdaBoostClassifier(base_estimator = classifier, n_estimators = n_trees, random_state = 0)\n",
    "\n",
    "AdaBoost.fit(X_train, y_train)"
   ]
  },
  {
   "cell_type": "code",
   "execution_count": 27,
   "id": "00f97a41-5b1a-4112-b93e-8e907d05e14d",
   "metadata": {},
   "outputs": [
    {
     "name": "stdout",
     "output_type": "stream",
     "text": [
      "0.78\n"
     ]
    }
   ],
   "source": [
    "yhat = AdaBoost.predict(X_test)\n",
    "model_accuracy = accuracy_score(y_true = y_test, y_pred = yhat)\n",
    "\n",
    "print(model_accuracy)"
   ]
  },
  {
   "cell_type": "markdown",
   "id": "6861f434-e582-4961-b09b-5534e9392dcd",
   "metadata": {},
   "source": [
    "## AdaBoost Classifier Analysis\n",
    "\n",
    "AdaBoost classifiers strictly get better as a function of the number of trees. As such we can skip a costly call to GridSearchCV and just specify the number of trees we are willing to pay for. That said, as is clear from this example adaBoost classifiers converge quite slowly. This is a reason why Random Forests are a popular ensemble where computation time is a concern. The model accuracy was not even close to being as accurate as the KNN classifier, and it took much longer to train. For a sufficiently high number of trees or a sufficiently long train time, it is likely that the accuracy of the adaBoost classifier can be made to exceed that of the KNN classifier, but not at any reasonable level of expense. "
   ]
  },
  {
   "cell_type": "markdown",
   "id": "416e3738-2794-4ce8-b6be-4724cdaf338d",
   "metadata": {},
   "source": [
    "# Discussion / Conclusion\n",
    "\n",
    "For this project I wanted experience handling image data and using computer vision libraries. I gained experience with the cv2 library, and learned how to efficiently convert images from .jpg's to MAT format. According to the documentation, cv2.imread() works not only for .jpgs but many different image filetypes, which makes it a very useful tool! In the future I want to try using the edge analysis methods included in the software to expedite model construction.\n",
    "\n",
    "The EDA performed shows that the different rice grains have vastly differnent distributions of their physical characteristics. As such it becomes meaningful to create classification models using their physical appearance. This data was quite clean from the get go - next time I'd like to use some messier data to get practice cleaning image data. That said, libraries such as pandas, cv2, and pillow are so extensive that I can't image any cleaning would be that difficult. \n",
    "\n",
    "In terms of the models constructed, the KNN classifier vastly outperformed the adaBoost classifier both in computation time and more importantly accuracy. The accuracy of the best KNN model was $97.2 \\%$ on the test data! The adaBoost only yielded $78\\%$ for the specified tree count. As previously stated, we could wait until the end of time for an adaBoost with thousands of trees to train, but I'd rather use my life for something better. In retrospect, a random forest classifier would have executed faster because I could parallelize the training using an n_jobs argument. Lesson learned.\n",
    "\n",
    "Thank you for taking the time to grade my work, and I look forward to seeing yours!\n",
    "\n",
    "-Ethan Tucker"
   ]
  },
  {
   "cell_type": "markdown",
   "id": "5d30d0a1-1108-46f8-8547-f0e2e7eb6171",
   "metadata": {},
   "source": [
    "# Bibliography:\n",
    "\n",
    "[Kaggle Listing](https://www.kaggle.com/datasets/muratkokludataset/rice-image-dataset)\n",
    "\n",
    "Data can be downloaded at https://www.muratkoklu.com/datasets/ under \"Rice Image Dataset\" as of 4/25/22. As follows are the requested citations:\n",
    "\n",
    "1: KOKLU, M., CINAR, I. and TASPINAR, Y. S. (2021). Classification of rice varieties with deep learning methods. Computers and Electronics in Agriculture, 187, 106285.\n",
    "\n",
    "DOI: https://doi.org/10.1016/j.compag.2021.106285\n",
    "\n",
    "2: CINAR, I. and KOKLU, M. (2021). Determination of Effective and Specific Physical Features of Rice Varieties by Computer Vision In Exterior Quality Inspection. Selcuk Journal of Agriculture and Food Sciences, 35(3), 229-243.\n",
    "\n",
    "DOI: https://doi.org/10.15316/SJAFS.2021.252\n",
    "\n",
    "3: CINAR, I. and KOKLU, M. (2022). Identification of Rice Varieties Using Machine Learning Algorithms. Journal of Agricultural Sciences, 28 (2), 307-325.\n",
    "\n",
    "DOI: https://doi.org/10.15832/ankutbd.862482\n",
    "\n",
    "4: CINAR, I. and KOKLU, M. (2019). Classification of Rice Varieties Using Artificial Intelligence Methods. International Journal of Intelligent Systems and Applications in Engineering, 7(3), 188-194.\n",
    "\n",
    "DOI: https://doi.org/10.18201/ijisae.2019355381\n",
    "\n"
   ]
  },
  {
   "cell_type": "markdown",
   "id": "d7c75235-b97d-40e3-a5ae-d9afad15a7f6",
   "metadata": {},
   "source": [
    "Great documentation sources I used:\n",
    "\n",
    "1. https://docs.opencv.org/4.x/d6/d00/tutorial_py_root.html\n",
    "\n",
    "2. https://pythonprogramming.altervista.org/pixelize-an-image-with-pil-and-python/?doing_wp_cron=1650869345.1507990360260009765625\n",
    "\n",
    "3. https://medium.com/analytics-vidhya/create-your-own-real-image-dataset-with-python-deep-learning-b2576b63da1e"
   ]
  },
  {
   "cell_type": "markdown",
   "id": "e0a7829c-bf43-4298-bcf2-6ac9f7410a46",
   "metadata": {},
   "source": [
    "# System Information"
   ]
  },
  {
   "cell_type": "code",
   "execution_count": 260,
   "id": "400d7520-79ed-4af8-b456-b768bc2a754b",
   "metadata": {},
   "outputs": [
    {
     "name": "stdout",
     "output_type": "stream",
     "text": [
      "Windows-10-10.0.19044-SP0\n",
      "Intel64 Family 6 Model 141 Stepping 1, GenuineIntel\n",
      "3.9.7\n"
     ]
    }
   ],
   "source": [
    "import platform\n",
    "print(platform.platform())\n",
    "print(platform.processor())\n",
    "print(platform.python_version())"
   ]
  }
 ],
 "metadata": {
  "kernelspec": {
   "display_name": "Python 3 (ipykernel)",
   "language": "python",
   "name": "python3"
  },
  "language_info": {
   "codemirror_mode": {
    "name": "ipython",
    "version": 3
   },
   "file_extension": ".py",
   "mimetype": "text/x-python",
   "name": "python",
   "nbconvert_exporter": "python",
   "pygments_lexer": "ipython3",
   "version": "3.9.7"
  }
 },
 "nbformat": 4,
 "nbformat_minor": 5
}
